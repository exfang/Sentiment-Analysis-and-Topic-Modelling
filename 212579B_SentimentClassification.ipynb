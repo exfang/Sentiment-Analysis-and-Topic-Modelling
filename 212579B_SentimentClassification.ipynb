{
 "cells": [
  {
   "attachments": {
    "NYPLogo.png": {
     "image/png": "[encoded data removed]"
    }
   },
   "cell_type": "markdown",
   "metadata": {},
   "source": [
    "![NYPLogo.png](attachment:NYPLogo.png)\n",
    "\n",
    "# ITB251 Assignment - Task 1: Sentiment Classification\n",
    "\n",
    "You are required to build a sentiment classification model predict the sentiment of the review text. Businesses will be able to use this model to predict the sentiment of a new review.\n",
    "\n",
    "Complete the following sub-tasks:\n",
    "1.\t**Data Understanding**: Examine the dataset\n",
    "2.\t**Data Preparation**: Prepares the data and all necessary pre-processing tasks\n",
    "3.\t**Modelling**: Use different text representation and modelling algorithms\n",
    "4.\t**Evaluation**: Evaluates results from the algorithms and select the best model\n",
    "\n",
    "For each sub-task, perform the necessary steps and **explain the rationale taken for each step in this Jupyter notebook**. \n",
    "\n",
    "**Done by: Andrew Fang 212579B**"
   ]
  },
  {
   "cell_type": "markdown",
   "metadata": {},
   "source": [
    "## Import libraries and download the packages"
   ]
  },
  {
   "cell_type": "code",
   "execution_count": 1,
   "metadata": {},
   "outputs": [],
   "source": [
    "# Import necessary libraries\n",
    "import numpy as np\n",
    "import pandas as pd\n",
    "import matplotlib.pyplot as plt\n",
    "import nltk\n",
    "import re\n",
    "from nltk.probability import FreqDist"
   ]
  },
  {
   "cell_type": "markdown",
   "metadata": {},
   "source": [
    "## Read the dataset"
   ]
  },
  {
   "cell_type": "code",
   "execution_count": 2,
   "metadata": {},
   "outputs": [
    {
     "data": {
      "text/html": [
       "<div>\n",
       "<style scoped>\n",
       "    .dataframe tbody tr th:only-of-type {\n",
       "        vertical-align: middle;\n",
       "    }\n",
       "\n",
       "    .dataframe tbody tr th {\n",
       "        vertical-align: top;\n",
       "    }\n",
       "\n",
       "    .dataframe thead th {\n",
       "        text-align: right;\n",
       "    }\n",
       "</style>\n",
       "<table border=\"1\" class=\"dataframe\">\n",
       "  <thead>\n",
       "    <tr style=\"text-align: right;\">\n",
       "      <th></th>\n",
       "      <th>Unnamed: 0</th>\n",
       "      <th>review_id</th>\n",
       "      <th>date</th>\n",
       "      <th>name</th>\n",
       "      <th>categories</th>\n",
       "      <th>text</th>\n",
       "      <th>stars</th>\n",
       "    </tr>\n",
       "  </thead>\n",
       "  <tbody>\n",
       "    <tr>\n",
       "      <th>0</th>\n",
       "      <td>15</td>\n",
       "      <td>Af6Jnf8F5xBliuixStWF8g</td>\n",
       "      <td>2019-09-20</td>\n",
       "      <td>\"Soccer Zone\"</td>\n",
       "      <td>Shopping;Sporting Goods</td>\n",
       "      <td>I'll admit it.  I caught World Cup fever in 20...</td>\n",
       "      <td>4</td>\n",
       "    </tr>\n",
       "    <tr>\n",
       "      <th>1</th>\n",
       "      <td>18</td>\n",
       "      <td>j-6-I55-9EiKNGAjoLHx9A</td>\n",
       "      <td>2020-06-30</td>\n",
       "      <td>\"Fye\"</td>\n",
       "      <td>Shopping;Books;Mags;Music &amp; Video;Music &amp; DVDs</td>\n",
       "      <td>This store has gone through some management ch...</td>\n",
       "      <td>4</td>\n",
       "    </tr>\n",
       "    <tr>\n",
       "      <th>2</th>\n",
       "      <td>46</td>\n",
       "      <td>wCwl4NC1CxkRIAg2RcLzig</td>\n",
       "      <td>2020-09-28</td>\n",
       "      <td>\"By Design\"</td>\n",
       "      <td>Home &amp; Garden;Furniture Stores;Shopping</td>\n",
       "      <td>By Design sells funky ultra modern furniture. ...</td>\n",
       "      <td>3</td>\n",
       "    </tr>\n",
       "  </tbody>\n",
       "</table>\n",
       "</div>"
      ],
      "text/plain": [
       "   Unnamed: 0               review_id        date           name  \\\n",
       "0          15  Af6Jnf8F5xBliuixStWF8g  2019-09-20  \"Soccer Zone\"   \n",
       "1          18  j-6-I55-9EiKNGAjoLHx9A  2020-06-30          \"Fye\"   \n",
       "2          46  wCwl4NC1CxkRIAg2RcLzig  2020-09-28    \"By Design\"   \n",
       "\n",
       "                                       categories  \\\n",
       "0                         Shopping;Sporting Goods   \n",
       "1  Shopping;Books;Mags;Music & Video;Music & DVDs   \n",
       "2         Home & Garden;Furniture Stores;Shopping   \n",
       "\n",
       "                                                text  stars  \n",
       "0  I'll admit it.  I caught World Cup fever in 20...      4  \n",
       "1  This store has gone through some management ch...      4  \n",
       "2  By Design sells funky ultra modern furniture. ...      3  "
      ]
     },
     "execution_count": 2,
     "metadata": {},
     "output_type": "execute_result"
    }
   ],
   "source": [
    "df = pd.read_csv(\"shopping_reviews.csv\")\n",
    "df.head(3)"
   ]
  },
  {
   "cell_type": "markdown",
   "metadata": {},
   "source": [
    "## Data Understanding\n",
    "Perform the necessary steps and explain the rationale taken here.\n",
    "\n"
   ]
  },
  {
   "cell_type": "code",
   "execution_count": 3,
   "metadata": {},
   "outputs": [
    {
     "name": "stdout",
     "output_type": "stream",
     "text": [
      "Number of records in the dataframe: 36422\n",
      "Number of columns in the dataframe: 7\n"
     ]
    }
   ],
   "source": [
    "print(\"Number of records in the dataframe:\",df.shape[0])\n",
    "print(\"Number of columns in the dataframe:\",df.shape[1])"
   ]
  },
  {
   "cell_type": "code",
   "execution_count": 4,
   "metadata": {},
   "outputs": [
    {
     "name": "stdout",
     "output_type": "stream",
     "text": [
      "Columns in the dataframe:\n"
     ]
    },
    {
     "data": {
      "text/plain": [
       "Index(['Unnamed: 0', 'review_id', 'date', 'name', 'categories', 'text',\n",
       "       'stars'],\n",
       "      dtype='object')"
      ]
     },
     "execution_count": 4,
     "metadata": {},
     "output_type": "execute_result"
    }
   ],
   "source": [
    "print(\"Columns in the dataframe:\")\n",
    "df.columns"
   ]
  },
  {
   "cell_type": "code",
   "execution_count": 5,
   "metadata": {},
   "outputs": [
    {
     "name": "stdout",
     "output_type": "stream",
     "text": [
      "<class 'pandas.core.frame.DataFrame'>\n",
      "RangeIndex: 36422 entries, 0 to 36421\n",
      "Data columns (total 7 columns):\n",
      " #   Column      Non-Null Count  Dtype \n",
      "---  ------      --------------  ----- \n",
      " 0   Unnamed: 0  36422 non-null  int64 \n",
      " 1   review_id   36422 non-null  object\n",
      " 2   date        36422 non-null  object\n",
      " 3   name        36422 non-null  object\n",
      " 4   categories  36422 non-null  object\n",
      " 5   text        36422 non-null  object\n",
      " 6   stars       36422 non-null  int64 \n",
      "dtypes: int64(2), object(5)\n",
      "memory usage: 1.9+ MB\n"
     ]
    }
   ],
   "source": [
    "df.info()"
   ]
  },
  {
   "cell_type": "markdown",
   "metadata": {},
   "source": [
    "The index of the dataframe ranges from 0 to 36421.\n",
    "\n",
    "The datatype of the columns seem to be correct."
   ]
  },
  {
   "cell_type": "code",
   "execution_count": 6,
   "metadata": {},
   "outputs": [
    {
     "name": "stdout",
     "output_type": "stream",
     "text": [
      "Percentage of null in the columns:\n"
     ]
    },
    {
     "data": {
      "text/plain": [
       "Unnamed: 0    0.0\n",
       "review_id     0.0\n",
       "date          0.0\n",
       "name          0.0\n",
       "categories    0.0\n",
       "text          0.0\n",
       "stars         0.0\n",
       "dtype: float64"
      ]
     },
     "execution_count": 6,
     "metadata": {},
     "output_type": "execute_result"
    }
   ],
   "source": [
    "print(\"Percentage of null in the columns:\")\n",
    "df.isna().sum()/df.shape[0]"
   ]
  },
  {
   "cell_type": "markdown",
   "metadata": {},
   "source": [
    "There are no null values in any of the columns."
   ]
  },
  {
   "cell_type": "markdown",
   "metadata": {},
   "source": [
    "### Data Understanding - Columns 'Unnamed: 0' and 'review_id'"
   ]
  },
  {
   "cell_type": "code",
   "execution_count": 7,
   "metadata": {},
   "outputs": [
    {
     "name": "stdout",
     "output_type": "stream",
     "text": [
      "How unique are the Unnamed: 0 and review_id?\n",
      "Uniqueness Percentage of column 'Unnamed: 0': 100.0\n",
      "Uniqueness Percentage of column 'review_id': 100.0\n"
     ]
    }
   ],
   "source": [
    "print(\"How unique are the Unnamed: 0 and review_id?\")\n",
    "print(\"Uniqueness Percentage of column 'Unnamed: 0':\",(df['Unnamed: 0'].nunique()/df.shape[0])*100)\n",
    "print(\"Uniqueness Percentage of column 'review_id':\",(df['review_id'].nunique()/df.shape[0])*100)"
   ]
  },
  {
   "cell_type": "markdown",
   "metadata": {},
   "source": [
    "A uniqueness percentage of 100% means that it is 100% unique.\n",
    "\n",
    "These columns are unique identifiers for each record in the dataframe. They have high dimensionality and are not relevant to the target, which is to classify the positive and negative texts. Therefore, these columns will be removed later."
   ]
  },
  {
   "cell_type": "markdown",
   "metadata": {},
   "source": [
    "### Data Understanding - Columns 'date'"
   ]
  },
  {
   "cell_type": "code",
   "execution_count": 8,
   "metadata": {},
   "outputs": [
    {
     "name": "stdout",
     "output_type": "stream",
     "text": [
      "Earlist text recorded: 2019-01-01\n",
      "Latest text recorded: 2020-12-31\n"
     ]
    }
   ],
   "source": [
    "print(\"Earlist text recorded:\",df.date.min())\n",
    "print(\"Latest text recorded:\",df.date.max())"
   ]
  },
  {
   "cell_type": "markdown",
   "metadata": {},
   "source": [
    "The dataframe contains data from 2019 to 2020, 2 years worth of data."
   ]
  },
  {
   "cell_type": "code",
   "execution_count": 9,
   "metadata": {},
   "outputs": [],
   "source": [
    "# Convert the date column to datetype column\n",
    "df['yyyy-mm'] = pd.to_datetime(df.date).dt.strftime('%Y-%m')\n",
    "\n",
    "# Get unique months and number of records in respective month\n",
    "months = sorted(df['yyyy-mm'].unique())\n",
    "occurrence = list(df.groupby('yyyy-mm').size())\n",
    "\n",
    "# Zip the months and its respective occurrence\n",
    "occurrence_month = list(zip(months, occurrence))"
   ]
  },
  {
   "cell_type": "code",
   "execution_count": 10,
   "metadata": {},
   "outputs": [
    {
     "data": {
      "image/png": "[encoded data removed]",
      "text/plain": [
       "<Figure size 1300x600 with 1 Axes>"
      ]
     },
     "metadata": {},
     "output_type": "display_data"
    }
   ],
   "source": [
    "# Checking the distribution of reviews across the time period\n",
    "fig = plt.figure(figsize=(13, 6))\n",
    "plt.plot(sorted(df['yyyy-mm'].unique()), df.groupby('yyyy-mm').size(), marker='v')\n",
    "plt.xticks(rotation=90, ha='right')\n",
    "plt.title('Number of reviews over the months', fontsize=14)\n",
    "plt.xlabel('Year', fontsize=14)\n",
    "plt.ylabel('Number of review', fontsize=14)\n",
    "plt.show()"
   ]
  },
  {
   "cell_type": "code",
   "execution_count": 11,
   "metadata": {},
   "outputs": [
    {
     "name": "stdout",
     "output_type": "stream",
     "text": [
      "Difference between the highest and lowest number of reviews: 1327\n"
     ]
    }
   ],
   "source": [
    "print(\"Difference between the highest and lowest number of reviews:\",max(occurrence)-min(occurrence))"
   ]
  },
  {
   "cell_type": "markdown",
   "metadata": {},
   "source": [
    "Based on the line chart, the spread of reviews across the months is fairly distributed with each month having at least 700 records. The difference between the highest and lowest review months being 1327 reviews."
   ]
  },
  {
   "cell_type": "markdown",
   "metadata": {},
   "source": [
    "### Data Understanding - Columns 'name'"
   ]
  },
  {
   "cell_type": "code",
   "execution_count": 12,
   "metadata": {},
   "outputs": [
    {
     "name": "stdout",
     "output_type": "stream",
     "text": [
      "Number of unique store names in the dataframe: 7475\n"
     ]
    }
   ],
   "source": [
    "print(\"Number of unique store names in the dataframe:\",df.name.nunique())"
   ]
  },
  {
   "cell_type": "markdown",
   "metadata": {},
   "source": [
    "This dataframe contains lots of unique store names. Therefore, I will not analyze the spread of sentiment across individual stores."
   ]
  },
  {
   "cell_type": "code",
   "execution_count": 13,
   "metadata": {},
   "outputs": [
    {
     "data": {
      "text/plain": [
       "\"Encore\"                          408\n",
       "\"Trader Joe's\"                    395\n",
       "\"Target\"                          313\n",
       "\"Walmart Supercenter\"             306\n",
       "\"Total Wine & More\"               246\n",
       "                                 ... \n",
       "\"David's Shoes\"                     1\n",
       "\"Yes of Course\"                     1\n",
       "\"Sporting Life Bikes & Boards\"      1\n",
       "\"Million Tapis et Tuiles\"           1\n",
       "\"Fresh Boutique\"                    1\n",
       "Name: name, Length: 7475, dtype: int64"
      ]
     },
     "execution_count": 13,
     "metadata": {},
     "output_type": "execute_result"
    }
   ],
   "source": [
    "# Check if the top store name is null or any weird value.\n",
    "df.name.value_counts()"
   ]
  },
  {
   "cell_type": "markdown",
   "metadata": {},
   "source": [
    "Based on the counts, there seems to not have any weird values apart from occasional weird store names such as 'Yes of Course'."
   ]
  },
  {
   "cell_type": "code",
   "execution_count": 14,
   "metadata": {},
   "outputs": [
    {
     "name": "stdout",
     "output_type": "stream",
     "text": [
      "Percentage of stores that have 1 review only in the dataframe: 8 %\n"
     ]
    }
   ],
   "source": [
    "print(\"Percentage of stores that have 1 review only in the dataframe:\",round((((df.groupby(df.name.tolist()).size() == 1).sum())/df.shape[0])*100),\"%\")"
   ]
  },
  {
   "cell_type": "markdown",
   "metadata": {},
   "source": [
    "The number of stores that have only 1 review belongs to roughly 8% of the records in the dataframe.\n",
    "\n",
    "The other 92% belongs to stores that have more than 1 reviews of their store."
   ]
  },
  {
   "cell_type": "markdown",
   "metadata": {},
   "source": [
    "### Data Understanding - Columns 'categories'"
   ]
  },
  {
   "cell_type": "code",
   "execution_count": 15,
   "metadata": {},
   "outputs": [
    {
     "name": "stdout",
     "output_type": "stream",
     "text": [
      "Number of unique categories in the dataframe: 6568\n"
     ]
    }
   ],
   "source": [
    "print(\"Number of unique categories in the dataframe:\",df.categories.nunique())"
   ]
  },
  {
   "cell_type": "code",
   "execution_count": 16,
   "metadata": {},
   "outputs": [
    {
     "data": {
      "text/plain": [
       "0                           Shopping;Sporting Goods\n",
       "1    Shopping;Books;Mags;Music & Video;Music & DVDs\n",
       "2           Home & Garden;Furniture Stores;Shopping\n",
       "3      Nurseries & Gardening;Home & Garden;Shopping\n",
       "4                           Sporting Goods;Shopping\n",
       "Name: categories, dtype: object"
      ]
     },
     "execution_count": 16,
     "metadata": {},
     "output_type": "execute_result"
    }
   ],
   "source": [
    "df.categories.head()"
   ]
  },
  {
   "cell_type": "markdown",
   "metadata": {},
   "source": [
    "The categories seem to be clustered with a separator ';'. \n",
    "\n",
    "Therefore, the value 6568 identified earlier represents the group of categories, not the individual categories.\n",
    "\n",
    "In order to have a better data exploration, these categories need to be separated."
   ]
  },
  {
   "cell_type": "code",
   "execution_count": 17,
   "metadata": {},
   "outputs": [],
   "source": [
    "# Store the categories in a list for manipulation.\n",
    "categories = [category for category in df['categories']]"
   ]
  },
  {
   "cell_type": "code",
   "execution_count": 18,
   "metadata": {},
   "outputs": [
    {
     "data": {
      "text/plain": [
       "['Shopping Sporting_Goods',\n",
       " 'Shopping Books Mags Music_Video Music_DVDs',\n",
       " 'Home_Garden Furniture_Stores Shopping',\n",
       " 'Nurseries_Gardening Home_Garden Shopping',\n",
       " 'Sporting_Goods Shopping']"
      ]
     },
     "execution_count": 18,
     "metadata": {},
     "output_type": "execute_result"
    }
   ],
   "source": [
    "# Iterate through the list and substitute the ';' with spaces.\n",
    "# Convert categories with '&' to be joined with an underscore.\n",
    "strip = list(map(lambda x: re.sub(';', ' ', re.sub('[ &()]+', '_', x)), categories))\n",
    "strip[:5]"
   ]
  },
  {
   "cell_type": "code",
   "execution_count": 19,
   "metadata": {},
   "outputs": [],
   "source": [
    "# Tokenize the individual categories\n",
    "tokenized_category_list = [sorted(nltk.word_tokenize(category)) for category in strip]"
   ]
  },
  {
   "cell_type": "code",
   "execution_count": 20,
   "metadata": {},
   "outputs": [],
   "source": [
    "# Store all categories (regardless of duplicates)\n",
    "category_list = [category for lists in tokenized_category_list for category in lists]"
   ]
  },
  {
   "cell_type": "code",
   "execution_count": 21,
   "metadata": {},
   "outputs": [],
   "source": [
    "# Extract the unique categories\n",
    "unique_categories = set(category_list)"
   ]
  },
  {
   "cell_type": "code",
   "execution_count": 22,
   "metadata": {
    "scrolled": true
   },
   "outputs": [
    {
     "name": "stdout",
     "output_type": "stream",
     "text": [
      "Number of unique categories in the dataframe: 678\n"
     ]
    }
   ],
   "source": [
    "print('Number of unique categories in the dataframe:',len(unique_categories))"
   ]
  },
  {
   "cell_type": "code",
   "execution_count": 23,
   "metadata": {},
   "outputs": [
    {
     "name": "stdout",
     "output_type": "stream",
     "text": [
      "Example of categories in the dataframe\n"
     ]
    },
    {
     "data": {
      "text/plain": [
       "['Pet_Sitting', 'Car_Auctions', 'Mags', 'Comedy_Clubs', 'Makeup_Artists']"
      ]
     },
     "execution_count": 23,
     "metadata": {},
     "output_type": "execute_result"
    }
   ],
   "source": [
    "print(\"Example of categories in the dataframe\")\n",
    "list(unique_categories)[:5]"
   ]
  },
  {
   "cell_type": "code",
   "execution_count": 24,
   "metadata": {},
   "outputs": [
    {
     "name": "stdout",
     "output_type": "stream",
     "text": [
      "Top 10 categories in the dataframe\n"
     ]
    },
    {
     "data": {
      "text/plain": [
       "Shopping             36422\n",
       "Fashion              11061\n",
       "Food                  5150\n",
       "Home_Garden           4994\n",
       "Women's_Clothing      4346\n",
       "Flowers_Gifts         3191\n",
       "Department_Stores     3188\n",
       "Music_Video           2796\n",
       "Mags                  2796\n",
       "Books                 2796\n",
       "dtype: int64"
      ]
     },
     "execution_count": 24,
     "metadata": {},
     "output_type": "execute_result"
    }
   ],
   "source": [
    "print(\"Top 10 categories in the dataframe\")\n",
    "pd.value_counts(category_list).head(10)"
   ]
  },
  {
   "cell_type": "markdown",
   "metadata": {},
   "source": [
    "The categories give a general idea of what type of stores the texts are from. \n",
    "\n",
    "The texts are from mostly related to shopping, fashion, food, and others."
   ]
  },
  {
   "cell_type": "markdown",
   "metadata": {},
   "source": [
    "### Data Understanding - Columns 'text'"
   ]
  },
  {
   "cell_type": "code",
   "execution_count": 25,
   "metadata": {},
   "outputs": [
    {
     "data": {
      "text/plain": [
       "0    I'll admit it.  I caught World Cup fever in 20...\n",
       "1    This store has gone through some management ch...\n",
       "2    By Design sells funky ultra modern furniture. ...\n",
       "3    I don't have much of a greenthumb, thankfully ...\n",
       "4    I am only ever going to this Sports Authority ...\n",
       "Name: text, dtype: object"
      ]
     },
     "execution_count": 25,
     "metadata": {},
     "output_type": "execute_result"
    }
   ],
   "source": [
    "df.text.head()"
   ]
  },
  {
   "cell_type": "markdown",
   "metadata": {},
   "source": [
    "This will be the column used for text classification. It contains the customer's review toward the store and contains words that affect the overall text sentiment."
   ]
  },
  {
   "cell_type": "code",
   "execution_count": 26,
   "metadata": {},
   "outputs": [
    {
     "name": "stdout",
     "output_type": "stream",
     "text": [
      "Percentage of unique texts in the dataframe 99.97254406677283 %\n"
     ]
    }
   ],
   "source": [
    "print(\"Percentage of unique texts in the dataframe\",(df.text.nunique()/df.shape[0])*100,\"%\")"
   ]
  },
  {
   "cell_type": "markdown",
   "metadata": {},
   "source": [
    "There seem to have some duplicates in the text since the percentage is not 100% unique."
   ]
  },
  {
   "cell_type": "markdown",
   "metadata": {},
   "source": [
    "### Data Understanding and Preparation - Checking and Removing duplicates in text column."
   ]
  },
  {
   "cell_type": "code",
   "execution_count": 27,
   "metadata": {
    "scrolled": true
   },
   "outputs": [
    {
     "name": "stdout",
     "output_type": "stream",
     "text": [
      "Percentage of unique texts in the dataframe 99.97254406677283 %\n"
     ]
    }
   ],
   "source": [
    "print(\"Percentage of unique texts in the dataframe\",(df.text.nunique()/df.shape[0])*100,\"%\")"
   ]
  },
  {
   "cell_type": "code",
   "execution_count": 28,
   "metadata": {},
   "outputs": [
    {
     "name": "stdout",
     "output_type": "stream",
     "text": [
      "Number of duplicated texts: 10\n"
     ]
    }
   ],
   "source": [
    "print(\"Number of duplicated texts:\",len(df[df.duplicated(subset='text')]))"
   ]
  },
  {
   "cell_type": "code",
   "execution_count": 29,
   "metadata": {},
   "outputs": [
    {
     "data": {
      "text/html": [
       "<div>\n",
       "<style scoped>\n",
       "    .dataframe tbody tr th:only-of-type {\n",
       "        vertical-align: middle;\n",
       "    }\n",
       "\n",
       "    .dataframe tbody tr th {\n",
       "        vertical-align: top;\n",
       "    }\n",
       "\n",
       "    .dataframe thead th {\n",
       "        text-align: right;\n",
       "    }\n",
       "</style>\n",
       "<table border=\"1\" class=\"dataframe\">\n",
       "  <thead>\n",
       "    <tr style=\"text-align: right;\">\n",
       "      <th></th>\n",
       "      <th>Unnamed: 0</th>\n",
       "      <th>review_id</th>\n",
       "      <th>date</th>\n",
       "      <th>name</th>\n",
       "      <th>categories</th>\n",
       "      <th>text</th>\n",
       "      <th>stars</th>\n",
       "      <th>yyyy-mm</th>\n",
       "    </tr>\n",
       "  </thead>\n",
       "  <tbody>\n",
       "    <tr>\n",
       "      <th>4454</th>\n",
       "      <td>44208</td>\n",
       "      <td>ap04xvg5qzR3Z_NyplaWoQ</td>\n",
       "      <td>2019-07-03</td>\n",
       "      <td>\"Clinton Cards\"</td>\n",
       "      <td>Art Supplies;Shopping;Flowers &amp; Gifts;Cards &amp; ...</td>\n",
       "      <td>I have to be honest and say I don't really see...</td>\n",
       "      <td>2</td>\n",
       "      <td>2019-07</td>\n",
       "    </tr>\n",
       "    <tr>\n",
       "      <th>20561</th>\n",
       "      <td>212655</td>\n",
       "      <td>063_M7x370zH_tTPsSkTzQ</td>\n",
       "      <td>2020-11-04</td>\n",
       "      <td>\"Ace Hardware\"</td>\n",
       "      <td>Hardware Stores;Home &amp; Garden;Shopping</td>\n",
       "      <td>Union Hills Ace Hardware is really great.. the...</td>\n",
       "      <td>5</td>\n",
       "      <td>2020-11</td>\n",
       "    </tr>\n",
       "    <tr>\n",
       "      <th>21345</th>\n",
       "      <td>221974</td>\n",
       "      <td>q2gxE-9bxP85opJGS5bm3A</td>\n",
       "      <td>2020-12-31</td>\n",
       "      <td>\"Urban Outfitters\"</td>\n",
       "      <td>Home &amp; Garden;Fashion;Women's Clothing;Shoppin...</td>\n",
       "      <td>Score! When I went over Christmas they were ha...</td>\n",
       "      <td>4</td>\n",
       "      <td>2020-12</td>\n",
       "    </tr>\n",
       "    <tr>\n",
       "      <th>21510</th>\n",
       "      <td>223196</td>\n",
       "      <td>RPj6HJ25oV5KqH-dbgkYhA</td>\n",
       "      <td>2020-02-20</td>\n",
       "      <td>\"Sephora\"</td>\n",
       "      <td>Cosmetics &amp; Beauty Supply;Beauty &amp; Spas;Shopping</td>\n",
       "      <td>I love Sephora.  The associates are always fri...</td>\n",
       "      <td>5</td>\n",
       "      <td>2020-02</td>\n",
       "    </tr>\n",
       "    <tr>\n",
       "      <th>23959</th>\n",
       "      <td>246519</td>\n",
       "      <td>6lpuDI4PrrUY_5lWcV8vug</td>\n",
       "      <td>2020-05-10</td>\n",
       "      <td>\"Mega Furniture\"</td>\n",
       "      <td>Home &amp; Garden;Furniture Stores;Shopping;Mattre...</td>\n",
       "      <td>Too good to be true...because its not true! I ...</td>\n",
       "      <td>1</td>\n",
       "      <td>2020-05</td>\n",
       "    </tr>\n",
       "  </tbody>\n",
       "</table>\n",
       "</div>"
      ],
      "text/plain": [
       "       Unnamed: 0               review_id        date                name  \\\n",
       "4454        44208  ap04xvg5qzR3Z_NyplaWoQ  2019-07-03     \"Clinton Cards\"   \n",
       "20561      212655  063_M7x370zH_tTPsSkTzQ  2020-11-04      \"Ace Hardware\"   \n",
       "21345      221974  q2gxE-9bxP85opJGS5bm3A  2020-12-31  \"Urban Outfitters\"   \n",
       "21510      223196  RPj6HJ25oV5KqH-dbgkYhA  2020-02-20           \"Sephora\"   \n",
       "23959      246519  6lpuDI4PrrUY_5lWcV8vug  2020-05-10    \"Mega Furniture\"   \n",
       "\n",
       "                                              categories  \\\n",
       "4454   Art Supplies;Shopping;Flowers & Gifts;Cards & ...   \n",
       "20561             Hardware Stores;Home & Garden;Shopping   \n",
       "21345  Home & Garden;Fashion;Women's Clothing;Shoppin...   \n",
       "21510   Cosmetics & Beauty Supply;Beauty & Spas;Shopping   \n",
       "23959  Home & Garden;Furniture Stores;Shopping;Mattre...   \n",
       "\n",
       "                                                    text  stars  yyyy-mm  \n",
       "4454   I have to be honest and say I don't really see...      2  2019-07  \n",
       "20561  Union Hills Ace Hardware is really great.. the...      5  2020-11  \n",
       "21345  Score! When I went over Christmas they were ha...      4  2020-12  \n",
       "21510  I love Sephora.  The associates are always fri...      5  2020-02  \n",
       "23959  Too good to be true...because its not true! I ...      1  2020-05  "
      ]
     },
     "execution_count": 29,
     "metadata": {},
     "output_type": "execute_result"
    }
   ],
   "source": [
    "df[df.duplicated(subset='text')].head()"
   ]
  },
  {
   "cell_type": "markdown",
   "metadata": {},
   "source": [
    "Looking at the text duplicates, the length of the texts are long and highly unlikely that the reviewers wrote the same text as another person. Thus, I will drop these records to prevent overfitting and reduce noise in the model."
   ]
  },
  {
   "cell_type": "code",
   "execution_count": 30,
   "metadata": {},
   "outputs": [],
   "source": [
    "# Drop the duplicates\n",
    "df = df.drop_duplicates(subset=['text'])"
   ]
  },
  {
   "cell_type": "code",
   "execution_count": 31,
   "metadata": {},
   "outputs": [],
   "source": [
    "# Resetting the index of the dataframe\n",
    "df = df.reset_index(drop=True)"
   ]
  },
  {
   "cell_type": "code",
   "execution_count": 32,
   "metadata": {
    "scrolled": false
   },
   "outputs": [
    {
     "name": "stdout",
     "output_type": "stream",
     "text": [
      "Number of records in the dataframe now: 36412\n"
     ]
    }
   ],
   "source": [
    "print(\"Number of records in the dataframe now:\",df.shape[0])"
   ]
  },
  {
   "cell_type": "markdown",
   "metadata": {},
   "source": [
    "### Data Understanding - Columns 'star'"
   ]
  },
  {
   "cell_type": "code",
   "execution_count": 33,
   "metadata": {},
   "outputs": [
    {
     "name": "stdout",
     "output_type": "stream",
     "text": [
      "Total records: 36412\n"
     ]
    },
    {
     "data": {
      "text/html": [
       "<div>\n",
       "<style scoped>\n",
       "    .dataframe tbody tr th:only-of-type {\n",
       "        vertical-align: middle;\n",
       "    }\n",
       "\n",
       "    .dataframe tbody tr th {\n",
       "        vertical-align: top;\n",
       "    }\n",
       "\n",
       "    .dataframe thead th {\n",
       "        text-align: right;\n",
       "    }\n",
       "</style>\n",
       "<table border=\"1\" class=\"dataframe\">\n",
       "  <thead>\n",
       "    <tr style=\"text-align: right;\">\n",
       "      <th>stars</th>\n",
       "      <th>occurrences</th>\n",
       "      <th>occurrences (%)</th>\n",
       "    </tr>\n",
       "  </thead>\n",
       "  <tbody>\n",
       "    <tr>\n",
       "      <th>5</th>\n",
       "      <td>12606</td>\n",
       "      <td>34.62%</td>\n",
       "    </tr>\n",
       "    <tr>\n",
       "      <th>4</th>\n",
       "      <td>11983</td>\n",
       "      <td>32.91%</td>\n",
       "    </tr>\n",
       "    <tr>\n",
       "      <th>3</th>\n",
       "      <td>5691</td>\n",
       "      <td>15.63%</td>\n",
       "    </tr>\n",
       "    <tr>\n",
       "      <th>1</th>\n",
       "      <td>3326</td>\n",
       "      <td>9.13%</td>\n",
       "    </tr>\n",
       "    <tr>\n",
       "      <th>2</th>\n",
       "      <td>2806</td>\n",
       "      <td>7.71%</td>\n",
       "    </tr>\n",
       "  </tbody>\n",
       "</table>\n",
       "</div>"
      ],
      "text/plain": [
       "stars  occurrences occurrences (%)\n",
       "5            12606          34.62%\n",
       "4            11983          32.91%\n",
       "3             5691          15.63%\n",
       "1             3326           9.13%\n",
       "2             2806           7.71%"
      ]
     },
     "metadata": {},
     "output_type": "display_data"
    },
    {
     "data": {
      "image/png": "[encoded data removed]",
      "text/plain": [
       "<Figure size 1400x600 with 1 Axes>"
      ]
     },
     "metadata": {},
     "output_type": "display_data"
    }
   ],
   "source": [
    "# Checking the distribution of the stars\n",
    "stars = pd.DataFrame({'occurrences': df['stars'].value_counts(),\n",
    "                      'occurrences (%)': [str(round((x/len(df)*100), 2))+\"%\" for x in df['stars'].value_counts()]}).rename_axis(columns=\"stars\")\n",
    "print(\"Total records:\", sum(stars['occurrences']))\n",
    "display(stars)\n",
    "\n",
    "labels = round((df['stars'].value_counts()/len(df)*100),2)\n",
    "sizes = round((df['stars'].value_counts()/len(df)*100),2)\n",
    "colors = ['yellowgreen', 'gold', 'lightskyblue', 'lightcoral', 'pink']\n",
    "(df['stars'].value_counts()/len(df)*100).plot(kind='pie', figsize=(14,6), colors=colors, startangle=90)\n",
    "plt.legend(labels, loc=\"best\")\n",
    "plt.tight_layout()\n",
    "plt.show()"
   ]
  },
  {
   "cell_type": "markdown",
   "metadata": {},
   "source": [
    "- The star ratings range from 1 to 5. The ratio of 4 to 5 stars to 1 to 2 stars is unproportionate, with a ratio of 67.53% to 16.84%. \n",
    "\n",
    "\n",
    "- Overall, most reviewers gave their stores a rating of 4 to 5.\n",
    "\n",
    "\n",
    "- Data Balancing and Sampling is required to balance the number of stars in the dataframe to ensure the model is not overfitted or biased toward a star rating."
   ]
  },
  {
   "cell_type": "markdown",
   "metadata": {},
   "source": [
    "### Data Preparation - Removing star ratings of 3 and Replacing stars column\n",
    "\n",
    "I create a new column 'sentiment' and assign records with 1 or 2 stars as 'negative', while 4 and 5 stars as 'positive'.\n",
    "\n",
    "As for texts with a star rating of 3, I assume that the text is neutral; the text may contain either both positive and negative sentiments or none. Since I'm interested in classifying texts into positive or negative classes only so that the business is able to know their customer's sentiment toward their product or service without a grey area (neutral ratings), I will remove records with 3 stars."
   ]
  },
  {
   "cell_type": "code",
   "execution_count": 34,
   "metadata": {},
   "outputs": [],
   "source": [
    "# Removing reviews that have a star rating of 3 as it is neutral.\n",
    "df = df[df.stars!=3]"
   ]
  },
  {
   "cell_type": "code",
   "execution_count": 35,
   "metadata": {},
   "outputs": [
    {
     "name": "stdout",
     "output_type": "stream",
     "text": [
      "Number of records left after removing records with a rating of 3: 30721\n"
     ]
    }
   ],
   "source": [
    "print(\"Number of records left after removing records with a rating of 3:\",df.shape[0])"
   ]
  },
  {
   "cell_type": "code",
   "execution_count": 36,
   "metadata": {},
   "outputs": [],
   "source": [
    "# Stars value 4 and above is positive, 2 and below is negative.\n",
    "df['sentiment'] = ''\n",
    "df.loc[lambda df: df['stars'] >= 4, 'sentiment'] = 'positive'\n",
    "df.loc[lambda df: df['stars'] <= 2, 'sentiment'] = 'negative'"
   ]
  },
  {
   "cell_type": "code",
   "execution_count": 37,
   "metadata": {},
   "outputs": [],
   "source": [
    "df = df.drop(columns=['stars'])"
   ]
  },
  {
   "cell_type": "code",
   "execution_count": 38,
   "metadata": {},
   "outputs": [
    {
     "data": {
      "text/html": [
       "<div>\n",
       "<style scoped>\n",
       "    .dataframe tbody tr th:only-of-type {\n",
       "        vertical-align: middle;\n",
       "    }\n",
       "\n",
       "    .dataframe tbody tr th {\n",
       "        vertical-align: top;\n",
       "    }\n",
       "\n",
       "    .dataframe thead th {\n",
       "        text-align: right;\n",
       "    }\n",
       "</style>\n",
       "<table border=\"1\" class=\"dataframe\">\n",
       "  <thead>\n",
       "    <tr style=\"text-align: right;\">\n",
       "      <th></th>\n",
       "      <th>Unnamed: 0</th>\n",
       "      <th>review_id</th>\n",
       "      <th>date</th>\n",
       "      <th>name</th>\n",
       "      <th>categories</th>\n",
       "      <th>text</th>\n",
       "      <th>yyyy-mm</th>\n",
       "      <th>sentiment</th>\n",
       "    </tr>\n",
       "  </thead>\n",
       "  <tbody>\n",
       "    <tr>\n",
       "      <th>0</th>\n",
       "      <td>15</td>\n",
       "      <td>Af6Jnf8F5xBliuixStWF8g</td>\n",
       "      <td>2019-09-20</td>\n",
       "      <td>\"Soccer Zone\"</td>\n",
       "      <td>Shopping;Sporting Goods</td>\n",
       "      <td>I'll admit it.  I caught World Cup fever in 20...</td>\n",
       "      <td>2019-09</td>\n",
       "      <td>positive</td>\n",
       "    </tr>\n",
       "  </tbody>\n",
       "</table>\n",
       "</div>"
      ],
      "text/plain": [
       "   Unnamed: 0               review_id        date           name  \\\n",
       "0          15  Af6Jnf8F5xBliuixStWF8g  2019-09-20  \"Soccer Zone\"   \n",
       "\n",
       "                categories                                               text  \\\n",
       "0  Shopping;Sporting Goods  I'll admit it.  I caught World Cup fever in 20...   \n",
       "\n",
       "   yyyy-mm sentiment  \n",
       "0  2019-09  positive  "
      ]
     },
     "execution_count": 38,
     "metadata": {},
     "output_type": "execute_result"
    }
   ],
   "source": [
    "df.head(1)"
   ]
  },
  {
   "cell_type": "code",
   "execution_count": 39,
   "metadata": {},
   "outputs": [
    {
     "name": "stdout",
     "output_type": "stream",
     "text": [
      "Total records: 30721\n"
     ]
    },
    {
     "data": {
      "text/html": [
       "<div>\n",
       "<style scoped>\n",
       "    .dataframe tbody tr th:only-of-type {\n",
       "        vertical-align: middle;\n",
       "    }\n",
       "\n",
       "    .dataframe tbody tr th {\n",
       "        vertical-align: top;\n",
       "    }\n",
       "\n",
       "    .dataframe thead th {\n",
       "        text-align: right;\n",
       "    }\n",
       "</style>\n",
       "<table border=\"1\" class=\"dataframe\">\n",
       "  <thead>\n",
       "    <tr style=\"text-align: right;\">\n",
       "      <th>sentiment</th>\n",
       "      <th>occurrences</th>\n",
       "      <th>occurrences (%)</th>\n",
       "    </tr>\n",
       "  </thead>\n",
       "  <tbody>\n",
       "    <tr>\n",
       "      <th>positive</th>\n",
       "      <td>24589</td>\n",
       "      <td>80.04%</td>\n",
       "    </tr>\n",
       "    <tr>\n",
       "      <th>negative</th>\n",
       "      <td>6132</td>\n",
       "      <td>19.96%</td>\n",
       "    </tr>\n",
       "  </tbody>\n",
       "</table>\n",
       "</div>"
      ],
      "text/plain": [
       "sentiment  occurrences occurrences (%)\n",
       "positive         24589          80.04%\n",
       "negative          6132          19.96%"
      ]
     },
     "metadata": {},
     "output_type": "display_data"
    },
    {
     "data": {
      "image/png": "[encoded data removed]",
      "text/plain": [
       "<Figure size 1400x600 with 1 Axes>"
      ]
     },
     "metadata": {},
     "output_type": "display_data"
    }
   ],
   "source": [
    "# Checking the distribution of the sentiments\n",
    "sentiments = pd.DataFrame({'occurrences': df['sentiment'].value_counts(),\n",
    "                      'occurrences (%)': [str(round((x/len(df)*100), 2))+\"%\" for x in df['sentiment'].value_counts()]}).rename_axis(columns=\"sentiment\")\n",
    "print(\"Total records:\", sum(sentiments['occurrences']))\n",
    "display(sentiments)\n",
    "\n",
    "labels = round((df['sentiment'].value_counts()/len(df)*100),2)\n",
    "sizes = round((df['sentiment'].value_counts()/len(df)*100),2)\n",
    "colors = ['green','red']\n",
    "(df['sentiment'].value_counts()/len(df)*100).plot(kind='pie', figsize=(14,6), colors=colors, startangle=90)\n",
    "plt.legend(labels, loc=\"best\")\n",
    "plt.tight_layout()\n",
    "plt.show()"
   ]
  },
  {
   "cell_type": "markdown",
   "metadata": {},
   "source": [
    "The ratio of sentiments positive to negative is 80% to 20% respectively, which is unbalanced.\n",
    "\n",
    "Therefore, to prevent a biased and overfitted model, data balancing will be performed later."
   ]
  },
  {
   "cell_type": "markdown",
   "metadata": {},
   "source": [
    "### Data Understanding - Checking the Word and Word Length Distribution"
   ]
  },
  {
   "cell_type": "code",
   "execution_count": 40,
   "metadata": {},
   "outputs": [],
   "source": [
    "# Store reviews in a variable\n",
    "reviews = [review.lower() for review in df['text']]"
   ]
  },
  {
   "cell_type": "code",
   "execution_count": 41,
   "metadata": {
    "scrolled": false
   },
   "outputs": [],
   "source": [
    "# Tokenize the words\n",
    "from nltk.tokenize import word_tokenize\n",
    "\n",
    "tokenized_words = [word_tokenize(review) for review in reviews]"
   ]
  },
  {
   "cell_type": "code",
   "execution_count": 42,
   "metadata": {},
   "outputs": [],
   "source": [
    "# Get the tokenized words\n",
    "tokenized_word_list = [word for word_lists in tokenized_words for word in word_lists]\n",
    "\n",
    "# Get the word lengths\n",
    "word_lengths = [len(word) for word in tokenized_word_list]"
   ]
  },
  {
   "cell_type": "markdown",
   "metadata": {},
   "source": [
    "#### Word Length Distribution"
   ]
  },
  {
   "cell_type": "code",
   "execution_count": 43,
   "metadata": {
    "scrolled": false
   },
   "outputs": [
    {
     "data": {
      "image/png": "[encoded data removed]",
      "text/plain": [
       "<Figure size 640x480 with 1 Axes>"
      ]
     },
     "metadata": {},
     "output_type": "display_data"
    }
   ],
   "source": [
    "# Generate frequency for all the words\n",
    "freq_dist = nltk.FreqDist(word_lengths)\n",
    "\n",
    "# Visualizing \n",
    "word_length_frequency_dict = dict([(k,v) for k,v in freq_dist.items()])\n",
    "\n",
    "# create frequency distribution of the filtered words\n",
    "freq_dist = nltk.FreqDist(word_length_frequency_dict)\n",
    "\n",
    "# plot the frequency distribution of the top 50 words\n",
    "freq_dist.plot(15, cumulative=False)\n",
    "plt.show()"
   ]
  },
  {
   "cell_type": "markdown",
   "metadata": {},
   "source": [
    "### Identifying odd words that need to be removed.\n",
    "\n",
    "These words will create noise during sentiment analysis. Therefore, to ensure optimal model performance, these specific odd words will be removed without removing potentially useful terms."
   ]
  },
  {
   "cell_type": "markdown",
   "metadata": {},
   "source": [
    "#### Identifying words with odd lengths"
   ]
  },
  {
   "cell_type": "code",
   "execution_count": 44,
   "metadata": {},
   "outputs": [
    {
     "name": "stdout",
     "output_type": "stream",
     "text": [
      "['well-stocked', 'neighborhood', 'disappointed', 'accompanied', 'recommended', 'immediately', '\\\\/\\\\/www.yelp.com\\\\/biz_photos\\\\/xpzt3zlrklkfskbvxssm3w', 'select=n2iluoe8xdytbiowpfnp3q', 'wedding-related', 'researching']\n"
     ]
    }
   ],
   "source": [
    "# At word lengths of more than 10, the curve starts to flat line.\n",
    "# Therefore, look at the words with length above 10.\n",
    "\n",
    "odd_lengths = [words for words in tokenized_word_list if len(words)>10]\n",
    "print(odd_lengths[:10])"
   ]
  },
  {
   "cell_type": "markdown",
   "metadata": {},
   "source": [
    "- There seems to be some links in the texts such as \"\\\\/\\\\/www.yelp.com\\\\/biz_photos\\\\/xpzt3zlrklkfskbvxssm3w\". These links start with '\\\\\\\\\\/'\n",
    "\n",
    "- There also seems to be SQL-like statements such as \"select=n2iluoe8xdytbiowpfnp3q\"\n",
    "\n",
    "- Lastly, the word \"\\\\\\\\/\" seems like it is used as a slash in the links."
   ]
  },
  {
   "cell_type": "code",
   "execution_count": 45,
   "metadata": {},
   "outputs": [
    {
     "name": "stdout",
     "output_type": "stream",
     "text": [
      "['bought\\\\/returned', '£5\\\\/10', 'situations\\\\/patrons', 'board\\\\/ride', 'sf\\\\/us', 'you\\\\/goodbye', 'and\\\\/or', 'bed\\\\/bath\\\\/kitchen', 'climbing\\\\/sliding', 'playground\\\\/cermaic', '12\\\\/22\\\\/2011', '12\\\\/23\\\\/2011', '12\\\\/23\\\\/2011', '12\\\\/25\\\\/2009', 'tv\\\\/cell']\n"
     ]
    }
   ],
   "source": [
    "# Confirming if '\\\\\\\\/' is used as a slash\n",
    "slashed_words = [words for words in tokenized_word_list if '\\\\/' in words]\n",
    "print(slashed_words[5:20])"
   ]
  },
  {
   "cell_type": "markdown",
   "metadata": {},
   "source": [
    "To confirm, the \\\\\\\\/ is used as a slash."
   ]
  },
  {
   "cell_type": "code",
   "execution_count": 46,
   "metadata": {
    "scrolled": false
   },
   "outputs": [
    {
     "name": "stdout",
     "output_type": "stream",
     "text": [
      "['\\\\/\\\\/www.yelp.com\\\\/biz_photos\\\\/xpzt3zlrklkfskbvxssm3w', 'store.highly', '....................', '...............................', 'www.bohofarmandhome.com', 'bohofarmandhome.com', '\\\\/\\\\/www.saleevent.ca\\\\/index.php', '\\\\/\\\\/www.artomat.org\\\\/home.html', '\\\\/\\\\/www.dovenetq.net.au\\\\/~mahayes\\\\/graphics\\\\/yeslogofullcircle1.jpg', '\\\\/\\\\/www.vinylrecords.ch\\\\/b\\\\/bo\\\\/boston\\\\/boston\\\\/boston-63.jpg']\n"
     ]
    }
   ],
   "source": [
    "# Checking for words with '.' in odd length words\n",
    "# This could help us identify website links within the words with long lengths\n",
    "dots_in_text = [word for word in odd_lengths if '.' in word]\n",
    "print(dots_in_text[:10])"
   ]
  },
  {
   "cell_type": "markdown",
   "metadata": {},
   "source": [
    "- Looks like there are some links aside from the yelp link identified above.\n",
    "- Some links start with www while others end with their domain names.\n",
    "- There are words that could have been typed wrongly e.g., store.highly"
   ]
  },
  {
   "cell_type": "code",
   "execution_count": 47,
   "metadata": {},
   "outputs": [],
   "source": [
    "# Checking for domain names\n",
    "# Since .com is a domain name, \n",
    "# I try to find other domain names and remove words containing them.\n",
    "\n",
    "# pattern to identify the domain names at the end of the words\n",
    "pattern = '\\.[\\w+\\d+]+$'\n",
    "\n",
    "organizations = [re.findall(pattern, words) for words in dots_in_text if re.findall(pattern, words)]\n",
    "\n",
    "compiled_values = [value for lists in organizations for value in lists]\n",
    "\n",
    "compiled_array = np.array(compiled_values)\n",
    "occurrence = list(zip(*np.unique(compiled_array, return_counts=True)))\n",
    "\n",
    "# Store the domain names\n",
    "domains_names = ['('+str(entry[0].strip('.'))+')' for entry in occurrence if entry[1]>1]"
   ]
  },
  {
   "cell_type": "code",
   "execution_count": 48,
   "metadata": {
    "scrolled": true
   },
   "outputs": [
    {
     "data": {
      "text/plain": [
       "'(customer)|(highly)|(their)|(there)|(also)|(aspx)|(html)|(save)|(then)|(they)|(this)|(time)|(what)|(all)|(and)|(asp)|(cfm)|(com)|(htm)|(jpg)|(net)|(now)|(org)|(pdf)|(php)|(she)|(the)|(yes)|(you)|(ca)|(de)|(if)|(it)|(on)|(uk)|(we)|(i)'"
      ]
     },
     "execution_count": 48,
     "metadata": {},
     "output_type": "execute_result"
    }
   ],
   "source": [
    "domain_names = sorted(domains_names, key=len, reverse=True)\n",
    "# Sort them based on their length so that domains such as 'html' will not be replaced by \n",
    "# 'htm' instead of 'html'.\n",
    "regex_domain_names = '|'.join(domain_names)\n",
    "regex_domain_names"
   ]
  },
  {
   "cell_type": "markdown",
   "metadata": {},
   "source": [
    "This list of domain names will be used for pattern matching later."
   ]
  },
  {
   "cell_type": "code",
   "execution_count": 49,
   "metadata": {},
   "outputs": [
    {
     "name": "stdout",
     "output_type": "stream",
     "text": [
      "[':', ':', ':', ':', ':', ':', '5:00', '5:30pm', ':', ':']\n"
     ]
    }
   ],
   "source": [
    "# Checking for words with '.' in odd length words\n",
    "# This could help us identify website links within the words with long lengths\n",
    "colon_text = [word for word in tokenized_word_list if ':' in word]\n",
    "print(colon_text[:10])"
   ]
  },
  {
   "cell_type": "code",
   "execution_count": 50,
   "metadata": {
    "scrolled": true
   },
   "outputs": [
    {
     "name": "stdout",
     "output_type": "stream",
     "text": [
      "['2:30-5:15pmish', 'hrid:9eqwucmwj79em_obubuyha', '09:00-11:00.', '11:50-something', '2:30pm-4:30pm']\n"
     ]
    }
   ],
   "source": [
    "http_occurrences = [words for words in odd_lengths if ':' in words]\n",
    "print(http_occurrences[:5])"
   ]
  },
  {
   "cell_type": "markdown",
   "metadata": {},
   "source": [
    "There are some colons in the text."
   ]
  },
  {
   "cell_type": "code",
   "execution_count": 51,
   "metadata": {
    "scrolled": true
   },
   "outputs": [
    {
     "name": "stdout",
     "output_type": "stream",
     "text": [
      "['select=n2iluoe8xdytbiowpfnp3q', '=', '=', 'two=', '=', '=p', '=d', '=', 'select=apvssppowbz3lb0ob4saua', 'select=iwbx1a-hrgvir4fm8qhjhq']\n"
     ]
    }
   ],
   "source": [
    "print([word for word in tokenized_word_list if '=' in word][:10])"
   ]
  },
  {
   "cell_type": "markdown",
   "metadata": {},
   "source": [
    "Seems like most of the SQL-like syntax has numbers, punctuations, or special characters in the words following the \"=\"."
   ]
  },
  {
   "cell_type": "code",
   "execution_count": 52,
   "metadata": {
    "scrolled": true
   },
   "outputs": [
    {
     "name": "stdout",
     "output_type": "stream",
     "text": [
      "['http', 'http', 'http', 'http', 'http']\n"
     ]
    }
   ],
   "source": [
    "http_occurrences = [words for words in tokenized_word_list if 'http' in words]\n",
    "print(http_occurrences[:5])"
   ]
  },
  {
   "cell_type": "markdown",
   "metadata": {},
   "source": [
    "There are some 'http' words in the tokenized words. There seems to not have any links, but just http"
   ]
  },
  {
   "cell_type": "code",
   "execution_count": 53,
   "metadata": {},
   "outputs": [
    {
     "name": "stdout",
     "output_type": "stream",
     "text": [
      "['https', 'https', 'https', 'https', 'https', 'https', 'guisehttp', 'https', 'https']\n"
     ]
    }
   ],
   "source": [
    "print([http for http in http_occurrences if len(http)>4])"
   ]
  },
  {
   "cell_type": "markdown",
   "metadata": {},
   "source": [
    "Looks like there are https and words in front of http, but not any link. Therefore, these needs to be removed."
   ]
  },
  {
   "cell_type": "markdown",
   "metadata": {},
   "source": [
    "### Checking the word distribution"
   ]
  },
  {
   "cell_type": "code",
   "execution_count": 54,
   "metadata": {
    "scrolled": false
   },
   "outputs": [
    {
     "data": {
      "image/png": "[encoded data removed]",
      "text/plain": [
       "<Figure size 640x480 with 1 Axes>"
      ]
     },
     "metadata": {},
     "output_type": "display_data"
    }
   ],
   "source": [
    "# Generate frequency for all the words\n",
    "freq_dist = nltk.FreqDist(tokenized_word_list)\n",
    "\n",
    "# Visualizing \n",
    "words = dict([(k,v) for k,v in freq_dist.items()])\n",
    "\n",
    "# create frequency distribution of the filtered words\n",
    "freq_dist = nltk.FreqDist(words)\n",
    "\n",
    "# build wordcloud\n",
    "from wordcloud import WordCloud\n",
    "wcloud = WordCloud().generate_from_frequencies(freq_dist)\n",
    "\n",
    "# plot the wordcloud\n",
    "import matplotlib.pyplot as plt\n",
    "plt.imshow(wcloud, interpolation='bilinear')\n",
    "plt.axis('off')\n",
    "plt.show()"
   ]
  },
  {
   "cell_type": "markdown",
   "metadata": {},
   "source": [
    "Words with high frequency appear larger in the word cloud.\n",
    "\n",
    "Based on the word cloud and frequency distribution chart, the largest words are mostly stopwords or punctuations. These words occur frequently in all documents and will cause noise in the sentiment classifcation. Thus, it will be removed later to prevent it from affecting the model's performance."
   ]
  },
  {
   "cell_type": "markdown",
   "metadata": {},
   "source": [
    "# Data Preparation\n",
    "Perform the necessary steps and explain the rationale taken here.\n",
    "\n"
   ]
  },
  {
   "cell_type": "markdown",
   "metadata": {},
   "source": [
    "#### Removing Unnecessary Columns to improve processing performance\n",
    "\n",
    "Removing 'review_id' and 'Unnamed: 0'. As identified earlier, they are unique identifiers, have high dimensionality, and have no effect on the text's sentiment.\n",
    "\n",
    "Removing 'date', 'categories' and 'name'. These columns have no effect on the text's sentiment nor will it be used.\n",
    "\n",
    "Therefore, these columns are removed due to its low relevancy."
   ]
  },
  {
   "cell_type": "code",
   "execution_count": 55,
   "metadata": {},
   "outputs": [],
   "source": [
    "# Removing the columns\n",
    "df = df.drop(columns=['review_id', 'Unnamed: 0', 'date', 'categories', 'name', 'yyyy-mm'])"
   ]
  },
  {
   "cell_type": "code",
   "execution_count": 56,
   "metadata": {
    "scrolled": true
   },
   "outputs": [
    {
     "data": {
      "text/html": [
       "<div>\n",
       "<style scoped>\n",
       "    .dataframe tbody tr th:only-of-type {\n",
       "        vertical-align: middle;\n",
       "    }\n",
       "\n",
       "    .dataframe tbody tr th {\n",
       "        vertical-align: top;\n",
       "    }\n",
       "\n",
       "    .dataframe thead th {\n",
       "        text-align: right;\n",
       "    }\n",
       "</style>\n",
       "<table border=\"1\" class=\"dataframe\">\n",
       "  <thead>\n",
       "    <tr style=\"text-align: right;\">\n",
       "      <th></th>\n",
       "      <th>text</th>\n",
       "      <th>sentiment</th>\n",
       "    </tr>\n",
       "  </thead>\n",
       "  <tbody>\n",
       "    <tr>\n",
       "      <th>0</th>\n",
       "      <td>I'll admit it.  I caught World Cup fever in 20...</td>\n",
       "      <td>positive</td>\n",
       "    </tr>\n",
       "    <tr>\n",
       "      <th>1</th>\n",
       "      <td>This store has gone through some management ch...</td>\n",
       "      <td>positive</td>\n",
       "    </tr>\n",
       "    <tr>\n",
       "      <th>3</th>\n",
       "      <td>I don't have much of a greenthumb, thankfully ...</td>\n",
       "      <td>positive</td>\n",
       "    </tr>\n",
       "    <tr>\n",
       "      <th>4</th>\n",
       "      <td>I am only ever going to this Sports Authority ...</td>\n",
       "      <td>positive</td>\n",
       "    </tr>\n",
       "    <tr>\n",
       "      <th>5</th>\n",
       "      <td>Looking for a new driver for my golf game, I s...</td>\n",
       "      <td>positive</td>\n",
       "    </tr>\n",
       "  </tbody>\n",
       "</table>\n",
       "</div>"
      ],
      "text/plain": [
       "                                                text sentiment\n",
       "0  I'll admit it.  I caught World Cup fever in 20...  positive\n",
       "1  This store has gone through some management ch...  positive\n",
       "3  I don't have much of a greenthumb, thankfully ...  positive\n",
       "4  I am only ever going to this Sports Authority ...  positive\n",
       "5  Looking for a new driver for my golf game, I s...  positive"
      ]
     },
     "execution_count": 56,
     "metadata": {},
     "output_type": "execute_result"
    }
   ],
   "source": [
    "df.head()"
   ]
  },
  {
   "cell_type": "markdown",
   "metadata": {},
   "source": [
    "#### Balancing and Sampling the Data"
   ]
  },
  {
   "cell_type": "code",
   "execution_count": 57,
   "metadata": {},
   "outputs": [
    {
     "name": "stdout",
     "output_type": "stream",
     "text": [
      "Total records: 30721\n"
     ]
    },
    {
     "data": {
      "text/html": [
       "<div>\n",
       "<style scoped>\n",
       "    .dataframe tbody tr th:only-of-type {\n",
       "        vertical-align: middle;\n",
       "    }\n",
       "\n",
       "    .dataframe tbody tr th {\n",
       "        vertical-align: top;\n",
       "    }\n",
       "\n",
       "    .dataframe thead th {\n",
       "        text-align: right;\n",
       "    }\n",
       "</style>\n",
       "<table border=\"1\" class=\"dataframe\">\n",
       "  <thead>\n",
       "    <tr style=\"text-align: right;\">\n",
       "      <th>stars</th>\n",
       "      <th>occurrences</th>\n",
       "      <th>occurrences (%)</th>\n",
       "    </tr>\n",
       "  </thead>\n",
       "  <tbody>\n",
       "    <tr>\n",
       "      <th>positive</th>\n",
       "      <td>24589</td>\n",
       "      <td>80.04%</td>\n",
       "    </tr>\n",
       "    <tr>\n",
       "      <th>negative</th>\n",
       "      <td>6132</td>\n",
       "      <td>19.96%</td>\n",
       "    </tr>\n",
       "  </tbody>\n",
       "</table>\n",
       "</div>"
      ],
      "text/plain": [
       "stars     occurrences occurrences (%)\n",
       "positive        24589          80.04%\n",
       "negative         6132          19.96%"
      ]
     },
     "metadata": {},
     "output_type": "display_data"
    },
    {
     "data": {
      "image/png": "[encoded data removed]",
      "text/plain": [
       "<Figure size 1400x600 with 1 Axes>"
      ]
     },
     "metadata": {},
     "output_type": "display_data"
    }
   ],
   "source": [
    "# Checking the distribution of the stars\n",
    "sentiments = pd.DataFrame({'occurrences': df['sentiment'].value_counts(),\n",
    "                      'occurrences (%)': [str(round((x/len(df)*100), 2))+\"%\" for x in df['sentiment'].value_counts()]}).rename_axis(columns=\"stars\")\n",
    "print(\"Total records:\", sum(sentiments['occurrences']))\n",
    "display(sentiments)\n",
    "\n",
    "labels = round((df['sentiment'].value_counts()/len(df)*100),2)\n",
    "sizes = round((df['sentiment'].value_counts()/len(df)*100),2)\n",
    "colors = ['green', 'red']\n",
    "(df['sentiment'].value_counts()/len(df)*100).plot(kind='pie', figsize=(14,6), colors=colors, startangle=90)\n",
    "plt.legend(labels, loc=\"best\")\n",
    "plt.tight_layout()\n",
    "plt.show()"
   ]
  },
  {
   "cell_type": "markdown",
   "metadata": {},
   "source": [
    "The ratio of positive to negative sentiments is 80%:20% respectively, which is unbalanced. Unbalanced class may cause the model to be biased toward the majority class, positive sentiment, or overfitted.\n",
    "\n",
    "To prevent a biased and/or overfitted model, I decided to perform undersampling on the majority class, while keeping all the data of the minority class, negative sentiment.\n",
    "\n",
    "My Approach:\n",
    "- I will undersample the majority class, positive sentiment, to contribute 60% of the dataframe.\n",
    "\n",
    "Reason:\n",
    "- A ratio of 60:40 for positive:negative ensures that the positive class retains majority of its original data and be a representative sample for the positive class."
   ]
  },
  {
   "cell_type": "code",
   "execution_count": 58,
   "metadata": {},
   "outputs": [],
   "source": [
    "number_for_sixty = (len(df[df['sentiment']=='negative'])/40)*60\n",
    "\n",
    "df2 = pd.concat([df[df['sentiment']=='positive'].sample(n=int(number_for_sixty), random_state=42), df[df['sentiment']=='negative']], axis=0)\n",
    "\n",
    "# To ensure the same data is sampled and reproduable results, I set a random_state of 42 for the sample function."
   ]
  },
  {
   "cell_type": "code",
   "execution_count": 59,
   "metadata": {},
   "outputs": [],
   "source": [
    " df2 = df2.reset_index(drop=True)"
   ]
  },
  {
   "cell_type": "code",
   "execution_count": 60,
   "metadata": {},
   "outputs": [
    {
     "name": "stdout",
     "output_type": "stream",
     "text": [
      "Total records: 15330\n"
     ]
    },
    {
     "data": {
      "text/html": [
       "<div>\n",
       "<style scoped>\n",
       "    .dataframe tbody tr th:only-of-type {\n",
       "        vertical-align: middle;\n",
       "    }\n",
       "\n",
       "    .dataframe tbody tr th {\n",
       "        vertical-align: top;\n",
       "    }\n",
       "\n",
       "    .dataframe thead th {\n",
       "        text-align: right;\n",
       "    }\n",
       "</style>\n",
       "<table border=\"1\" class=\"dataframe\">\n",
       "  <thead>\n",
       "    <tr style=\"text-align: right;\">\n",
       "      <th>stars</th>\n",
       "      <th>occurrences</th>\n",
       "      <th>occurrences (%)</th>\n",
       "    </tr>\n",
       "  </thead>\n",
       "  <tbody>\n",
       "    <tr>\n",
       "      <th>positive</th>\n",
       "      <td>9198</td>\n",
       "      <td>60.0%</td>\n",
       "    </tr>\n",
       "    <tr>\n",
       "      <th>negative</th>\n",
       "      <td>6132</td>\n",
       "      <td>40.0%</td>\n",
       "    </tr>\n",
       "  </tbody>\n",
       "</table>\n",
       "</div>"
      ],
      "text/plain": [
       "stars     occurrences occurrences (%)\n",
       "positive         9198           60.0%\n",
       "negative         6132           40.0%"
      ]
     },
     "metadata": {},
     "output_type": "display_data"
    },
    {
     "data": {
      "image/png": "[encoded data removed]",
      "text/plain": [
       "<Figure size 1400x600 with 1 Axes>"
      ]
     },
     "metadata": {},
     "output_type": "display_data"
    }
   ],
   "source": [
    "# Checking the distribution of the stars\n",
    "sentiments = pd.DataFrame({'occurrences': df2['sentiment'].value_counts(),\n",
    "                      'occurrences (%)': [str(round((x/len(df2)*100), 2))+\"%\" for x in df2['sentiment'].value_counts()]}).rename_axis(columns=\"stars\")\n",
    "print(\"Total records:\", sum(sentiments['occurrences']))\n",
    "display(sentiments)\n",
    "\n",
    "labels = round((df2['sentiment'].value_counts()/len(df2)*100),2)\n",
    "sizes = round((df2['sentiment'].value_counts()/len(df2)*100),2)\n",
    "colors = ['green', 'red']\n",
    "(df2['sentiment'].value_counts()/len(df2)*100).plot(kind='pie', figsize=(14,6), colors=colors, startangle=90)\n",
    "plt.legend(labels, loc=\"best\")\n",
    "plt.tight_layout()\n",
    "plt.show()"
   ]
  },
  {
   "cell_type": "markdown",
   "metadata": {},
   "source": [
    "Now, the data is balanced and fit for sentiment analysis."
   ]
  },
  {
   "cell_type": "markdown",
   "metadata": {},
   "source": [
    "### Converting the Target Variable to Numbers\n",
    "\n",
    "Machine Learning Models can not work on categorical variables in the form of strings, so we need to change it into numerical form."
   ]
  },
  {
   "cell_type": "code",
   "execution_count": 61,
   "metadata": {},
   "outputs": [],
   "source": [
    "df2.loc[lambda df2: df2['sentiment'] == 'positive', 'sentiment'] = 1\n",
    "df2.loc[lambda df2: df2['sentiment'] == 'negative', 'sentiment'] = 0"
   ]
  },
  {
   "cell_type": "code",
   "execution_count": 62,
   "metadata": {},
   "outputs": [
    {
     "data": {
      "text/html": [
       "<div>\n",
       "<style scoped>\n",
       "    .dataframe tbody tr th:only-of-type {\n",
       "        vertical-align: middle;\n",
       "    }\n",
       "\n",
       "    .dataframe tbody tr th {\n",
       "        vertical-align: top;\n",
       "    }\n",
       "\n",
       "    .dataframe thead th {\n",
       "        text-align: right;\n",
       "    }\n",
       "</style>\n",
       "<table border=\"1\" class=\"dataframe\">\n",
       "  <thead>\n",
       "    <tr style=\"text-align: right;\">\n",
       "      <th></th>\n",
       "      <th>text</th>\n",
       "      <th>sentiment</th>\n",
       "    </tr>\n",
       "  </thead>\n",
       "  <tbody>\n",
       "    <tr>\n",
       "      <th>0</th>\n",
       "      <td>Bi-Lo is notoriously inconsistent in the quality of their stores, but the Albemarle Road location exceeded my expectations.  Spacious, varied in selection, and low prices.  The kicker is yet to come....\\n\\nOn both trips to this Bi-Lo, the produce has been surprisingly fresh.  A head of romaine lettuce is a mere $2!  The fruit is kind lacking...but that's why Compare Foods is around the corner. The bakery is always baking something fresh and the meats look quite appealing.  Unlike other Bi-Lo's, I didn't notice this location trying to hawk expired foods.  I guess I keep shopping here because its cheap like Aldi's, but has the selection like a normal grocery store.  Anyway....\\n\\nThe kicker is that the reward you with gas savings.  If you buy like $50 worth of groceries, you'll get .15 per gallon off from several gas stations.  No joke.  Please keep in mind that this is Albemarle Rd, so I'd avoid grocery trips after dark.  Otherwise, you'll be pleasantly surprised that a decent grocery store exists in East Charlotte.</td>\n",
       "      <td>1</td>\n",
       "    </tr>\n",
       "    <tr>\n",
       "      <th>1</th>\n",
       "      <td>Blackwells on South Bridge is not only a bookshop, it's a labyrinth! Seriously, you could get lost in here.\\n\\nSpread out over three floors, this shop caters for all your literary needs. As it's closely affiliated with Edinburgh's Universities there is a comprehensive academic department covering everything from Medicine to Media Studies, and the staff can provide useful guidance if you're feeling a little overwhelmed by it all. If you're here for something more recreational, the ground floor is a good place to while away an afternoon browsing the shelves. There is also a music department with a lot of Scottish and classical CDs and a nice children's department in the basement. Cafe Nero has cleverly set up camp in here too, so you can start your new tome with a cup of coffee in hand without even leaving the building.\\n\\nUnfortunately there is no student discount (although there is a loyalty card scheme) and it can't rival Amazon's prices, but the shop is open pretty late and I think it's the best large bookshop in Edinburgh.</td>\n",
       "      <td>1</td>\n",
       "    </tr>\n",
       "    <tr>\n",
       "      <th>2</th>\n",
       "      <td>I generally loathe salespeople and almost didn't purchase my iPhone yesterday because I couldn't do it online. I walked line the store ready to smack down the first pushy salesperson like an annoying knat. But my sales guy, Chase, completely surprised me. He saw that I knew what I wanted and spared me the upsell bull that makes me want to kill. He even pointed our a discount I was eligible for without me asking about it. \\nIn the end, Chase made this a surprisingly painless deal. I don't know if the entire staff operates line Chase, but I know they should.</td>\n",
       "      <td>1</td>\n",
       "    </tr>\n",
       "    <tr>\n",
       "      <th>3</th>\n",
       "      <td>I don't write lengthy reviews - so here it goes.\\n\\nGreat place, excellent popcorn by any standard. The flavors are well balanced. I got the caramel\\/sour apple - AWESOME and my wife got the Marilyn Monroe (coconut white chocolate), again AWESOME. It was fresh when we got it and my wife's is even fresh 2 days later - don't ask why it is lasting that long - she has major self control, mine was gone in hours.\\n\\nWell done on concept and execution.</td>\n",
       "      <td>1</td>\n",
       "    </tr>\n",
       "    <tr>\n",
       "      <th>4</th>\n",
       "      <td>This is the best thai food I have experienced in Toronto and quite possibly the best I have had...period.  \\n\\nBoth the food and service are amazing.  The restaurant is deceiving from the outside, based on the restaurant location. However, the interior decor is warm, inviting and quaint.  Suitable for a casual\\/friendly get together; yet would be a wonderful spot for a romantic dinner as well.\\n\\nWhether dining in or taking out, Mengrai will surely not disappoint. Great value for the money too.  I suggest the mango salad, cold spring rolls and the green thai curry with chicken and basil!   Of course, their signature pineapple dish is worth the experience as well. \\n\\nGreat place for gluten free and dairy free diet requirements!</td>\n",
       "      <td>1</td>\n",
       "    </tr>\n",
       "  </tbody>\n",
       "</table>\n",
       "</div>"
      ],
      "text/plain": [
       "                                                                                                                                                                                                                                                                                                                                                                                                                                                                                                                                                                                                                                                                                                                                                                                                                                                                                                                                                                                                                                                                                text  \\\n",
       "0             Bi-Lo is notoriously inconsistent in the quality of their stores, but the Albemarle Road location exceeded my expectations.  Spacious, varied in selection, and low prices.  The kicker is yet to come....\\n\\nOn both trips to this Bi-Lo, the produce has been surprisingly fresh.  A head of romaine lettuce is a mere $2!  The fruit is kind lacking...but that's why Compare Foods is around the corner. The bakery is always baking something fresh and the meats look quite appealing.  Unlike other Bi-Lo's, I didn't notice this location trying to hawk expired foods.  I guess I keep shopping here because its cheap like Aldi's, but has the selection like a normal grocery store.  Anyway....\\n\\nThe kicker is that the reward you with gas savings.  If you buy like $50 worth of groceries, you'll get .15 per gallon off from several gas stations.  No joke.  Please keep in mind that this is Albemarle Rd, so I'd avoid grocery trips after dark.  Otherwise, you'll be pleasantly surprised that a decent grocery store exists in East Charlotte.   \n",
       "1  Blackwells on South Bridge is not only a bookshop, it's a labyrinth! Seriously, you could get lost in here.\\n\\nSpread out over three floors, this shop caters for all your literary needs. As it's closely affiliated with Edinburgh's Universities there is a comprehensive academic department covering everything from Medicine to Media Studies, and the staff can provide useful guidance if you're feeling a little overwhelmed by it all. If you're here for something more recreational, the ground floor is a good place to while away an afternoon browsing the shelves. There is also a music department with a lot of Scottish and classical CDs and a nice children's department in the basement. Cafe Nero has cleverly set up camp in here too, so you can start your new tome with a cup of coffee in hand without even leaving the building.\\n\\nUnfortunately there is no student discount (although there is a loyalty card scheme) and it can't rival Amazon's prices, but the shop is open pretty late and I think it's the best large bookshop in Edinburgh.   \n",
       "2                                                                                                                                                                                                                                                                                                                                                                                                                                                                                                 I generally loathe salespeople and almost didn't purchase my iPhone yesterday because I couldn't do it online. I walked line the store ready to smack down the first pushy salesperson like an annoying knat. But my sales guy, Chase, completely surprised me. He saw that I knew what I wanted and spared me the upsell bull that makes me want to kill. He even pointed our a discount I was eligible for without me asking about it. \\nIn the end, Chase made this a surprisingly painless deal. I don't know if the entire staff operates line Chase, but I know they should.   \n",
       "3                                                                                                                                                                                                                                                                                                                                                                                                                                                                                                                                                                                                                  I don't write lengthy reviews - so here it goes.\\n\\nGreat place, excellent popcorn by any standard. The flavors are well balanced. I got the caramel\\/sour apple - AWESOME and my wife got the Marilyn Monroe (coconut white chocolate), again AWESOME. It was fresh when we got it and my wife's is even fresh 2 days later - don't ask why it is lasting that long - she has major self control, mine was gone in hours.\\n\\nWell done on concept and execution.   \n",
       "4                                                                                                                                                                                                                                                                                                                  This is the best thai food I have experienced in Toronto and quite possibly the best I have had...period.  \\n\\nBoth the food and service are amazing.  The restaurant is deceiving from the outside, based on the restaurant location. However, the interior decor is warm, inviting and quaint.  Suitable for a casual\\/friendly get together; yet would be a wonderful spot for a romantic dinner as well.\\n\\nWhether dining in or taking out, Mengrai will surely not disappoint. Great value for the money too.  I suggest the mango salad, cold spring rolls and the green thai curry with chicken and basil!   Of course, their signature pineapple dish is worth the experience as well. \\n\\nGreat place for gluten free and dairy free diet requirements!   \n",
       "\n",
       "  sentiment  \n",
       "0         1  \n",
       "1         1  \n",
       "2         1  \n",
       "3         1  \n",
       "4         1  "
      ]
     },
     "execution_count": 62,
     "metadata": {},
     "output_type": "execute_result"
    }
   ],
   "source": [
    "pd.set_option(\"display.max_colwidth\", None)\n",
    "df2.head()"
   ]
  },
  {
   "cell_type": "code",
   "execution_count": 63,
   "metadata": {},
   "outputs": [],
   "source": [
    "df2['sentiment'] = df2['sentiment'].astype('int32')"
   ]
  },
  {
   "cell_type": "code",
   "execution_count": 64,
   "metadata": {},
   "outputs": [
    {
     "name": "stdout",
     "output_type": "stream",
     "text": [
      "<class 'pandas.core.frame.DataFrame'>\n",
      "RangeIndex: 15330 entries, 0 to 15329\n",
      "Data columns (total 2 columns):\n",
      " #   Column     Non-Null Count  Dtype \n",
      "---  ------     --------------  ----- \n",
      " 0   text       15330 non-null  object\n",
      " 1   sentiment  15330 non-null  int32 \n",
      "dtypes: int32(1), object(1)\n",
      "memory usage: 179.8+ KB\n"
     ]
    }
   ],
   "source": [
    "df2.info()"
   ]
  },
  {
   "cell_type": "markdown",
   "metadata": {},
   "source": [
    "Looking at the text, there seems to be some newlines '\\n' in the dataframe. These new lines will also be removed with pattern removal."
   ]
  },
  {
   "cell_type": "code",
   "execution_count": 65,
   "metadata": {},
   "outputs": [],
   "source": [
    "# Store reviews in a variable\n",
    "reviews = [review.lower() for review in df2['text']]"
   ]
  },
  {
   "cell_type": "markdown",
   "metadata": {},
   "source": [
    "### Extract POS Tags"
   ]
  },
  {
   "cell_type": "markdown",
   "metadata": {},
   "source": [
    "Research has shown the presence of adjectives and adverbs is usually a good indicator of text subjectivity. In other words, statements that use adjectives like “interesting,” “problematic” and “awesome” might be more likely to convey a subjective point of view than statements that do not include those adjectives.\n",
    "\n",
    "Adjectives and adverbs typically convey sentiment in a sentence, so they can be useful in sentiment analysis. However, including all POS tag words can provide additional information, such as the subject and verb, which can also contribute to the sentiment.\n",
    "\n",
    "Thus, I will not use the adjectives and adverbs only as feature sets for sentiment classification, but all the words in the text."
   ]
  },
  {
   "cell_type": "code",
   "execution_count": 66,
   "metadata": {},
   "outputs": [],
   "source": [
    "from nltk.tokenize import sent_tokenize\n",
    "def tagPOS(text):\n",
    "    tokenized = sent_tokenize(text) \n",
    "    tagged_text = []\n",
    "\n",
    "    for i in tokenized:\n",
    "        # Word tokenizers is used to find the words \n",
    "        wordsList = nltk.word_tokenize(i) \n",
    "\n",
    "        #  Using a Tagger. Which is part-of-speech tagger or POS-tagger.  \n",
    "        tagged = nltk.pos_tag(wordsList) \n",
    "        tagged_text.extend(tagged)\n",
    "\n",
    "    return tagged_text\n",
    "\n",
    "df2['POS_review'] = df2['text'].apply(lambda x: tagPOS(x))"
   ]
  },
  {
   "cell_type": "code",
   "execution_count": 67,
   "metadata": {},
   "outputs": [
    {
     "data": {
      "text/html": [
       "<div>\n",
       "<style scoped>\n",
       "    .dataframe tbody tr th:only-of-type {\n",
       "        vertical-align: middle;\n",
       "    }\n",
       "\n",
       "    .dataframe tbody tr th {\n",
       "        vertical-align: top;\n",
       "    }\n",
       "\n",
       "    .dataframe thead th {\n",
       "        text-align: right;\n",
       "    }\n",
       "</style>\n",
       "<table border=\"1\" class=\"dataframe\">\n",
       "  <thead>\n",
       "    <tr style=\"text-align: right;\">\n",
       "      <th></th>\n",
       "      <th>text</th>\n",
       "      <th>sentiment</th>\n",
       "      <th>POS_review</th>\n",
       "      <th>adj_adv</th>\n",
       "    </tr>\n",
       "  </thead>\n",
       "  <tbody>\n",
       "    <tr>\n",
       "      <th>0</th>\n",
       "      <td>Bi-Lo is notoriously inconsistent in the quality of their stores, but the Albemarle Road location exceeded my expectations.  Spacious, varied in selection, and low prices.  The kicker is yet to come....\\n\\nOn both trips to this Bi-Lo, the produce has been surprisingly fresh.  A head of romaine lettuce is a mere $2!  The fruit is kind lacking...but that's why Compare Foods is around the corner. The bakery is always baking something fresh and the meats look quite appealing.  Unlike other Bi-Lo's, I didn't notice this location trying to hawk expired foods.  I guess I keep shopping here because its cheap like Aldi's, but has the selection like a normal grocery store.  Anyway....\\n\\nThe kicker is that the reward you with gas savings.  If you buy like $50 worth of groceries, you'll get .15 per gallon off from several gas stations.  No joke.  Please keep in mind that this is Albemarle Rd, so I'd avoid grocery trips after dark.  Otherwise, you'll be pleasantly surprised that a decent grocery store exists in East Charlotte.</td>\n",
       "      <td>1</td>\n",
       "      <td>[(Bi-Lo, NNP), (is, VBZ), (notoriously, RB), (inconsistent, JJ), (in, IN), (the, DT), (quality, NN), (of, IN), (their, PRP$), (stores, NNS), (,, ,), (but, CC), (the, DT), (Albemarle, NNP), (Road, NNP), (location, NN), (exceeded, VBD), (my, PRP$), (expectations, NNS), (., .), (Spacious, JJ), (,, ,), (varied, VBN), (in, IN), (selection, NN), (,, ,), (and, CC), (low, JJ), (prices, NNS), (., .), (The, DT), (kicker, NN), (is, VBZ), (yet, RB), (to, TO), (come, VB), (...., NN), (On, IN), (both, DT), (trips, NNS), (to, TO), (this, DT), (Bi-Lo, NNP), (,, ,), (the, DT), (produce, NN), (has, VBZ), (been, VBN), (surprisingly, RB), (fresh, JJ), (., .), (A, DT), (head, NN), (of, IN), (romaine, NN), (lettuce, NN), (is, VBZ), (a, DT), (mere, JJ), ($, $), (2, CD), (!, .), (The, DT), (fruit, NN), (is, VBZ), (kind, NN), (lacking, VBG), (..., :), (but, CC), (that, DT), ('s, VBZ), (why, WRB), (Compare, NNP), (Foods, NNPS), (is, VBZ), (around, IN), (the, DT), (corner, NN), (., .), (The, DT), (bakery, NN), (is, VBZ), (always, RB), (baking, VBG), (something, NN), (fresh, JJ), (and, CC), (the, DT), (meats, NNS), (look, VBP), (quite, RB), (appealing, VBG), (., .), (Unlike, IN), (other, JJ), (Bi-Lo, NNP), ('s, POS), (,, ,), (I, PRP), (did, VBD), ...]</td>\n",
       "      <td>[notoriously, inconsistent, Spacious, low, yet, surprisingly, fresh, mere, always, fresh, quite, other, n't, expired, here, normal, Anyway, .15, several, Otherwise, pleasantly, decent]</td>\n",
       "    </tr>\n",
       "    <tr>\n",
       "      <th>1</th>\n",
       "      <td>Blackwells on South Bridge is not only a bookshop, it's a labyrinth! Seriously, you could get lost in here.\\n\\nSpread out over three floors, this shop caters for all your literary needs. As it's closely affiliated with Edinburgh's Universities there is a comprehensive academic department covering everything from Medicine to Media Studies, and the staff can provide useful guidance if you're feeling a little overwhelmed by it all. If you're here for something more recreational, the ground floor is a good place to while away an afternoon browsing the shelves. There is also a music department with a lot of Scottish and classical CDs and a nice children's department in the basement. Cafe Nero has cleverly set up camp in here too, so you can start your new tome with a cup of coffee in hand without even leaving the building.\\n\\nUnfortunately there is no student discount (although there is a loyalty card scheme) and it can't rival Amazon's prices, but the shop is open pretty late and I think it's the best large bookshop in Edinburgh.</td>\n",
       "      <td>1</td>\n",
       "      <td>[(Blackwells, NNS), (on, IN), (South, NNP), (Bridge, NNP), (is, VBZ), (not, RB), (only, RB), (a, DT), (bookshop, NN), (,, ,), (it, PRP), ('s, VBZ), (a, DT), (labyrinth, NN), (!, .), (Seriously, RB), (,, ,), (you, PRP), (could, MD), (get, VB), (lost, VBN), (in, IN), (here, RB), (., .), (Spread, NN), (out, RP), (over, IN), (three, CD), (floors, NNS), (,, ,), (this, DT), (shop, NN), (caters, VBZ), (for, IN), (all, DT), (your, PRP$), (literary, JJ), (needs, NNS), (., .), (As, IN), (it, PRP), ('s, VBZ), (closely, RB), (affiliated, VBN), (with, IN), (Edinburgh, NNP), ('s, POS), (Universities, NNS), (there, EX), (is, VBZ), (a, DT), (comprehensive, JJ), (academic, JJ), (department, NN), (covering, VBG), (everything, NN), (from, IN), (Medicine, NNP), (to, TO), (Media, NNP), (Studies, NNP), (,, ,), (and, CC), (the, DT), (staff, NN), (can, MD), (provide, VB), (useful, JJ), (guidance, NN), (if, IN), (you, PRP), ('re, VBP), (feeling, VBG), (a, DT), (little, JJ), (overwhelmed, JJ), (by, IN), (it, PRP), (all, DT), (., .), (If, IN), (you, PRP), ('re, VBP), (here, RB), (for, IN), (something, NN), (more, RBR), (recreational, JJ), (,, ,), (the, DT), (ground, NN), (floor, NN), (is, VBZ), (a, DT), (good, JJ), (place, NN), (to, TO), (while, VB), (away, RP), (an, DT), ...]</td>\n",
       "      <td>[not, only, Seriously, here, literary, closely, comprehensive, academic, useful, little, overwhelmed, here, more, recreational, good, also, Scottish, classical, nice, cleverly, here, too, new, even, Unfortunately, n't, open, pretty, late, best, large]</td>\n",
       "    </tr>\n",
       "    <tr>\n",
       "      <th>2</th>\n",
       "      <td>I generally loathe salespeople and almost didn't purchase my iPhone yesterday because I couldn't do it online. I walked line the store ready to smack down the first pushy salesperson like an annoying knat. But my sales guy, Chase, completely surprised me. He saw that I knew what I wanted and spared me the upsell bull that makes me want to kill. He even pointed our a discount I was eligible for without me asking about it. \\nIn the end, Chase made this a surprisingly painless deal. I don't know if the entire staff operates line Chase, but I know they should.</td>\n",
       "      <td>1</td>\n",
       "      <td>[(I, PRP), (generally, RB), (loathe, VBP), (salespeople, NN), (and, CC), (almost, RB), (did, VBD), (n't, RB), (purchase, VB), (my, PRP$), (iPhone, NN), (yesterday, NN), (because, IN), (I, PRP), (could, MD), (n't, RB), (do, VB), (it, PRP), (online, VB), (., .), (I, PRP), (walked, VBD), (line, NN), (the, DT), (store, NN), (ready, JJ), (to, TO), (smack, VB), (down, RP), (the, DT), (first, JJ), (pushy, JJ), (salesperson, NN), (like, IN), (an, DT), (annoying, VBG), (knat, NN), (., .), (But, CC), (my, PRP$), (sales, NNS), (guy, NN), (,, ,), (Chase, NNP), (,, ,), (completely, RB), (surprised, VBD), (me, PRP), (., .), (He, PRP), (saw, VBD), (that, IN), (I, PRP), (knew, VBD), (what, WP), (I, PRP), (wanted, VBD), (and, CC), (spared, VBD), (me, PRP), (the, DT), (upsell, JJ), (bull, NN), (that, WDT), (makes, VBZ), (me, PRP), (want, VB), (to, TO), (kill, VB), (., .), (He, PRP), (even, RB), (pointed, VBD), (our, PRP$), (a, DT), (discount, NN), (I, PRP), (was, VBD), (eligible, JJ), (for, IN), (without, IN), (me, PRP), (asking, VBG), (about, IN), (it, PRP), (., .), (In, IN), (the, DT), (end, NN), (,, ,), (Chase, NNP), (made, VBD), (this, DT), (a, DT), (surprisingly, RB), (painless, JJ), (deal, NN), (., .), (I, PRP), (do, VBP), ...]</td>\n",
       "      <td>[generally, almost, n't, n't, ready, first, pushy, completely, upsell, even, eligible, surprisingly, painless, n't, entire]</td>\n",
       "    </tr>\n",
       "    <tr>\n",
       "      <th>3</th>\n",
       "      <td>I don't write lengthy reviews - so here it goes.\\n\\nGreat place, excellent popcorn by any standard. The flavors are well balanced. I got the caramel\\/sour apple - AWESOME and my wife got the Marilyn Monroe (coconut white chocolate), again AWESOME. It was fresh when we got it and my wife's is even fresh 2 days later - don't ask why it is lasting that long - she has major self control, mine was gone in hours.\\n\\nWell done on concept and execution.</td>\n",
       "      <td>1</td>\n",
       "      <td>[(I, PRP), (do, VBP), (n't, RB), (write, VB), (lengthy, JJ), (reviews, NNS), (-, :), (so, RB), (here, RB), (it, PRP), (goes, VBZ), (., .), (Great, JJ), (place, NN), (,, ,), (excellent, JJ), (popcorn, VBN), (by, IN), (any, DT), (standard, NN), (., .), (The, DT), (flavors, NNS), (are, VBP), (well, RB), (balanced, VBN), (., .), (I, PRP), (got, VBD), (the, DT), (caramel\\/sour, NN), (apple, NN), (-, :), (AWESOME, NNP), (and, CC), (my, PRP$), (wife, NN), (got, VBD), (the, DT), (Marilyn, NNP), (Monroe, NNP), ((, (), (coconut, JJ), (white, JJ), (chocolate, NN), (), )), (,, ,), (again, RB), (AWESOME, NNP), (., .), (It, PRP), (was, VBD), (fresh, JJ), (when, WRB), (we, PRP), (got, VBD), (it, PRP), (and, CC), (my, PRP$), (wife, NN), ('s, POS), (is, VBZ), (even, RB), (fresh, JJ), (2, CD), (days, NNS), (later, RB), (-, :), (do, VBP), (n't, RB), (ask, VB), (why, WRB), (it, PRP), (is, VBZ), (lasting, VBG), (that, IN), (long, JJ), (-, :), (she, PRP), (has, VBZ), (major, JJ), (self, NNS), (control, NN), (,, ,), (mine, NN), (was, VBD), (gone, VBN), (in, IN), (hours, NNS), (., .), (Well, RB), (done, VBN), (on, IN), (concept, NN), (and, CC), (execution, NN), (., .)]</td>\n",
       "      <td>[n't, lengthy, so, here, Great, excellent, well, coconut, white, again, fresh, even, fresh, later, n't, long, major, Well]</td>\n",
       "    </tr>\n",
       "    <tr>\n",
       "      <th>4</th>\n",
       "      <td>This is the best thai food I have experienced in Toronto and quite possibly the best I have had...period.  \\n\\nBoth the food and service are amazing.  The restaurant is deceiving from the outside, based on the restaurant location. However, the interior decor is warm, inviting and quaint.  Suitable for a casual\\/friendly get together; yet would be a wonderful spot for a romantic dinner as well.\\n\\nWhether dining in or taking out, Mengrai will surely not disappoint. Great value for the money too.  I suggest the mango salad, cold spring rolls and the green thai curry with chicken and basil!   Of course, their signature pineapple dish is worth the experience as well. \\n\\nGreat place for gluten free and dairy free diet requirements!</td>\n",
       "      <td>1</td>\n",
       "      <td>[(This, DT), (is, VBZ), (the, DT), (best, JJS), (thai, NN), (food, NN), (I, PRP), (have, VBP), (experienced, VBN), (in, IN), (Toronto, NNP), (and, CC), (quite, RB), (possibly, RB), (the, DT), (best, JJS), (I, PRP), (have, VBP), (had, VBD), (..., :), (period, NN), (., .), (Both, DT), (the, DT), (food, NN), (and, CC), (service, NN), (are, VBP), (amazing, VBG), (., .), (The, DT), (restaurant, NN), (is, VBZ), (deceiving, VBG), (from, IN), (the, DT), (outside, NN), (,, ,), (based, VBN), (on, IN), (the, DT), (restaurant, NN), (location, NN), (., .), (However, RB), (,, ,), (the, DT), (interior, JJ), (decor, NN), (is, VBZ), (warm, JJ), (,, ,), (inviting, VBG), (and, CC), (quaint, NN), (., .), (Suitable, JJ), (for, IN), (a, DT), (casual\\/friendly, JJ), (get, NN), (together, RB), (;, :), (yet, CC), (would, MD), (be, VB), (a, DT), (wonderful, JJ), (spot, NN), (for, IN), (a, DT), (romantic, JJ), (dinner, NN), (as, IN), (well, RB), (., .), (Whether, NNP), (dining, VBG), (in, IN), (or, CC), (taking, VBG), (out, RP), (,, ,), (Mengrai, NNP), (will, MD), (surely, RB), (not, RB), (disappoint, NN), (., .), (Great, NNP), (value, NN), (for, IN), (the, DT), (money, NN), (too, RB), (., .), (I, PRP), (suggest, VBP), (the, DT), (mango, NN), ...]</td>\n",
       "      <td>[best, quite, possibly, best, However, interior, warm, Suitable, casual\\/friendly, together, wonderful, romantic, well, surely, not, too, cold, green, pineapple, as, well, Great, gluten, free, dairy, free]</td>\n",
       "    </tr>\n",
       "  </tbody>\n",
       "</table>\n",
       "</div>"
      ],
      "text/plain": [
       "                                                                                                                                                                                                                                                                                                                                                                                                                                                                                                                                                                                                                                                                                                                                                                                                                                                                                                                                                                                                                                                                                text  \\\n",
       "0             Bi-Lo is notoriously inconsistent in the quality of their stores, but the Albemarle Road location exceeded my expectations.  Spacious, varied in selection, and low prices.  The kicker is yet to come....\\n\\nOn both trips to this Bi-Lo, the produce has been surprisingly fresh.  A head of romaine lettuce is a mere $2!  The fruit is kind lacking...but that's why Compare Foods is around the corner. The bakery is always baking something fresh and the meats look quite appealing.  Unlike other Bi-Lo's, I didn't notice this location trying to hawk expired foods.  I guess I keep shopping here because its cheap like Aldi's, but has the selection like a normal grocery store.  Anyway....\\n\\nThe kicker is that the reward you with gas savings.  If you buy like $50 worth of groceries, you'll get .15 per gallon off from several gas stations.  No joke.  Please keep in mind that this is Albemarle Rd, so I'd avoid grocery trips after dark.  Otherwise, you'll be pleasantly surprised that a decent grocery store exists in East Charlotte.   \n",
       "1  Blackwells on South Bridge is not only a bookshop, it's a labyrinth! Seriously, you could get lost in here.\\n\\nSpread out over three floors, this shop caters for all your literary needs. As it's closely affiliated with Edinburgh's Universities there is a comprehensive academic department covering everything from Medicine to Media Studies, and the staff can provide useful guidance if you're feeling a little overwhelmed by it all. If you're here for something more recreational, the ground floor is a good place to while away an afternoon browsing the shelves. There is also a music department with a lot of Scottish and classical CDs and a nice children's department in the basement. Cafe Nero has cleverly set up camp in here too, so you can start your new tome with a cup of coffee in hand without even leaving the building.\\n\\nUnfortunately there is no student discount (although there is a loyalty card scheme) and it can't rival Amazon's prices, but the shop is open pretty late and I think it's the best large bookshop in Edinburgh.   \n",
       "2                                                                                                                                                                                                                                                                                                                                                                                                                                                                                                 I generally loathe salespeople and almost didn't purchase my iPhone yesterday because I couldn't do it online. I walked line the store ready to smack down the first pushy salesperson like an annoying knat. But my sales guy, Chase, completely surprised me. He saw that I knew what I wanted and spared me the upsell bull that makes me want to kill. He even pointed our a discount I was eligible for without me asking about it. \\nIn the end, Chase made this a surprisingly painless deal. I don't know if the entire staff operates line Chase, but I know they should.   \n",
       "3                                                                                                                                                                                                                                                                                                                                                                                                                                                                                                                                                                                                                  I don't write lengthy reviews - so here it goes.\\n\\nGreat place, excellent popcorn by any standard. The flavors are well balanced. I got the caramel\\/sour apple - AWESOME and my wife got the Marilyn Monroe (coconut white chocolate), again AWESOME. It was fresh when we got it and my wife's is even fresh 2 days later - don't ask why it is lasting that long - she has major self control, mine was gone in hours.\\n\\nWell done on concept and execution.   \n",
       "4                                                                                                                                                                                                                                                                                                                  This is the best thai food I have experienced in Toronto and quite possibly the best I have had...period.  \\n\\nBoth the food and service are amazing.  The restaurant is deceiving from the outside, based on the restaurant location. However, the interior decor is warm, inviting and quaint.  Suitable for a casual\\/friendly get together; yet would be a wonderful spot for a romantic dinner as well.\\n\\nWhether dining in or taking out, Mengrai will surely not disappoint. Great value for the money too.  I suggest the mango salad, cold spring rolls and the green thai curry with chicken and basil!   Of course, their signature pineapple dish is worth the experience as well. \\n\\nGreat place for gluten free and dairy free diet requirements!   \n",
       "\n",
       "   sentiment  \\\n",
       "0          1   \n",
       "1          1   \n",
       "2          1   \n",
       "3          1   \n",
       "4          1   \n",
       "\n",
       "                                                                                                                                                                                                                                                                                                                                                                                                                                                                                                                                                                                                                                                                                                                                                                                                                                                                                                                                                                                                                                                                                                                                                                                                                                                                                                               POS_review  \\\n",
       "0                             [(Bi-Lo, NNP), (is, VBZ), (notoriously, RB), (inconsistent, JJ), (in, IN), (the, DT), (quality, NN), (of, IN), (their, PRP$), (stores, NNS), (,, ,), (but, CC), (the, DT), (Albemarle, NNP), (Road, NNP), (location, NN), (exceeded, VBD), (my, PRP$), (expectations, NNS), (., .), (Spacious, JJ), (,, ,), (varied, VBN), (in, IN), (selection, NN), (,, ,), (and, CC), (low, JJ), (prices, NNS), (., .), (The, DT), (kicker, NN), (is, VBZ), (yet, RB), (to, TO), (come, VB), (...., NN), (On, IN), (both, DT), (trips, NNS), (to, TO), (this, DT), (Bi-Lo, NNP), (,, ,), (the, DT), (produce, NN), (has, VBZ), (been, VBN), (surprisingly, RB), (fresh, JJ), (., .), (A, DT), (head, NN), (of, IN), (romaine, NN), (lettuce, NN), (is, VBZ), (a, DT), (mere, JJ), ($, $), (2, CD), (!, .), (The, DT), (fruit, NN), (is, VBZ), (kind, NN), (lacking, VBG), (..., :), (but, CC), (that, DT), ('s, VBZ), (why, WRB), (Compare, NNP), (Foods, NNPS), (is, VBZ), (around, IN), (the, DT), (corner, NN), (., .), (The, DT), (bakery, NN), (is, VBZ), (always, RB), (baking, VBG), (something, NN), (fresh, JJ), (and, CC), (the, DT), (meats, NNS), (look, VBP), (quite, RB), (appealing, VBG), (., .), (Unlike, IN), (other, JJ), (Bi-Lo, NNP), ('s, POS), (,, ,), (I, PRP), (did, VBD), ...]   \n",
       "1  [(Blackwells, NNS), (on, IN), (South, NNP), (Bridge, NNP), (is, VBZ), (not, RB), (only, RB), (a, DT), (bookshop, NN), (,, ,), (it, PRP), ('s, VBZ), (a, DT), (labyrinth, NN), (!, .), (Seriously, RB), (,, ,), (you, PRP), (could, MD), (get, VB), (lost, VBN), (in, IN), (here, RB), (., .), (Spread, NN), (out, RP), (over, IN), (three, CD), (floors, NNS), (,, ,), (this, DT), (shop, NN), (caters, VBZ), (for, IN), (all, DT), (your, PRP$), (literary, JJ), (needs, NNS), (., .), (As, IN), (it, PRP), ('s, VBZ), (closely, RB), (affiliated, VBN), (with, IN), (Edinburgh, NNP), ('s, POS), (Universities, NNS), (there, EX), (is, VBZ), (a, DT), (comprehensive, JJ), (academic, JJ), (department, NN), (covering, VBG), (everything, NN), (from, IN), (Medicine, NNP), (to, TO), (Media, NNP), (Studies, NNP), (,, ,), (and, CC), (the, DT), (staff, NN), (can, MD), (provide, VB), (useful, JJ), (guidance, NN), (if, IN), (you, PRP), ('re, VBP), (feeling, VBG), (a, DT), (little, JJ), (overwhelmed, JJ), (by, IN), (it, PRP), (all, DT), (., .), (If, IN), (you, PRP), ('re, VBP), (here, RB), (for, IN), (something, NN), (more, RBR), (recreational, JJ), (,, ,), (the, DT), (ground, NN), (floor, NN), (is, VBZ), (a, DT), (good, JJ), (place, NN), (to, TO), (while, VB), (away, RP), (an, DT), ...]   \n",
       "2                                     [(I, PRP), (generally, RB), (loathe, VBP), (salespeople, NN), (and, CC), (almost, RB), (did, VBD), (n't, RB), (purchase, VB), (my, PRP$), (iPhone, NN), (yesterday, NN), (because, IN), (I, PRP), (could, MD), (n't, RB), (do, VB), (it, PRP), (online, VB), (., .), (I, PRP), (walked, VBD), (line, NN), (the, DT), (store, NN), (ready, JJ), (to, TO), (smack, VB), (down, RP), (the, DT), (first, JJ), (pushy, JJ), (salesperson, NN), (like, IN), (an, DT), (annoying, VBG), (knat, NN), (., .), (But, CC), (my, PRP$), (sales, NNS), (guy, NN), (,, ,), (Chase, NNP), (,, ,), (completely, RB), (surprised, VBD), (me, PRP), (., .), (He, PRP), (saw, VBD), (that, IN), (I, PRP), (knew, VBD), (what, WP), (I, PRP), (wanted, VBD), (and, CC), (spared, VBD), (me, PRP), (the, DT), (upsell, JJ), (bull, NN), (that, WDT), (makes, VBZ), (me, PRP), (want, VB), (to, TO), (kill, VB), (., .), (He, PRP), (even, RB), (pointed, VBD), (our, PRP$), (a, DT), (discount, NN), (I, PRP), (was, VBD), (eligible, JJ), (for, IN), (without, IN), (me, PRP), (asking, VBG), (about, IN), (it, PRP), (., .), (In, IN), (the, DT), (end, NN), (,, ,), (Chase, NNP), (made, VBD), (this, DT), (a, DT), (surprisingly, RB), (painless, JJ), (deal, NN), (., .), (I, PRP), (do, VBP), ...]   \n",
       "3                                                                                                             [(I, PRP), (do, VBP), (n't, RB), (write, VB), (lengthy, JJ), (reviews, NNS), (-, :), (so, RB), (here, RB), (it, PRP), (goes, VBZ), (., .), (Great, JJ), (place, NN), (,, ,), (excellent, JJ), (popcorn, VBN), (by, IN), (any, DT), (standard, NN), (., .), (The, DT), (flavors, NNS), (are, VBP), (well, RB), (balanced, VBN), (., .), (I, PRP), (got, VBD), (the, DT), (caramel\\/sour, NN), (apple, NN), (-, :), (AWESOME, NNP), (and, CC), (my, PRP$), (wife, NN), (got, VBD), (the, DT), (Marilyn, NNP), (Monroe, NNP), ((, (), (coconut, JJ), (white, JJ), (chocolate, NN), (), )), (,, ,), (again, RB), (AWESOME, NNP), (., .), (It, PRP), (was, VBD), (fresh, JJ), (when, WRB), (we, PRP), (got, VBD), (it, PRP), (and, CC), (my, PRP$), (wife, NN), ('s, POS), (is, VBZ), (even, RB), (fresh, JJ), (2, CD), (days, NNS), (later, RB), (-, :), (do, VBP), (n't, RB), (ask, VB), (why, WRB), (it, PRP), (is, VBZ), (lasting, VBG), (that, IN), (long, JJ), (-, :), (she, PRP), (has, VBZ), (major, JJ), (self, NNS), (control, NN), (,, ,), (mine, NN), (was, VBD), (gone, VBN), (in, IN), (hours, NNS), (., .), (Well, RB), (done, VBN), (on, IN), (concept, NN), (and, CC), (execution, NN), (., .)]   \n",
       "4                                [(This, DT), (is, VBZ), (the, DT), (best, JJS), (thai, NN), (food, NN), (I, PRP), (have, VBP), (experienced, VBN), (in, IN), (Toronto, NNP), (and, CC), (quite, RB), (possibly, RB), (the, DT), (best, JJS), (I, PRP), (have, VBP), (had, VBD), (..., :), (period, NN), (., .), (Both, DT), (the, DT), (food, NN), (and, CC), (service, NN), (are, VBP), (amazing, VBG), (., .), (The, DT), (restaurant, NN), (is, VBZ), (deceiving, VBG), (from, IN), (the, DT), (outside, NN), (,, ,), (based, VBN), (on, IN), (the, DT), (restaurant, NN), (location, NN), (., .), (However, RB), (,, ,), (the, DT), (interior, JJ), (decor, NN), (is, VBZ), (warm, JJ), (,, ,), (inviting, VBG), (and, CC), (quaint, NN), (., .), (Suitable, JJ), (for, IN), (a, DT), (casual\\/friendly, JJ), (get, NN), (together, RB), (;, :), (yet, CC), (would, MD), (be, VB), (a, DT), (wonderful, JJ), (spot, NN), (for, IN), (a, DT), (romantic, JJ), (dinner, NN), (as, IN), (well, RB), (., .), (Whether, NNP), (dining, VBG), (in, IN), (or, CC), (taking, VBG), (out, RP), (,, ,), (Mengrai, NNP), (will, MD), (surely, RB), (not, RB), (disappoint, NN), (., .), (Great, NNP), (value, NN), (for, IN), (the, DT), (money, NN), (too, RB), (., .), (I, PRP), (suggest, VBP), (the, DT), (mango, NN), ...]   \n",
       "\n",
       "                                                                                                                                                                                                                                                       adj_adv  \n",
       "0                                                                     [notoriously, inconsistent, Spacious, low, yet, surprisingly, fresh, mere, always, fresh, quite, other, n't, expired, here, normal, Anyway, .15, several, Otherwise, pleasantly, decent]  \n",
       "1  [not, only, Seriously, here, literary, closely, comprehensive, academic, useful, little, overwhelmed, here, more, recreational, good, also, Scottish, classical, nice, cleverly, here, too, new, even, Unfortunately, n't, open, pretty, late, best, large]  \n",
       "2                                                                                                                                  [generally, almost, n't, n't, ready, first, pushy, completely, upsell, even, eligible, surprisingly, painless, n't, entire]  \n",
       "3                                                                                                                                   [n't, lengthy, so, here, Great, excellent, well, coconut, white, again, fresh, even, fresh, later, n't, long, major, Well]  \n",
       "4                                                [best, quite, possibly, best, However, interior, warm, Suitable, casual\\/friendly, together, wonderful, romantic, well, surely, not, too, cold, green, pineapple, as, well, Great, gluten, free, dairy, free]  "
      ]
     },
     "execution_count": 67,
     "metadata": {},
     "output_type": "execute_result"
    }
   ],
   "source": [
    "def extract_pos(x):\n",
    "    # Extracting words that have an adjectives (JJ) or adverb (RB) tag\n",
    "    extracted_words = [word for (word,tag) in x if tag.startswith(\"JJ\") or tag.startswith(\"RB\")]\n",
    "    return extracted_words\n",
    "        \n",
    "df2['adj_adv'] = df2['POS_review'].apply(lambda x: extract_pos(x))\n",
    "df2.head()"
   ]
  },
  {
   "cell_type": "code",
   "execution_count": 68,
   "metadata": {},
   "outputs": [],
   "source": [
    "# Identifying texts with no adjectives or adverbs\n",
    "empty_indexes = []\n",
    "for i in df2.index:\n",
    "    if len(df2['adj_adv'][i]) == 0:\n",
    "        empty_indexes.append(i)"
   ]
  },
  {
   "cell_type": "code",
   "execution_count": 69,
   "metadata": {},
   "outputs": [
    {
     "name": "stdout",
     "output_type": "stream",
     "text": [
      "Number of texts with no adjectives or adverbs inside: 38\n"
     ]
    }
   ],
   "source": [
    "print(\"Number of texts with no adjectives or adverbs inside:\",len(empty_indexes))"
   ]
  },
  {
   "cell_type": "code",
   "execution_count": 70,
   "metadata": {},
   "outputs": [
    {
     "name": "stdout",
     "output_type": "stream",
     "text": [
      "The Mango & Cream Bars and the Chile Spiced Mangos rock my world. Thank you for bringing them into my life. \n",
      "\n",
      "Opus X heaven.  Love Mikey gold chains. \n",
      "\n",
      "guter baumarkt mit allem was man braucht \n",
      "\n",
      "Kohl's service and friendliness are amazing. The store has improved 100% I LOVE THIS STORE Marlene \n",
      "\n",
      "Big, clean, carries lots of variety. Some is overpriced, the rest is about average. \n",
      "\n"
     ]
    }
   ],
   "source": [
    "# Checking out some of the text that has no adjectives/adverbs\n",
    "counter = 0\n",
    "for index in empty_indexes:\n",
    "    if counter == 5:\n",
    "        break\n",
    "    print(df2['text'][index],\"\\n\")\n",
    "    counter += 1"
   ]
  },
  {
   "cell_type": "markdown",
   "metadata": {},
   "source": [
    "Due to no adjectives or adverbs identified, it would make the sentiment analysis classification tougher. Therefore, I will remove it to prevent it from affecting the model's accuracy in classification."
   ]
  },
  {
   "cell_type": "code",
   "execution_count": 71,
   "metadata": {},
   "outputs": [],
   "source": [
    "df2 = df2.drop(index=empty_indexes)"
   ]
  },
  {
   "cell_type": "code",
   "execution_count": 72,
   "metadata": {},
   "outputs": [],
   "source": [
    "df2 = df2.reset_index(drop=True)"
   ]
  },
  {
   "cell_type": "markdown",
   "metadata": {},
   "source": [
    "### Data Understanding - Sentiment Top Words"
   ]
  },
  {
   "cell_type": "code",
   "execution_count": 73,
   "metadata": {},
   "outputs": [],
   "source": [
    "negative_words = []\n",
    "positive_words = []\n",
    "\n",
    "for index in df2.index:\n",
    "    words = df2['adj_adv'][index]\n",
    "    if df2['sentiment'][index] == 0:\n",
    "        negative_words.extend(words)\n",
    "    else:\n",
    "        positive_words.extend(words)"
   ]
  },
  {
   "cell_type": "code",
   "execution_count": 74,
   "metadata": {
    "scrolled": false
   },
   "outputs": [
    {
     "data": {
      "image/png": "[encoded data removed]",
      "text/plain": [
       "<Figure size 640x480 with 1 Axes>"
      ]
     },
     "metadata": {},
     "output_type": "display_data"
    }
   ],
   "source": [
    "# Generate frequency for the top negative words\n",
    "freq_dist = nltk.FreqDist(negative_words)\n",
    "\n",
    "# Visualizing \n",
    "words = dict([(k,v) for k,v in freq_dist.items()])\n",
    "\n",
    "# create frequency distribution of the filtered words\n",
    "freq_dist = nltk.FreqDist(words)\n",
    "\n",
    "# Generate line chart to show the top words\n",
    "# plot the frequency distribution of the top 50 words\n",
    "freq_dist.plot(15, cumulative=False)\n",
    "plt.show()"
   ]
  },
  {
   "cell_type": "code",
   "execution_count": 75,
   "metadata": {},
   "outputs": [
    {
     "data": {
      "image/png": "[encoded data removed]",
      "text/plain": [
       "<Figure size 640x480 with 1 Axes>"
      ]
     },
     "metadata": {},
     "output_type": "display_data"
    }
   ],
   "source": [
    "# Generate frequency for the top positive words\n",
    "freq_dist = nltk.FreqDist(positive_words)\n",
    "\n",
    "# Visualizing \n",
    "words = dict([(k,v) for k,v in freq_dist.items()])\n",
    "\n",
    "# create frequency distribution of the filtered words\n",
    "freq_dist = nltk.FreqDist(words)\n",
    "\n",
    "# plot the frequency distribution of the top 50 words\n",
    "freq_dist.plot(15, cumulative=False)\n",
    "plt.show()"
   ]
  },
  {
   "cell_type": "markdown",
   "metadata": {},
   "source": [
    "Based on the top adjective/adverb words found in both sentiments, both share almost the same top 15 words. Therefore, I will add some of the top words to the stopword list for removal:\n",
    "\n",
    "'n't', 'not', 'here', 'so', 'just', 'really', 'very', 'only', 'more', 'other'\n",
    "\n",
    "Removing these common words reduces the overlapping common words among the two sentiments and allows the model to weigh the more important words and classify the texts more distinctively."
   ]
  },
  {
   "cell_type": "markdown",
   "metadata": {},
   "source": [
    "### Pattern Removal\n",
    "\n",
    "These pattern words include links, domain websites, http, sql texts. These words do not provide any detail toward the text's sentiment and are considered noise which may cause the model to perform poorly with the presence of these words. Therefore, I will remove them through pattern matching.\n",
    "\n",
    "Additionally, the negator words such as \"don't\" are converted to \"dont\" so that they will not be removed from the stopword list which contains negator words that have apostrophe only e.g., \"don't\".\n",
    "\n",
    "Lastly, removing numbers, punctuations, and new line codes found previously when displaying the head of the dataframe."
   ]
  },
  {
   "cell_type": "code",
   "execution_count": 76,
   "metadata": {},
   "outputs": [],
   "source": [
    "# Store reviews in a variable\n",
    "reviews = [review.lower() for review in df2['text']]"
   ]
  },
  {
   "cell_type": "code",
   "execution_count": 77,
   "metadata": {},
   "outputs": [],
   "source": [
    "# Removing pattern specific words.\n",
    "\n",
    "# This patterns remove all links that start with \\\\/\n",
    "link_pattern = '\\B((\\\\\\\\\\/)+[\\\\\\/.a-zA-Z0-9_~=-]+)'\n",
    "\n",
    "# This pattern removes all links that end with some common domain names\n",
    "domain_pattern = '([\\\\\\/\\w\\d\\.\\_\\=\\-]+)(\\.('+regex_domain_names+')|:)([\\\\\\/\\w\\d\\.\\_\\=\\-]+)?'\n",
    "\n",
    "# SQL like or version statements\n",
    "sql_pattern = '([a-zA-Z0-9]+)=(\\w+[^a-zA-Z\\s]+\\w+)+'\n",
    "\n",
    "# This removes all http in text\n",
    "http_pattern = '(\\w+)?(http)(\\w+)?'\n",
    "\n",
    "# This ensures negator words are kept.\n",
    "# Negator words invert the polarity of the sentiment bearing word directly following the negation word\n",
    "# Therefore, it is important to keep negator words in the text to prevent the model from assigning \n",
    "# a negative text a positive sentiment\n",
    "apostrophe_pattern = '\\''\n",
    "\n",
    "# Numbers or Symbols\n",
    "other_pattern = '[^a-zA-Z\\s]'\n",
    "\n",
    "# New Line\n",
    "new_pattern = '\\n'"
   ]
  },
  {
   "cell_type": "code",
   "execution_count": 78,
   "metadata": {},
   "outputs": [],
   "source": [
    "for index in range(len(reviews)):\n",
    "    reviews[index] = re.sub(link_pattern, '', reviews[index])\n",
    "    reviews[index] = re.sub(domain_pattern, '', reviews[index])\n",
    "    reviews[index] = re.sub(sql_pattern, '', reviews[index])\n",
    "    reviews[index] = re.sub(http_pattern, '', reviews[index])\n",
    "    reviews[index] = re.sub(apostrophe_pattern, '', reviews[index])\n",
    "    reviews[index] = re.sub(other_pattern, ' ', reviews[index])\n",
    "    reviews[index] = re.sub(new_pattern, ' ', reviews[index])"
   ]
  },
  {
   "cell_type": "code",
   "execution_count": 79,
   "metadata": {},
   "outputs": [],
   "source": [
    "# Storing the cleaned reviews in the dataframe\n",
    "df2['text'] = reviews"
   ]
  },
  {
   "cell_type": "code",
   "execution_count": 80,
   "metadata": {},
   "outputs": [],
   "source": [
    "# Removing the useless column\n",
    "df2 = df2.drop(columns=['POS_review', 'adj_adv'])"
   ]
  },
  {
   "cell_type": "code",
   "execution_count": 81,
   "metadata": {},
   "outputs": [
    {
     "data": {
      "text/html": [
       "<div>\n",
       "<style scoped>\n",
       "    .dataframe tbody tr th:only-of-type {\n",
       "        vertical-align: middle;\n",
       "    }\n",
       "\n",
       "    .dataframe tbody tr th {\n",
       "        vertical-align: top;\n",
       "    }\n",
       "\n",
       "    .dataframe thead th {\n",
       "        text-align: right;\n",
       "    }\n",
       "</style>\n",
       "<table border=\"1\" class=\"dataframe\">\n",
       "  <thead>\n",
       "    <tr style=\"text-align: right;\">\n",
       "      <th></th>\n",
       "      <th>text</th>\n",
       "      <th>sentiment</th>\n",
       "    </tr>\n",
       "  </thead>\n",
       "  <tbody>\n",
       "    <tr>\n",
       "      <th>0</th>\n",
       "      <td>bi lo is notoriously inconsistent in the quality of their stores  but the albemarle road location exceeded my expectations   spacious  varied in selection  and low prices   the kicker is yet to come      on both trips to this bi lo  the produce has been surprisingly fresh   a head of romaine lettuce is a mere      the fruit is kind lacking   but thats why compare foods is around the corner  the bakery is always baking something fresh and the meats look quite appealing   unlike other bi los  i didnt notice this location trying to hawk expired foods   i guess i keep shopping here because its cheap like aldis  but has the selection like a normal grocery store   anyway      the kicker is that the reward you with gas savings   if you buy like     worth of groceries  youll get     per gallon off from several gas stations   no joke   please keep in mind that this is albemarle rd  so id avoid grocery trips after dark   otherwise  youll be pleasantly surprised that a decent grocery store exists in east charlotte</td>\n",
       "      <td>1</td>\n",
       "    </tr>\n",
       "    <tr>\n",
       "      <th>1</th>\n",
       "      <td>blackwells on south bridge is not only a bookshop  its a labyrinth  seriously  you could get lost in here   spread out over three floors  this shop caters for all your literary needs  as its closely affiliated with edinburghs universities there is a comprehensive academic department covering everything from medicine to media studies  and the staff can provide useful guidance if youre feeling a little overwhelmed by it all  if youre here for something more recreational  the ground floor is a good place to while away an afternoon browsing the shelves  there is also a music department with a lot of scottish and classical cds and a nice childrens department in the basement  cafe nero has cleverly set up camp in here too  so you can start your new tome with a cup of coffee in hand without even leaving the building   unfortunately there is no student discount  although there is a loyalty card scheme  and it cant rival amazons prices  but the shop is open pretty late and i think its the best large bookshop in edinburgh</td>\n",
       "      <td>1</td>\n",
       "    </tr>\n",
       "    <tr>\n",
       "      <th>2</th>\n",
       "      <td>i generally loathe salespeople and almost didnt purchase my iphone yesterday because i couldnt do it online  i walked line the store ready to smack down the first pushy salesperson like an annoying knat  but my sales guy  chase  completely surprised me  he saw that i knew what i wanted and spared me the upsell bull that makes me want to kill  he even pointed our a discount i was eligible for without me asking about it   in the end  chase made this a surprisingly painless deal  i dont know if the entire staff operates line chase  but i know they should</td>\n",
       "      <td>1</td>\n",
       "    </tr>\n",
       "    <tr>\n",
       "      <th>3</th>\n",
       "      <td>i dont write lengthy reviews   so here it goes   great place  excellent popcorn by any standard  the flavors are well balanced  i got the caramel  sour apple   awesome and my wife got the marilyn monroe  coconut white chocolate   again awesome  it was fresh when we got it and my wifes is even fresh   days later   dont ask why it is lasting that long   she has major self control  mine was gone in hours   well done on concept and execution</td>\n",
       "      <td>1</td>\n",
       "    </tr>\n",
       "    <tr>\n",
       "      <th>4</th>\n",
       "      <td>this is the best thai food i have experienced in toronto and quite possibly the best i have had   period     both the food and service are amazing   the restaurant is deceiving from the outside  based on the restaurant location  however  the interior decor is warm  inviting and quaint   suitable for a casual  friendly get together  yet would be a wonderful spot for a romantic dinner as well   whether dining in or taking out  mengrai will surely not disappoint  great value for the money too   i suggest the mango salad  cold spring rolls and the green thai curry with chicken and basil    of course  their signature pineapple dish is worth the experience as well    great place for gluten free and dairy free diet requirements</td>\n",
       "      <td>1</td>\n",
       "    </tr>\n",
       "  </tbody>\n",
       "</table>\n",
       "</div>"
      ],
      "text/plain": [
       "                                                                                                                                                                                                                                                                                                                                                                                                                                                                                                                                                                                                                                                                                                                                                                                                                                                                                                                                                                                                                                                                   text  \\\n",
       "0           bi lo is notoriously inconsistent in the quality of their stores  but the albemarle road location exceeded my expectations   spacious  varied in selection  and low prices   the kicker is yet to come      on both trips to this bi lo  the produce has been surprisingly fresh   a head of romaine lettuce is a mere      the fruit is kind lacking   but thats why compare foods is around the corner  the bakery is always baking something fresh and the meats look quite appealing   unlike other bi los  i didnt notice this location trying to hawk expired foods   i guess i keep shopping here because its cheap like aldis  but has the selection like a normal grocery store   anyway      the kicker is that the reward you with gas savings   if you buy like     worth of groceries  youll get     per gallon off from several gas stations   no joke   please keep in mind that this is albemarle rd  so id avoid grocery trips after dark   otherwise  youll be pleasantly surprised that a decent grocery store exists in east charlotte    \n",
       "1  blackwells on south bridge is not only a bookshop  its a labyrinth  seriously  you could get lost in here   spread out over three floors  this shop caters for all your literary needs  as its closely affiliated with edinburghs universities there is a comprehensive academic department covering everything from medicine to media studies  and the staff can provide useful guidance if youre feeling a little overwhelmed by it all  if youre here for something more recreational  the ground floor is a good place to while away an afternoon browsing the shelves  there is also a music department with a lot of scottish and classical cds and a nice childrens department in the basement  cafe nero has cleverly set up camp in here too  so you can start your new tome with a cup of coffee in hand without even leaving the building   unfortunately there is no student discount  although there is a loyalty card scheme  and it cant rival amazons prices  but the shop is open pretty late and i think its the best large bookshop in edinburgh    \n",
       "2                                                                                                                                                                                                                                                                                                                                                                                                                                                                                        i generally loathe salespeople and almost didnt purchase my iphone yesterday because i couldnt do it online  i walked line the store ready to smack down the first pushy salesperson like an annoying knat  but my sales guy  chase  completely surprised me  he saw that i knew what i wanted and spared me the upsell bull that makes me want to kill  he even pointed our a discount i was eligible for without me asking about it   in the end  chase made this a surprisingly painless deal  i dont know if the entire staff operates line chase  but i know they should    \n",
       "3                                                                                                                                                                                                                                                                                                                                                                                                                                                                                                                                                                                                            i dont write lengthy reviews   so here it goes   great place  excellent popcorn by any standard  the flavors are well balanced  i got the caramel  sour apple   awesome and my wife got the marilyn monroe  coconut white chocolate   again awesome  it was fresh when we got it and my wifes is even fresh   days later   dont ask why it is lasting that long   she has major self control  mine was gone in hours   well done on concept and execution    \n",
       "4                                                                                                                                                                                                                                                                                                           this is the best thai food i have experienced in toronto and quite possibly the best i have had   period     both the food and service are amazing   the restaurant is deceiving from the outside  based on the restaurant location  however  the interior decor is warm  inviting and quaint   suitable for a casual  friendly get together  yet would be a wonderful spot for a romantic dinner as well   whether dining in or taking out  mengrai will surely not disappoint  great value for the money too   i suggest the mango salad  cold spring rolls and the green thai curry with chicken and basil    of course  their signature pineapple dish is worth the experience as well    great place for gluten free and dairy free diet requirements    \n",
       "\n",
       "   sentiment  \n",
       "0          1  \n",
       "1          1  \n",
       "2          1  \n",
       "3          1  \n",
       "4          1  "
      ]
     },
     "execution_count": 81,
     "metadata": {},
     "output_type": "execute_result"
    }
   ],
   "source": [
    "df2.head()"
   ]
  },
  {
   "cell_type": "markdown",
   "metadata": {},
   "source": [
    "### Create Frequency Distribution of all words\n",
    "\n",
    "Frequency Distribution will calculate the number of occurence of each word in the entire list of words."
   ]
  },
  {
   "cell_type": "code",
   "execution_count": 82,
   "metadata": {
    "scrolled": true
   },
   "outputs": [],
   "source": [
    "# All words in the reviews\n",
    "from nltk.tokenize import word_tokenize\n",
    "\n",
    "all_words = [word.lower() for sent in df2.text for word in word_tokenize(sent)]"
   ]
  },
  {
   "cell_type": "code",
   "execution_count": 83,
   "metadata": {},
   "outputs": [
    {
     "name": "stdout",
     "output_type": "stream",
     "text": [
      "<FreqDist with 45043 samples and 2118368 outcomes>\n",
      "[('the', 91982), ('i', 65843), ('and', 64004), ('to', 58940), ('a', 55467), ('of', 35386), ('in', 28925), ('for', 25771), ('is', 24514), ('was', 22897)]\n"
     ]
    }
   ],
   "source": [
    "all_words_frequency = FreqDist(all_words)\n",
    "print (all_words_frequency)\n",
    "\n",
    "# print 10 most frequently occurring words\n",
    "print (all_words_frequency.most_common(10))"
   ]
  },
  {
   "cell_type": "markdown",
   "metadata": {},
   "source": [
    "Before data cleaning, most of the words are stopwords and have little meaning to the sentiment analysis."
   ]
  },
  {
   "cell_type": "markdown",
   "metadata": {},
   "source": [
    "### Removing Punctuation and Stopwords\n",
    "\n",
    "From the above frequency distribution of words, we can see the most frequently occurring words are either punctuation marks or stopwords.\n",
    "\n",
    "Stop words are those frequently words which do not carry any significant meaning in text analysis. For example, I, me, my, the, a, and, is, are, he, she, we, etc.\n",
    "\n",
    "Punctuation marks like comma, fullstop. inverted comma, etc. occur highly in any text data.\n",
    "\n",
    "We will do **data cleaning** by removing stop words and punctuations."
   ]
  },
  {
   "cell_type": "code",
   "execution_count": 84,
   "metadata": {},
   "outputs": [],
   "source": [
    "# Function for cleaning the texts\n",
    "\n",
    "import string\n",
    "from nltk.corpus import stopwords\n",
    "from gensim.parsing.porter import PorterStemmer\n",
    "\n",
    "porter_stemmer = PorterStemmer()\n",
    "stopwords_english = stopwords.words('english')\n",
    "stopwords_english.extend([\"n't\", 'not', 'here', 'so', 'just', 'really', 'very', 'only', 'more', 'other'])\n",
    "\n",
    "def clean(doc):\n",
    "    all_words_clean = []\n",
    "    for word in doc:\n",
    "        # Remove stopwords and numbers\n",
    "        if word not in stopwords_english and not word.isdigit():\n",
    "            \n",
    "            # Removing punctuations\n",
    "            punc_free = ''.join([ch for ch in word if ch not in string.punctuation])\n",
    "            \n",
    "            # Removing words that have lengths less than 2 as words less than 2 usually provide little to no insights due to low meaning\n",
    "            if len(punc_free)>2 and not word.isdigit():\n",
    "                \n",
    "                # Stemming the words.\n",
    "                all_words_clean.append(porter_stemmer.stem(punc_free))\n",
    "                # Stemming is used to reduce the dimensionality of words in the dataframe.\n",
    "                # Since there is more than 15k texts in the dataframe, there are lots of unique terms and high dimensions.\n",
    "                # Therefore, stemming is used to reduce the size and complexity of the dataframe, and improve the performance.\n",
    "\n",
    "    return all_words_clean\n",
    "\n",
    "cleaned_words = clean(all_words)"
   ]
  },
  {
   "cell_type": "code",
   "execution_count": 85,
   "metadata": {},
   "outputs": [
    {
     "name": "stdout",
     "output_type": "stream",
     "text": [
      "<FreqDist with 31116 samples and 1053340 outcomes>\n",
      "[('store', 12598), ('on', 8319), ('like', 8306), ('get', 8155), ('place', 7581), ('shop', 7002), ('time', 6889), ('look', 6240), ('would', 5824), ('price', 5414)]\n"
     ]
    }
   ],
   "source": [
    "# Create a frequency distribution of the words after cleaning\n",
    "all_words_frequency = FreqDist(cleaned_words)\n",
    "print (all_words_frequency)\n",
    "\n",
    "print (all_words_frequency.most_common(10))\n",
    "\n",
    "# get 2000 frequently occuring words\n",
    "# most documents would have at least some words from the top 2000 words. Therefore, it might be a better feature set for\n",
    "# classification.\n",
    "most_common_words = all_words_frequency.most_common(2000)\n",
    "\n",
    "# create word features\n",
    "all_word_features = [item[0] for item in most_common_words]"
   ]
  },
  {
   "cell_type": "markdown",
   "metadata": {},
   "source": [
    "Previously, before removing stopwords and punctuation, the frequency distribution was:\n",
    "\n",
    "> **FreqDist with 45062 samples and 2118861 outcomes**\n",
    "\n",
    "Now, the frequency distribution is:\n",
    "\n",
    "> **FreqDist with 31130 samples and 1053656 outcomes**\n",
    "\n",
    "This shows that after removing around 1000000 stop words, numbers and punctuation, the outcomes/words number has reduced to around half of the original size.\n",
    "\n",
    "Before, the first 10 frequently occurring words were only stop-words and punctuations. Now, the **most common words** or highly occurring words list has meaningful words in the list. "
   ]
  },
  {
   "cell_type": "markdown",
   "metadata": {},
   "source": [
    "## Feature Extraction\n",
    "\n",
    "Creating these feature sets have long computational time. Estimated run time is roughly 45minutes."
   ]
  },
  {
   "cell_type": "code",
   "execution_count": 86,
   "metadata": {},
   "outputs": [
    {
     "data": {
      "text/html": [
       "<div>\n",
       "<style scoped>\n",
       "    .dataframe tbody tr th:only-of-type {\n",
       "        vertical-align: middle;\n",
       "    }\n",
       "\n",
       "    .dataframe tbody tr th {\n",
       "        vertical-align: top;\n",
       "    }\n",
       "\n",
       "    .dataframe thead th {\n",
       "        text-align: right;\n",
       "    }\n",
       "</style>\n",
       "<table border=\"1\" class=\"dataframe\">\n",
       "  <thead>\n",
       "    <tr style=\"text-align: right;\">\n",
       "      <th></th>\n",
       "      <th>text</th>\n",
       "      <th>sentiment</th>\n",
       "      <th>text_tokens</th>\n",
       "    </tr>\n",
       "  </thead>\n",
       "  <tbody>\n",
       "    <tr>\n",
       "      <th>0</th>\n",
       "      <td>bi lo is notoriously inconsistent in the quality of their stores  but the albemarle road location exceeded my expectations   spacious  varied in selection  and low prices   the kicker is yet to come      on both trips to this bi lo  the produce has been surprisingly fresh   a head of romaine lettuce is a mere      the fruit is kind lacking   but thats why compare foods is around the corner  the bakery is always baking something fresh and the meats look quite appealing   unlike other bi los  i didnt notice this location trying to hawk expired foods   i guess i keep shopping here because its cheap like aldis  but has the selection like a normal grocery store   anyway      the kicker is that the reward you with gas savings   if you buy like     worth of groceries  youll get     per gallon off from several gas stations   no joke   please keep in mind that this is albemarle rd  so id avoid grocery trips after dark   otherwise  youll be pleasantly surprised that a decent grocery store exists in east charlotte</td>\n",
       "      <td>1</td>\n",
       "      <td>[notori, inconsist, qualiti, store, albemarl, road, locat, exceed, expect, spaciou, vari, select, low, price, kicker, yet, come, trip, produc, surprisingli, fresh, head, romain, lettuc, mere, fruit, kind, lack, that, compar, food, around, corner, bakeri, alwai, bake, someth, fresh, meat, look, quit, appeal, unlik, lo, didnt, notic, locat, try, hawk, expir, food, guess, keep, shop, cheap, like, aldi, select, like, normal, groceri, store, anywai, kicker, reward, ga, save, bui, like, worth, groceri, youll, get, per, gallon, sever, ga, station, joke, pleas, keep, mind, albemarl, avoid, groceri, trip, dark, otherwis, youll, pleasantli, surpris, decent, groceri, store, exist, east, charlott]</td>\n",
       "    </tr>\n",
       "    <tr>\n",
       "      <th>1</th>\n",
       "      <td>blackwells on south bridge is not only a bookshop  its a labyrinth  seriously  you could get lost in here   spread out over three floors  this shop caters for all your literary needs  as its closely affiliated with edinburghs universities there is a comprehensive academic department covering everything from medicine to media studies  and the staff can provide useful guidance if youre feeling a little overwhelmed by it all  if youre here for something more recreational  the ground floor is a good place to while away an afternoon browsing the shelves  there is also a music department with a lot of scottish and classical cds and a nice childrens department in the basement  cafe nero has cleverly set up camp in here too  so you can start your new tome with a cup of coffee in hand without even leaving the building   unfortunately there is no student discount  although there is a loyalty card scheme  and it cant rival amazons prices  but the shop is open pretty late and i think its the best large bookshop in edinburgh</td>\n",
       "      <td>1</td>\n",
       "      <td>[blackwel, south, bridg, bookshop, labyrinth, serious, could, get, lost, spread, three, floor, shop, cater, literari, need, close, affili, edinburgh, univers, comprehens, academ, depart, cover, everyth, medicin, media, studi, staff, provid, us, guidanc, your, feel, littl, overwhelm, your, someth, recreat, ground, floor, good, place, awai, afternoon, brows, shelv, also, music, depart, lot, scottish, classic, cd, nice, children, depart, basement, cafe, nero, cleverli, set, camp, start, new, tome, cup, coffe, hand, without, even, leav, build, unfortun, student, discount, although, loyalti, card, scheme, cant, rival, amazon, price, shop, open, pretti, late, think, best, larg, bookshop, edinburgh]</td>\n",
       "    </tr>\n",
       "    <tr>\n",
       "      <th>2</th>\n",
       "      <td>i generally loathe salespeople and almost didnt purchase my iphone yesterday because i couldnt do it online  i walked line the store ready to smack down the first pushy salesperson like an annoying knat  but my sales guy  chase  completely surprised me  he saw that i knew what i wanted and spared me the upsell bull that makes me want to kill  he even pointed our a discount i was eligible for without me asking about it   in the end  chase made this a surprisingly painless deal  i dont know if the entire staff operates line chase  but i know they should</td>\n",
       "      <td>1</td>\n",
       "      <td>[gener, loath, salespeopl, almost, didnt, purchas, iphon, yesterdai, couldnt, onlin, walk, line, store, readi, smack, first, pushi, salesperson, like, annoi, knat, sale, gui, chase, complet, surpris, saw, knew, want, spare, upsel, bull, make, want, kill, even, point, discount, elig, without, ask, end, chase, made, surprisingli, painless, deal, dont, know, entir, staff, oper, line, chase, know]</td>\n",
       "    </tr>\n",
       "    <tr>\n",
       "      <th>3</th>\n",
       "      <td>i dont write lengthy reviews   so here it goes   great place  excellent popcorn by any standard  the flavors are well balanced  i got the caramel  sour apple   awesome and my wife got the marilyn monroe  coconut white chocolate   again awesome  it was fresh when we got it and my wifes is even fresh   days later   dont ask why it is lasting that long   she has major self control  mine was gone in hours   well done on concept and execution</td>\n",
       "      <td>1</td>\n",
       "      <td>[dont, write, lengthi, review, goe, great, place, excel, popcorn, standard, flavor, well, balanc, got, caramel, sour, appl, awesom, wife, got, marilyn, monro, coconut, white, chocol, awesom, fresh, got, wife, even, fresh, dai, later, dont, ask, last, long, major, self, control, mine, gone, hour, well, done, concept, execut]</td>\n",
       "    </tr>\n",
       "    <tr>\n",
       "      <th>4</th>\n",
       "      <td>this is the best thai food i have experienced in toronto and quite possibly the best i have had   period     both the food and service are amazing   the restaurant is deceiving from the outside  based on the restaurant location  however  the interior decor is warm  inviting and quaint   suitable for a casual  friendly get together  yet would be a wonderful spot for a romantic dinner as well   whether dining in or taking out  mengrai will surely not disappoint  great value for the money too   i suggest the mango salad  cold spring rolls and the green thai curry with chicken and basil    of course  their signature pineapple dish is worth the experience as well    great place for gluten free and dairy free diet requirements</td>\n",
       "      <td>1</td>\n",
       "      <td>[best, thai, food, experienc, toronto, quit, possibl, best, period, food, servic, amaz, restaur, deceiv, outsid, base, restaur, locat, howev, interior, decor, warm, invit, quaint, suitabl, casual, friendli, get, togeth, yet, would, wonder, spot, romant, dinner, well, whether, dine, take, mengrai, sure, disappoint, great, valu, monei, suggest, mango, salad, cold, spring, roll, green, thai, curri, chicken, basil, cours, signatur, pineappl, dish, worth, experi, well, great, place, gluten, free, dairi, free, diet, requir]</td>\n",
       "    </tr>\n",
       "  </tbody>\n",
       "</table>\n",
       "</div>"
      ],
      "text/plain": [
       "                                                                                                                                                                                                                                                                                                                                                                                                                                                                                                                                                                                                                                                                                                                                                                                                                                                                                                                                                                                                                                                                   text  \\\n",
       "0           bi lo is notoriously inconsistent in the quality of their stores  but the albemarle road location exceeded my expectations   spacious  varied in selection  and low prices   the kicker is yet to come      on both trips to this bi lo  the produce has been surprisingly fresh   a head of romaine lettuce is a mere      the fruit is kind lacking   but thats why compare foods is around the corner  the bakery is always baking something fresh and the meats look quite appealing   unlike other bi los  i didnt notice this location trying to hawk expired foods   i guess i keep shopping here because its cheap like aldis  but has the selection like a normal grocery store   anyway      the kicker is that the reward you with gas savings   if you buy like     worth of groceries  youll get     per gallon off from several gas stations   no joke   please keep in mind that this is albemarle rd  so id avoid grocery trips after dark   otherwise  youll be pleasantly surprised that a decent grocery store exists in east charlotte    \n",
       "1  blackwells on south bridge is not only a bookshop  its a labyrinth  seriously  you could get lost in here   spread out over three floors  this shop caters for all your literary needs  as its closely affiliated with edinburghs universities there is a comprehensive academic department covering everything from medicine to media studies  and the staff can provide useful guidance if youre feeling a little overwhelmed by it all  if youre here for something more recreational  the ground floor is a good place to while away an afternoon browsing the shelves  there is also a music department with a lot of scottish and classical cds and a nice childrens department in the basement  cafe nero has cleverly set up camp in here too  so you can start your new tome with a cup of coffee in hand without even leaving the building   unfortunately there is no student discount  although there is a loyalty card scheme  and it cant rival amazons prices  but the shop is open pretty late and i think its the best large bookshop in edinburgh    \n",
       "2                                                                                                                                                                                                                                                                                                                                                                                                                                                                                        i generally loathe salespeople and almost didnt purchase my iphone yesterday because i couldnt do it online  i walked line the store ready to smack down the first pushy salesperson like an annoying knat  but my sales guy  chase  completely surprised me  he saw that i knew what i wanted and spared me the upsell bull that makes me want to kill  he even pointed our a discount i was eligible for without me asking about it   in the end  chase made this a surprisingly painless deal  i dont know if the entire staff operates line chase  but i know they should    \n",
       "3                                                                                                                                                                                                                                                                                                                                                                                                                                                                                                                                                                                                            i dont write lengthy reviews   so here it goes   great place  excellent popcorn by any standard  the flavors are well balanced  i got the caramel  sour apple   awesome and my wife got the marilyn monroe  coconut white chocolate   again awesome  it was fresh when we got it and my wifes is even fresh   days later   dont ask why it is lasting that long   she has major self control  mine was gone in hours   well done on concept and execution    \n",
       "4                                                                                                                                                                                                                                                                                                           this is the best thai food i have experienced in toronto and quite possibly the best i have had   period     both the food and service are amazing   the restaurant is deceiving from the outside  based on the restaurant location  however  the interior decor is warm  inviting and quaint   suitable for a casual  friendly get together  yet would be a wonderful spot for a romantic dinner as well   whether dining in or taking out  mengrai will surely not disappoint  great value for the money too   i suggest the mango salad  cold spring rolls and the green thai curry with chicken and basil    of course  their signature pineapple dish is worth the experience as well    great place for gluten free and dairy free diet requirements    \n",
       "\n",
       "   sentiment  \\\n",
       "0          1   \n",
       "1          1   \n",
       "2          1   \n",
       "3          1   \n",
       "4          1   \n",
       "\n",
       "                                                                                                                                                                                                                                                                                                                                                                                                                                                                                                                                                                                                                                                                                                                     text_tokens  \n",
       "0         [notori, inconsist, qualiti, store, albemarl, road, locat, exceed, expect, spaciou, vari, select, low, price, kicker, yet, come, trip, produc, surprisingli, fresh, head, romain, lettuc, mere, fruit, kind, lack, that, compar, food, around, corner, bakeri, alwai, bake, someth, fresh, meat, look, quit, appeal, unlik, lo, didnt, notic, locat, try, hawk, expir, food, guess, keep, shop, cheap, like, aldi, select, like, normal, groceri, store, anywai, kicker, reward, ga, save, bui, like, worth, groceri, youll, get, per, gallon, sever, ga, station, joke, pleas, keep, mind, albemarl, avoid, groceri, trip, dark, otherwis, youll, pleasantli, surpris, decent, groceri, store, exist, east, charlott]  \n",
       "1  [blackwel, south, bridg, bookshop, labyrinth, serious, could, get, lost, spread, three, floor, shop, cater, literari, need, close, affili, edinburgh, univers, comprehens, academ, depart, cover, everyth, medicin, media, studi, staff, provid, us, guidanc, your, feel, littl, overwhelm, your, someth, recreat, ground, floor, good, place, awai, afternoon, brows, shelv, also, music, depart, lot, scottish, classic, cd, nice, children, depart, basement, cafe, nero, cleverli, set, camp, start, new, tome, cup, coffe, hand, without, even, leav, build, unfortun, student, discount, although, loyalti, card, scheme, cant, rival, amazon, price, shop, open, pretti, late, think, best, larg, bookshop, edinburgh]  \n",
       "2                                                                                                                                                                                                                                                                                                                   [gener, loath, salespeopl, almost, didnt, purchas, iphon, yesterdai, couldnt, onlin, walk, line, store, readi, smack, first, pushi, salesperson, like, annoi, knat, sale, gui, chase, complet, surpris, saw, knew, want, spare, upsel, bull, make, want, kill, even, point, discount, elig, without, ask, end, chase, made, surprisingli, painless, deal, dont, know, entir, staff, oper, line, chase, know]  \n",
       "3                                                                                                                                                                                                                                                                                                                                                                                          [dont, write, lengthi, review, goe, great, place, excel, popcorn, standard, flavor, well, balanc, got, caramel, sour, appl, awesom, wife, got, marilyn, monro, coconut, white, chocol, awesom, fresh, got, wife, even, fresh, dai, later, dont, ask, last, long, major, self, control, mine, gone, hour, well, done, concept, execut]  \n",
       "4                                                                                                                                                                                    [best, thai, food, experienc, toronto, quit, possibl, best, period, food, servic, amaz, restaur, deceiv, outsid, base, restaur, locat, howev, interior, decor, warm, invit, quaint, suitabl, casual, friendli, get, togeth, yet, would, wonder, spot, romant, dinner, well, whether, dine, take, mengrai, sure, disappoint, great, valu, monei, suggest, mango, salad, cold, spring, roll, green, thai, curri, chicken, basil, cours, signatur, pineappl, dish, worth, experi, well, great, place, gluten, free, dairi, free, diet, requir]  "
      ]
     },
     "execution_count": 86,
     "metadata": {},
     "output_type": "execute_result"
    }
   ],
   "source": [
    "# Create Feature Set\n",
    "df2['text_tokens'] = df2['text'].apply(lambda x: word_tokenize(x.lower()))\n",
    "df2['text_tokens'] = df2['text_tokens'].apply(lambda x: clean(x))  \n",
    "df2.head()"
   ]
  },
  {
   "cell_type": "markdown",
   "metadata": {},
   "source": [
    "### Creating a Feature Set\n",
    "\n",
    "Creating a feature set of the top 2000 words for dimensionality reduction. The model will look at the presence of frequently occuring words in the texts to classify the texts, rather than looking at words with only a few occurrence among multiple texts which may not be accurate in classification."
   ]
  },
  {
   "cell_type": "code",
   "execution_count": 87,
   "metadata": {},
   "outputs": [
    {
     "data": {
      "text/html": [
       "<div>\n",
       "<style scoped>\n",
       "    .dataframe tbody tr th:only-of-type {\n",
       "        vertical-align: middle;\n",
       "    }\n",
       "\n",
       "    .dataframe tbody tr th {\n",
       "        vertical-align: top;\n",
       "    }\n",
       "\n",
       "    .dataframe thead th {\n",
       "        text-align: right;\n",
       "    }\n",
       "</style>\n",
       "<table border=\"1\" class=\"dataframe\">\n",
       "  <thead>\n",
       "    <tr style=\"text-align: right;\">\n",
       "      <th></th>\n",
       "      <th>store</th>\n",
       "      <th>on</th>\n",
       "      <th>like</th>\n",
       "      <th>get</th>\n",
       "      <th>place</th>\n",
       "      <th>shop</th>\n",
       "      <th>time</th>\n",
       "      <th>look</th>\n",
       "      <th>would</th>\n",
       "      <th>price</th>\n",
       "      <th>...</th>\n",
       "      <th>electr</th>\n",
       "      <th>rid</th>\n",
       "      <th>kohl</th>\n",
       "      <th>degre</th>\n",
       "      <th>field</th>\n",
       "      <th>stuttgart</th>\n",
       "      <th>verk</th>\n",
       "      <th>lie</th>\n",
       "      <th>enjoy</th>\n",
       "      <th>librari</th>\n",
       "    </tr>\n",
       "  </thead>\n",
       "  <tbody>\n",
       "    <tr>\n",
       "      <th>0</th>\n",
       "      <td>True</td>\n",
       "      <td>False</td>\n",
       "      <td>True</td>\n",
       "      <td>True</td>\n",
       "      <td>False</td>\n",
       "      <td>True</td>\n",
       "      <td>False</td>\n",
       "      <td>True</td>\n",
       "      <td>False</td>\n",
       "      <td>True</td>\n",
       "      <td>...</td>\n",
       "      <td>False</td>\n",
       "      <td>False</td>\n",
       "      <td>False</td>\n",
       "      <td>False</td>\n",
       "      <td>False</td>\n",
       "      <td>False</td>\n",
       "      <td>False</td>\n",
       "      <td>False</td>\n",
       "      <td>False</td>\n",
       "      <td>False</td>\n",
       "    </tr>\n",
       "    <tr>\n",
       "      <th>1</th>\n",
       "      <td>False</td>\n",
       "      <td>False</td>\n",
       "      <td>False</td>\n",
       "      <td>True</td>\n",
       "      <td>True</td>\n",
       "      <td>True</td>\n",
       "      <td>False</td>\n",
       "      <td>False</td>\n",
       "      <td>False</td>\n",
       "      <td>True</td>\n",
       "      <td>...</td>\n",
       "      <td>False</td>\n",
       "      <td>False</td>\n",
       "      <td>False</td>\n",
       "      <td>False</td>\n",
       "      <td>False</td>\n",
       "      <td>False</td>\n",
       "      <td>False</td>\n",
       "      <td>False</td>\n",
       "      <td>False</td>\n",
       "      <td>False</td>\n",
       "    </tr>\n",
       "    <tr>\n",
       "      <th>2</th>\n",
       "      <td>True</td>\n",
       "      <td>False</td>\n",
       "      <td>True</td>\n",
       "      <td>False</td>\n",
       "      <td>False</td>\n",
       "      <td>False</td>\n",
       "      <td>False</td>\n",
       "      <td>False</td>\n",
       "      <td>False</td>\n",
       "      <td>False</td>\n",
       "      <td>...</td>\n",
       "      <td>False</td>\n",
       "      <td>False</td>\n",
       "      <td>False</td>\n",
       "      <td>False</td>\n",
       "      <td>False</td>\n",
       "      <td>False</td>\n",
       "      <td>False</td>\n",
       "      <td>False</td>\n",
       "      <td>False</td>\n",
       "      <td>False</td>\n",
       "    </tr>\n",
       "    <tr>\n",
       "      <th>3</th>\n",
       "      <td>False</td>\n",
       "      <td>False</td>\n",
       "      <td>False</td>\n",
       "      <td>False</td>\n",
       "      <td>True</td>\n",
       "      <td>False</td>\n",
       "      <td>False</td>\n",
       "      <td>False</td>\n",
       "      <td>False</td>\n",
       "      <td>False</td>\n",
       "      <td>...</td>\n",
       "      <td>False</td>\n",
       "      <td>False</td>\n",
       "      <td>False</td>\n",
       "      <td>False</td>\n",
       "      <td>False</td>\n",
       "      <td>False</td>\n",
       "      <td>False</td>\n",
       "      <td>False</td>\n",
       "      <td>False</td>\n",
       "      <td>False</td>\n",
       "    </tr>\n",
       "    <tr>\n",
       "      <th>4</th>\n",
       "      <td>False</td>\n",
       "      <td>False</td>\n",
       "      <td>False</td>\n",
       "      <td>True</td>\n",
       "      <td>True</td>\n",
       "      <td>False</td>\n",
       "      <td>False</td>\n",
       "      <td>False</td>\n",
       "      <td>True</td>\n",
       "      <td>False</td>\n",
       "      <td>...</td>\n",
       "      <td>False</td>\n",
       "      <td>False</td>\n",
       "      <td>False</td>\n",
       "      <td>False</td>\n",
       "      <td>False</td>\n",
       "      <td>False</td>\n",
       "      <td>False</td>\n",
       "      <td>False</td>\n",
       "      <td>False</td>\n",
       "      <td>False</td>\n",
       "    </tr>\n",
       "  </tbody>\n",
       "</table>\n",
       "<p>5 rows × 2000 columns</p>\n",
       "</div>"
      ],
      "text/plain": [
       "   store     on   like    get  place   shop   time   look  would  price  ...  \\\n",
       "0   True  False   True   True  False   True  False   True  False   True  ...   \n",
       "1  False  False  False   True   True   True  False  False  False   True  ...   \n",
       "2   True  False   True  False  False  False  False  False  False  False  ...   \n",
       "3  False  False  False  False   True  False  False  False  False  False  ...   \n",
       "4  False  False  False   True   True  False  False  False   True  False  ...   \n",
       "\n",
       "   electr    rid   kohl  degre  field  stuttgart   verk    lie  enjoy  librari  \n",
       "0   False  False  False  False  False      False  False  False  False    False  \n",
       "1   False  False  False  False  False      False  False  False  False    False  \n",
       "2   False  False  False  False  False      False  False  False  False    False  \n",
       "3   False  False  False  False  False      False  False  False  False    False  \n",
       "4   False  False  False  False  False      False  False  False  False    False  \n",
       "\n",
       "[5 rows x 2000 columns]"
      ]
     },
     "execution_count": 87,
     "metadata": {},
     "output_type": "execute_result"
    }
   ],
   "source": [
    "# Feature set with only the top 2000 \n",
    "def document_features(df, stemmed_tokens):\n",
    "    doc_features = []\n",
    "    for index, row in df.iterrows():\n",
    "        features = {}\n",
    "        for word in all_word_features:\n",
    "            # get term occurence: true if it's in the word_features, false if it's not\n",
    "            features[word] = (word in row[stemmed_tokens])\n",
    "        doc_features.append(features)\n",
    "    return doc_features\n",
    "\n",
    "all_words_feature_set = pd.DataFrame(document_features(df2, 'text_tokens'), index = df2.index)\n",
    "all_words_feature_set.head()"
   ]
  },
  {
   "cell_type": "markdown",
   "metadata": {},
   "source": [
    "### Create Term Frequency (TF) Bag of Words\n",
    "\n",
    "A Term Frequency Bag of Words generates a collection of text documents into numerical feature vectors. This might provide a better performance than a normal Bag of Words as it shows the occurrence of individual terms in the text which may increase the sentiment of the text."
   ]
  },
  {
   "cell_type": "code",
   "execution_count": 88,
   "metadata": {},
   "outputs": [
    {
     "data": {
      "text/html": [
       "<div>\n",
       "<style scoped>\n",
       "    .dataframe tbody tr th:only-of-type {\n",
       "        vertical-align: middle;\n",
       "    }\n",
       "\n",
       "    .dataframe tbody tr th {\n",
       "        vertical-align: top;\n",
       "    }\n",
       "\n",
       "    .dataframe thead th {\n",
       "        text-align: right;\n",
       "    }\n",
       "</style>\n",
       "<table border=\"1\" class=\"dataframe\">\n",
       "  <thead>\n",
       "    <tr style=\"text-align: right;\">\n",
       "      <th></th>\n",
       "      <th>albemarl</th>\n",
       "      <th>aldi</th>\n",
       "      <th>alwai</th>\n",
       "      <th>anywai</th>\n",
       "      <th>appeal</th>\n",
       "      <th>around</th>\n",
       "      <th>avoid</th>\n",
       "      <th>bake</th>\n",
       "      <th>bakeri</th>\n",
       "      <th>bui</th>\n",
       "      <th>...</th>\n",
       "      <th>bidul</th>\n",
       "      <th>dendroit</th>\n",
       "      <th>foutoir</th>\n",
       "      <th>giqu</th>\n",
       "      <th>quautr</th>\n",
       "      <th>typiqu</th>\n",
       "      <th>ussi</th>\n",
       "      <th>wellesli</th>\n",
       "      <th>differnt</th>\n",
       "      <th>movign</th>\n",
       "    </tr>\n",
       "  </thead>\n",
       "  <tbody>\n",
       "    <tr>\n",
       "      <th>0</th>\n",
       "      <td>2.0</td>\n",
       "      <td>1.0</td>\n",
       "      <td>1.0</td>\n",
       "      <td>1.0</td>\n",
       "      <td>1.0</td>\n",
       "      <td>1.0</td>\n",
       "      <td>1.0</td>\n",
       "      <td>1.0</td>\n",
       "      <td>1.0</td>\n",
       "      <td>1.0</td>\n",
       "      <td>...</td>\n",
       "      <td>0.0</td>\n",
       "      <td>0.0</td>\n",
       "      <td>0.0</td>\n",
       "      <td>0.0</td>\n",
       "      <td>0.0</td>\n",
       "      <td>0.0</td>\n",
       "      <td>0.0</td>\n",
       "      <td>0.0</td>\n",
       "      <td>0.0</td>\n",
       "      <td>0.0</td>\n",
       "    </tr>\n",
       "    <tr>\n",
       "      <th>1</th>\n",
       "      <td>0.0</td>\n",
       "      <td>0.0</td>\n",
       "      <td>0.0</td>\n",
       "      <td>0.0</td>\n",
       "      <td>0.0</td>\n",
       "      <td>0.0</td>\n",
       "      <td>0.0</td>\n",
       "      <td>0.0</td>\n",
       "      <td>0.0</td>\n",
       "      <td>0.0</td>\n",
       "      <td>...</td>\n",
       "      <td>0.0</td>\n",
       "      <td>0.0</td>\n",
       "      <td>0.0</td>\n",
       "      <td>0.0</td>\n",
       "      <td>0.0</td>\n",
       "      <td>0.0</td>\n",
       "      <td>0.0</td>\n",
       "      <td>0.0</td>\n",
       "      <td>0.0</td>\n",
       "      <td>0.0</td>\n",
       "    </tr>\n",
       "    <tr>\n",
       "      <th>2</th>\n",
       "      <td>0.0</td>\n",
       "      <td>0.0</td>\n",
       "      <td>0.0</td>\n",
       "      <td>0.0</td>\n",
       "      <td>0.0</td>\n",
       "      <td>0.0</td>\n",
       "      <td>0.0</td>\n",
       "      <td>0.0</td>\n",
       "      <td>0.0</td>\n",
       "      <td>0.0</td>\n",
       "      <td>...</td>\n",
       "      <td>0.0</td>\n",
       "      <td>0.0</td>\n",
       "      <td>0.0</td>\n",
       "      <td>0.0</td>\n",
       "      <td>0.0</td>\n",
       "      <td>0.0</td>\n",
       "      <td>0.0</td>\n",
       "      <td>0.0</td>\n",
       "      <td>0.0</td>\n",
       "      <td>0.0</td>\n",
       "    </tr>\n",
       "    <tr>\n",
       "      <th>3</th>\n",
       "      <td>0.0</td>\n",
       "      <td>0.0</td>\n",
       "      <td>0.0</td>\n",
       "      <td>0.0</td>\n",
       "      <td>0.0</td>\n",
       "      <td>0.0</td>\n",
       "      <td>0.0</td>\n",
       "      <td>0.0</td>\n",
       "      <td>0.0</td>\n",
       "      <td>0.0</td>\n",
       "      <td>...</td>\n",
       "      <td>0.0</td>\n",
       "      <td>0.0</td>\n",
       "      <td>0.0</td>\n",
       "      <td>0.0</td>\n",
       "      <td>0.0</td>\n",
       "      <td>0.0</td>\n",
       "      <td>0.0</td>\n",
       "      <td>0.0</td>\n",
       "      <td>0.0</td>\n",
       "      <td>0.0</td>\n",
       "    </tr>\n",
       "    <tr>\n",
       "      <th>4</th>\n",
       "      <td>0.0</td>\n",
       "      <td>0.0</td>\n",
       "      <td>0.0</td>\n",
       "      <td>0.0</td>\n",
       "      <td>0.0</td>\n",
       "      <td>0.0</td>\n",
       "      <td>0.0</td>\n",
       "      <td>0.0</td>\n",
       "      <td>0.0</td>\n",
       "      <td>0.0</td>\n",
       "      <td>...</td>\n",
       "      <td>0.0</td>\n",
       "      <td>0.0</td>\n",
       "      <td>0.0</td>\n",
       "      <td>0.0</td>\n",
       "      <td>0.0</td>\n",
       "      <td>0.0</td>\n",
       "      <td>0.0</td>\n",
       "      <td>0.0</td>\n",
       "      <td>0.0</td>\n",
       "      <td>0.0</td>\n",
       "    </tr>\n",
       "  </tbody>\n",
       "</table>\n",
       "<p>5 rows × 31116 columns</p>\n",
       "</div>"
      ],
      "text/plain": [
       "   albemarl  aldi  alwai  anywai  appeal  around  avoid  bake  bakeri  bui  \\\n",
       "0       2.0   1.0    1.0     1.0     1.0     1.0    1.0   1.0     1.0  1.0   \n",
       "1       0.0   0.0    0.0     0.0     0.0     0.0    0.0   0.0     0.0  0.0   \n",
       "2       0.0   0.0    0.0     0.0     0.0     0.0    0.0   0.0     0.0  0.0   \n",
       "3       0.0   0.0    0.0     0.0     0.0     0.0    0.0   0.0     0.0  0.0   \n",
       "4       0.0   0.0    0.0     0.0     0.0     0.0    0.0   0.0     0.0  0.0   \n",
       "\n",
       "   ...  bidul  dendroit  foutoir  giqu  quautr  typiqu  ussi  wellesli  \\\n",
       "0  ...    0.0       0.0      0.0   0.0     0.0     0.0   0.0       0.0   \n",
       "1  ...    0.0       0.0      0.0   0.0     0.0     0.0   0.0       0.0   \n",
       "2  ...    0.0       0.0      0.0   0.0     0.0     0.0   0.0       0.0   \n",
       "3  ...    0.0       0.0      0.0   0.0     0.0     0.0   0.0       0.0   \n",
       "4  ...    0.0       0.0      0.0   0.0     0.0     0.0   0.0       0.0   \n",
       "\n",
       "   differnt  movign  \n",
       "0       0.0     0.0  \n",
       "1       0.0     0.0  \n",
       "2       0.0     0.0  \n",
       "3       0.0     0.0  \n",
       "4       0.0     0.0  \n",
       "\n",
       "[5 rows x 31116 columns]"
      ]
     },
     "execution_count": 88,
     "metadata": {},
     "output_type": "execute_result"
    }
   ],
   "source": [
    "import gensim\n",
    "from gensim import corpora\n",
    "\n",
    "# Build the dictionary\n",
    "mydict = corpora.Dictionary(df2['text_tokens'])\n",
    "vocab_len = len(mydict)\n",
    "\n",
    "def get_bow_features(df, stemmed_tokens):\n",
    "    test_features = []\n",
    "    for index, row in df.iterrows():\n",
    "        # Converting the tokens into the format that the model requires\n",
    "        features = gensim.matutils.corpus2csc([mydict.doc2bow(row[stemmed_tokens])],num_terms=vocab_len).toarray()[:,0]\n",
    "        test_features.append(features)\n",
    "    return test_features\n",
    "\n",
    "header = \",\".join(str(mydict[ele]) for ele in range(vocab_len))\n",
    "\n",
    "bow_all_word_features = pd.DataFrame(get_bow_features(df2, 'text_tokens'),                            \n",
    "                            columns=header.split(','), index = df2.index)\n",
    "\n",
    "bow_all_word_features.head()"
   ]
  },
  {
   "cell_type": "markdown",
   "metadata": {},
   "source": [
    "### Create Term Frequency-Inverse Document Frequency (TF-IDF) Bag of Words\n",
    "\n",
    "TF-IDF Assigns more weight to rare words and less weight to commonly occurring words. It tells us how frequent a word is in a document relative to its frequency in the entire corpus and evaluates the importance of a term in a corpus (a large set of text)."
   ]
  },
  {
   "cell_type": "code",
   "execution_count": 89,
   "metadata": {},
   "outputs": [
    {
     "data": {
      "text/html": [
       "<div>\n",
       "<style scoped>\n",
       "    .dataframe tbody tr th:only-of-type {\n",
       "        vertical-align: middle;\n",
       "    }\n",
       "\n",
       "    .dataframe tbody tr th {\n",
       "        vertical-align: top;\n",
       "    }\n",
       "\n",
       "    .dataframe thead th {\n",
       "        text-align: right;\n",
       "    }\n",
       "</style>\n",
       "<table border=\"1\" class=\"dataframe\">\n",
       "  <thead>\n",
       "    <tr style=\"text-align: right;\">\n",
       "      <th></th>\n",
       "      <th>albemarl</th>\n",
       "      <th>aldi</th>\n",
       "      <th>alwai</th>\n",
       "      <th>anywai</th>\n",
       "      <th>appeal</th>\n",
       "      <th>around</th>\n",
       "      <th>avoid</th>\n",
       "      <th>bake</th>\n",
       "      <th>bakeri</th>\n",
       "      <th>bui</th>\n",
       "      <th>...</th>\n",
       "      <th>bidul</th>\n",
       "      <th>dendroit</th>\n",
       "      <th>foutoir</th>\n",
       "      <th>giqu</th>\n",
       "      <th>quautr</th>\n",
       "      <th>typiqu</th>\n",
       "      <th>ussi</th>\n",
       "      <th>wellesli</th>\n",
       "      <th>differnt</th>\n",
       "      <th>movign</th>\n",
       "    </tr>\n",
       "  </thead>\n",
       "  <tbody>\n",
       "    <tr>\n",
       "      <th>0</th>\n",
       "      <td>0.391642</td>\n",
       "      <td>0.151165</td>\n",
       "      <td>0.038396</td>\n",
       "      <td>0.070178</td>\n",
       "      <td>0.097369</td>\n",
       "      <td>0.039835</td>\n",
       "      <td>0.077295</td>\n",
       "      <td>0.10626</td>\n",
       "      <td>0.102431</td>\n",
       "      <td>0.0351</td>\n",
       "      <td>...</td>\n",
       "      <td>0.0</td>\n",
       "      <td>0.0</td>\n",
       "      <td>0.0</td>\n",
       "      <td>0.0</td>\n",
       "      <td>0.0</td>\n",
       "      <td>0.0</td>\n",
       "      <td>0.0</td>\n",
       "      <td>0.0</td>\n",
       "      <td>0.0</td>\n",
       "      <td>0.0</td>\n",
       "    </tr>\n",
       "    <tr>\n",
       "      <th>1</th>\n",
       "      <td>0.000000</td>\n",
       "      <td>0.000000</td>\n",
       "      <td>0.000000</td>\n",
       "      <td>0.000000</td>\n",
       "      <td>0.000000</td>\n",
       "      <td>0.000000</td>\n",
       "      <td>0.000000</td>\n",
       "      <td>0.00000</td>\n",
       "      <td>0.000000</td>\n",
       "      <td>0.0000</td>\n",
       "      <td>...</td>\n",
       "      <td>0.0</td>\n",
       "      <td>0.0</td>\n",
       "      <td>0.0</td>\n",
       "      <td>0.0</td>\n",
       "      <td>0.0</td>\n",
       "      <td>0.0</td>\n",
       "      <td>0.0</td>\n",
       "      <td>0.0</td>\n",
       "      <td>0.0</td>\n",
       "      <td>0.0</td>\n",
       "    </tr>\n",
       "    <tr>\n",
       "      <th>2</th>\n",
       "      <td>0.000000</td>\n",
       "      <td>0.000000</td>\n",
       "      <td>0.000000</td>\n",
       "      <td>0.000000</td>\n",
       "      <td>0.000000</td>\n",
       "      <td>0.000000</td>\n",
       "      <td>0.000000</td>\n",
       "      <td>0.00000</td>\n",
       "      <td>0.000000</td>\n",
       "      <td>0.0000</td>\n",
       "      <td>...</td>\n",
       "      <td>0.0</td>\n",
       "      <td>0.0</td>\n",
       "      <td>0.0</td>\n",
       "      <td>0.0</td>\n",
       "      <td>0.0</td>\n",
       "      <td>0.0</td>\n",
       "      <td>0.0</td>\n",
       "      <td>0.0</td>\n",
       "      <td>0.0</td>\n",
       "      <td>0.0</td>\n",
       "    </tr>\n",
       "    <tr>\n",
       "      <th>3</th>\n",
       "      <td>0.000000</td>\n",
       "      <td>0.000000</td>\n",
       "      <td>0.000000</td>\n",
       "      <td>0.000000</td>\n",
       "      <td>0.000000</td>\n",
       "      <td>0.000000</td>\n",
       "      <td>0.000000</td>\n",
       "      <td>0.00000</td>\n",
       "      <td>0.000000</td>\n",
       "      <td>0.0000</td>\n",
       "      <td>...</td>\n",
       "      <td>0.0</td>\n",
       "      <td>0.0</td>\n",
       "      <td>0.0</td>\n",
       "      <td>0.0</td>\n",
       "      <td>0.0</td>\n",
       "      <td>0.0</td>\n",
       "      <td>0.0</td>\n",
       "      <td>0.0</td>\n",
       "      <td>0.0</td>\n",
       "      <td>0.0</td>\n",
       "    </tr>\n",
       "    <tr>\n",
       "      <th>4</th>\n",
       "      <td>0.000000</td>\n",
       "      <td>0.000000</td>\n",
       "      <td>0.000000</td>\n",
       "      <td>0.000000</td>\n",
       "      <td>0.000000</td>\n",
       "      <td>0.000000</td>\n",
       "      <td>0.000000</td>\n",
       "      <td>0.00000</td>\n",
       "      <td>0.000000</td>\n",
       "      <td>0.0000</td>\n",
       "      <td>...</td>\n",
       "      <td>0.0</td>\n",
       "      <td>0.0</td>\n",
       "      <td>0.0</td>\n",
       "      <td>0.0</td>\n",
       "      <td>0.0</td>\n",
       "      <td>0.0</td>\n",
       "      <td>0.0</td>\n",
       "      <td>0.0</td>\n",
       "      <td>0.0</td>\n",
       "      <td>0.0</td>\n",
       "    </tr>\n",
       "  </tbody>\n",
       "</table>\n",
       "<p>5 rows × 31116 columns</p>\n",
       "</div>"
      ],
      "text/plain": [
       "   albemarl      aldi     alwai    anywai    appeal    around     avoid  \\\n",
       "0  0.391642  0.151165  0.038396  0.070178  0.097369  0.039835  0.077295   \n",
       "1  0.000000  0.000000  0.000000  0.000000  0.000000  0.000000  0.000000   \n",
       "2  0.000000  0.000000  0.000000  0.000000  0.000000  0.000000  0.000000   \n",
       "3  0.000000  0.000000  0.000000  0.000000  0.000000  0.000000  0.000000   \n",
       "4  0.000000  0.000000  0.000000  0.000000  0.000000  0.000000  0.000000   \n",
       "\n",
       "      bake    bakeri     bui  ...  bidul  dendroit  foutoir  giqu  quautr  \\\n",
       "0  0.10626  0.102431  0.0351  ...    0.0       0.0      0.0   0.0     0.0   \n",
       "1  0.00000  0.000000  0.0000  ...    0.0       0.0      0.0   0.0     0.0   \n",
       "2  0.00000  0.000000  0.0000  ...    0.0       0.0      0.0   0.0     0.0   \n",
       "3  0.00000  0.000000  0.0000  ...    0.0       0.0      0.0   0.0     0.0   \n",
       "4  0.00000  0.000000  0.0000  ...    0.0       0.0      0.0   0.0     0.0   \n",
       "\n",
       "   typiqu  ussi  wellesli  differnt  movign  \n",
       "0     0.0   0.0       0.0       0.0     0.0  \n",
       "1     0.0   0.0       0.0       0.0     0.0  \n",
       "2     0.0   0.0       0.0       0.0     0.0  \n",
       "3     0.0   0.0       0.0       0.0     0.0  \n",
       "4     0.0   0.0       0.0       0.0     0.0  \n",
       "\n",
       "[5 rows x 31116 columns]"
      ]
     },
     "execution_count": 89,
     "metadata": {},
     "output_type": "execute_result"
    }
   ],
   "source": [
    "from gensim.models import TfidfModel\n",
    "\n",
    "# Build the dictionary\n",
    "mydict = corpora.Dictionary(df2['text_tokens'])\n",
    "vocab_len = len(mydict)\n",
    "corpus = [mydict.doc2bow(line) for line in df2['text_tokens']]\n",
    "tfidf_model = TfidfModel(corpus)\n",
    "\n",
    "def get_tfidf_features(df, stemmed_tokens):\n",
    "    test_features_tfidf = []\n",
    "    for index, row in df.iterrows():\n",
    "        doc = mydict.doc2bow(row[stemmed_tokens])\n",
    "        # Converting the tokens into the formet that the model requires\n",
    "        features = gensim.matutils.corpus2csc([tfidf_model[doc]], num_terms=vocab_len).toarray()[:,0]\n",
    "        test_features_tfidf.append(features)\n",
    "    return test_features_tfidf\n",
    "\n",
    "header = \",\".join(str(mydict[ele]) for ele in range(vocab_len))\n",
    "\n",
    "tfidf_all_words_features = pd.DataFrame(get_tfidf_features(df2, 'text_tokens'),                            \n",
    "                            columns=header.split(','), index = df2.index)\n",
    "tfidf_all_words_features.head()"
   ]
  },
  {
   "cell_type": "markdown",
   "metadata": {},
   "source": [
    "## Modelling\n",
    "\n",
    "In the modelling section, I will be using the following models for sentiment classification:\n",
    "1. Random Forest\n",
    "2. Logistic Regression\n",
    "3. Extreme Gradient Boosting (XGB) Classifier\n",
    "\n",
    "Random Forest Classifier is an ensemble method that creates and uses the result of multiple decision trees to make a prediction; it can handle non-linear relationships and high-dimensional data. It also has the feature_importances_ attribute, which reveals which features are influential in determining the sentiment of a text. \n",
    "\n",
    "Logistic Regression is a linear model that models the relationship between the features and the target variable as a linear combination. Logistic Regression also has the coef_ attribute, revealing the weight of terms in the two sentiment classes. Additionally, it can handle large datasets and be tuned to be more regularized to avoid overfitting, making it a good choice for sentiment analysis.\n",
    "\n",
    "As with Random Forest Classifiers, XGBoost combines multiple decision trees to make predictions. Therefore, it can handle non-linear relationships and high-dimensional data. It can also handle large datasets and has the feature_importances_ attrbiute which can be used to understand what features are important in determining the sentiment of a text.\n",
    "\n",
    "Therefore, I will use these 3 models due to its good performance and classification approaches.\n",
    "\n",
    "### Evaluation Criteria\n",
    "\n",
    "AUC-ROC is a metric that measures the ability of a model to distinguish between positive and negative classes. It plots the True Positive Rate (TPR) against the False Positive Rate (FPR) at various threshold values and computes the area under the resulting curve.\n",
    "\n",
    "The AUC-ROC is a robust metric that is insensitive to class imbalance, so it can be used to evaluate the performance of the sentiment analysis model with a class distribution of 60:40 for positive:negative respectively. A high AUC-ROC value indicates that the model is able to distinguish between positive and negative instances, regardless of the class distribution.\n",
    "\n",
    "ROC-AUC is expressed as a decimal value ranging from 0 to 1.\n",
    "\n",
    "A value of 0.5 represents a random guess, while a value of 1 represents a perfect model that perfectly separates positive and negative classes. A value of 0 represents a model that performs worse than random guessing.\n",
    "\n",
    " Thus, I will look for a model that produces the highest AUC-ROC score."
   ]
  },
  {
   "cell_type": "code",
   "execution_count": 90,
   "metadata": {},
   "outputs": [],
   "source": [
    "# pip install xgboost"
   ]
  },
  {
   "cell_type": "code",
   "execution_count": 91,
   "metadata": {},
   "outputs": [],
   "source": [
    "# Import models\n",
    "from sklearn.ensemble import RandomForestClassifier\n",
    "from sklearn.linear_model import LogisticRegression\n",
    "from xgboost import XGBClassifier\n",
    "\n",
    "# Import metric scores\n",
    "from sklearn.metrics import classification_report, confusion_matrix, roc_auc_score\n",
    "\n",
    "# Import train test split and seaborn\n",
    "import seaborn as sns\n",
    "from sklearn.model_selection import train_test_split"
   ]
  },
  {
   "cell_type": "code",
   "execution_count": 92,
   "metadata": {},
   "outputs": [],
   "source": [
    "# Specifying the random_state to ensure reproducable results\n",
    "models = []\n",
    "models.append(('LR', LogisticRegression(random_state=1)))\n",
    "models.append(('RF', RandomForestClassifier(random_state=1)))\n",
    "models.append(('XGB', XGBClassifier(random_state=1)))"
   ]
  },
  {
   "cell_type": "markdown",
   "metadata": {},
   "source": [
    "### Testing with Feature Set"
   ]
  },
  {
   "cell_type": "code",
   "execution_count": 93,
   "metadata": {},
   "outputs": [
    {
     "name": "stdout",
     "output_type": "stream",
     "text": [
      "Train the LR model now.\n"
     ]
    },
    {
     "name": "stderr",
     "output_type": "stream",
     "text": [
      "C:\\Users\\fangg\\anaconda3_new\\lib\\site-packages\\sklearn\\linear_model\\_logistic.py:814: ConvergenceWarning: lbfgs failed to converge (status=1):\n",
      "STOP: TOTAL NO. of ITERATIONS REACHED LIMIT.\n",
      "\n",
      "Increase the number of iterations (max_iter) or scale the data as shown in:\n",
      "    https://scikit-learn.org/stable/modules/preprocessing.html\n",
      "Please also refer to the documentation for alternative solver options:\n",
      "    https://scikit-learn.org/stable/modules/linear_model.html#logistic-regression\n",
      "  n_iter_i = _check_optimize_result(\n"
     ]
    },
    {
     "name": "stdout",
     "output_type": "stream",
     "text": [
      "Train the RF model now.\n",
      "Train the XGB model now.\n"
     ]
    },
    {
     "data": {
      "text/html": [
       "<div>\n",
       "<style scoped>\n",
       "    .dataframe tbody tr th:only-of-type {\n",
       "        vertical-align: middle;\n",
       "    }\n",
       "\n",
       "    .dataframe tbody tr th {\n",
       "        vertical-align: top;\n",
       "    }\n",
       "\n",
       "    .dataframe thead th {\n",
       "        text-align: right;\n",
       "    }\n",
       "</style>\n",
       "<table border=\"1\" class=\"dataframe\">\n",
       "  <thead>\n",
       "    <tr style=\"text-align: right;\">\n",
       "      <th></th>\n",
       "      <th>Name</th>\n",
       "      <th>ROC-AUC</th>\n",
       "    </tr>\n",
       "  </thead>\n",
       "  <tbody>\n",
       "    <tr>\n",
       "      <th>0</th>\n",
       "      <td>LR</td>\n",
       "      <td>0.855384</td>\n",
       "    </tr>\n",
       "    <tr>\n",
       "      <th>2</th>\n",
       "      <td>XGB</td>\n",
       "      <td>0.843417</td>\n",
       "    </tr>\n",
       "    <tr>\n",
       "      <th>1</th>\n",
       "      <td>RF</td>\n",
       "      <td>0.830711</td>\n",
       "    </tr>\n",
       "  </tbody>\n",
       "</table>\n",
       "</div>"
      ],
      "text/plain": [
       "  Name   ROC-AUC\n",
       "0   LR  0.855384\n",
       "2  XGB  0.843417\n",
       "1   RF  0.830711"
      ]
     },
     "execution_count": 93,
     "metadata": {},
     "output_type": "execute_result"
    },
    {
     "data": {
      "image/png": "[encoded data removed]",
      "text/plain": [
       "<Figure size 600x400 with 1 Axes>"
      ]
     },
     "metadata": {},
     "output_type": "display_data"
    }
   ],
   "source": [
    "X = all_words_feature_set # x is the columns, pass into the model\n",
    "y = df2[df2.columns[1:2]] # y is the target variable, sentiment\n",
    "\n",
    "X_train, X_test, y_train, y_test = train_test_split(X, y, test_size=0.3, random_state=42, stratify=y) # Stratify by the y column\n",
    "\n",
    "#plot chart\n",
    "plt.style.use('ggplot')\n",
    "plt.figure(figsize=(6,4))\n",
    "sns.countplot(data=y_train, x='sentiment')\n",
    "\n",
    "# Testing with Kfold cross-validation and 10 folds.\n",
    "from sklearn.model_selection import KFold\n",
    "import sklearn.model_selection as model_selection\n",
    "\n",
    "names = []\n",
    "scores = []\n",
    "for name,model in models:\n",
    "    print(\"Train the\",name,\"model now.\")\n",
    "    \n",
    "    model.fit(X_train, y_train.values.ravel())\n",
    "    y_pred = model.predict(X_test)\n",
    "    scores.append(roc_auc_score(y_test, y_pred))\n",
    "    names.append(name)\n",
    "\n",
    "models_comparison = pd.DataFrame({'Name':names, 'ROC-AUC':scores})\n",
    "models_comparison.sort_values(by='ROC-AUC', ascending=False)"
   ]
  },
  {
   "cell_type": "markdown",
   "metadata": {},
   "source": [
    "Based on the results of the classifiers, Random Forest has the best ROC-AUC score of 85.53%. The classes after splitting the data into train data is also quite balanced of around 40%:60% in the negative (0) and positive (1) sentiment respective."
   ]
  },
  {
   "cell_type": "markdown",
   "metadata": {},
   "source": [
    "### Testing with Term Frequency Bag of Words"
   ]
  },
  {
   "cell_type": "code",
   "execution_count": 94,
   "metadata": {},
   "outputs": [
    {
     "name": "stdout",
     "output_type": "stream",
     "text": [
      "Train the LR now.\n"
     ]
    },
    {
     "name": "stderr",
     "output_type": "stream",
     "text": [
      "C:\\Users\\fangg\\anaconda3_new\\lib\\site-packages\\sklearn\\linear_model\\_logistic.py:814: ConvergenceWarning: lbfgs failed to converge (status=1):\n",
      "STOP: TOTAL NO. of ITERATIONS REACHED LIMIT.\n",
      "\n",
      "Increase the number of iterations (max_iter) or scale the data as shown in:\n",
      "    https://scikit-learn.org/stable/modules/preprocessing.html\n",
      "Please also refer to the documentation for alternative solver options:\n",
      "    https://scikit-learn.org/stable/modules/linear_model.html#logistic-regression\n",
      "  n_iter_i = _check_optimize_result(\n"
     ]
    },
    {
     "name": "stdout",
     "output_type": "stream",
     "text": [
      "Train the RF now.\n",
      "Train the XGB now.\n"
     ]
    },
    {
     "data": {
      "text/html": [
       "<div>\n",
       "<style scoped>\n",
       "    .dataframe tbody tr th:only-of-type {\n",
       "        vertical-align: middle;\n",
       "    }\n",
       "\n",
       "    .dataframe tbody tr th {\n",
       "        vertical-align: top;\n",
       "    }\n",
       "\n",
       "    .dataframe thead th {\n",
       "        text-align: right;\n",
       "    }\n",
       "</style>\n",
       "<table border=\"1\" class=\"dataframe\">\n",
       "  <thead>\n",
       "    <tr style=\"text-align: right;\">\n",
       "      <th></th>\n",
       "      <th>Name</th>\n",
       "      <th>ROC-AUC</th>\n",
       "    </tr>\n",
       "  </thead>\n",
       "  <tbody>\n",
       "    <tr>\n",
       "      <th>0</th>\n",
       "      <td>LR</td>\n",
       "      <td>0.863556</td>\n",
       "    </tr>\n",
       "    <tr>\n",
       "      <th>2</th>\n",
       "      <td>XGB</td>\n",
       "      <td>0.851772</td>\n",
       "    </tr>\n",
       "    <tr>\n",
       "      <th>1</th>\n",
       "      <td>RF</td>\n",
       "      <td>0.828007</td>\n",
       "    </tr>\n",
       "  </tbody>\n",
       "</table>\n",
       "</div>"
      ],
      "text/plain": [
       "  Name   ROC-AUC\n",
       "0   LR  0.863556\n",
       "2  XGB  0.851772\n",
       "1   RF  0.828007"
      ]
     },
     "execution_count": 94,
     "metadata": {},
     "output_type": "execute_result"
    },
    {
     "data": {
      "image/png": "[encoded data removed]",
      "text/plain": [
       "<Figure size 600x400 with 1 Axes>"
      ]
     },
     "metadata": {},
     "output_type": "display_data"
    }
   ],
   "source": [
    "X = bow_all_word_features # x is the columns, pass into the model\n",
    "y = df2[df2.columns[1:2]] # y is the target variable, sentiment\n",
    "\n",
    "X_train, X_test, y_train, y_test = train_test_split(X, y, test_size=0.3, random_state=42, stratify=y) # Stratify by the y column\n",
    "\n",
    "#plot chart\n",
    "plt.style.use('ggplot')\n",
    "plt.figure(figsize=(6,4))\n",
    "sns.countplot(data=y_train, x='sentiment')\n",
    "\n",
    "\n",
    "names = []\n",
    "scores = []\n",
    "for name,model in models:\n",
    "    print(\"Train the\",name,\"now.\")\n",
    "    \n",
    "    model.fit(X_train, y_train.values.ravel())\n",
    "    y_pred = model.predict(X_test)\n",
    "    scores.append(roc_auc_score(y_test, y_pred))\n",
    "    names.append(name)\n",
    "\n",
    "models_comparison = pd.DataFrame({'Name':names, 'ROC-AUC':scores})\n",
    "models_comparison.sort_values(by='ROC-AUC', ascending=False)"
   ]
  },
  {
   "cell_type": "markdown",
   "metadata": {},
   "source": [
    "Compared to using the top 2000 feature set containing all words, the Term Frequency Bag of Words Feature Set performed better, with the highest ROC-AUC being 86.35% compared to 85.53% previously.\n",
    "\n",
    "This improvement in performance could be due to the higher occurrence of certain terms within the text that enabled the model to better assign a higher likelihood that the text belongs to a certain class.\n",
    "\n",
    "In addition, the Term Frequency Bag of Words contains more words like adjectives and adverbs, which may be crucial in classifying the texts, whereas only 2000 words are present in the top 2000 feature set."
   ]
  },
  {
   "cell_type": "markdown",
   "metadata": {},
   "source": [
    "### Testing with a feature of TF-IDF Bag of Words"
   ]
  },
  {
   "cell_type": "code",
   "execution_count": 95,
   "metadata": {},
   "outputs": [
    {
     "name": "stdout",
     "output_type": "stream",
     "text": [
      "Train the LogisticRegression(random_state=1) now.\n",
      "Train the RandomForestClassifier(random_state=1) now.\n",
      "Train the XGBClassifier(base_score=None, booster=None, callbacks=None,\n",
      "              colsample_bylevel=None, colsample_bynode=None,\n",
      "              colsample_bytree=None, early_stopping_rounds=None,\n",
      "              enable_categorical=False, eval_metric=None, feature_types=None,\n",
      "              gamma=None, gpu_id=None, grow_policy=None, importance_type=None,\n",
      "              interaction_constraints=None, learning_rate=None, max_bin=None,\n",
      "              max_cat_threshold=None, max_cat_to_onehot=None,\n",
      "              max_delta_step=None, max_depth=None, max_leaves=None,\n",
      "              min_child_weight=None, missing=nan, monotone_constraints=None,\n",
      "              n_estimators=100, n_jobs=None, num_parallel_tree=None,\n",
      "              predictor=None, random_state=1, ...) now.\n"
     ]
    },
    {
     "data": {
      "text/html": [
       "<div>\n",
       "<style scoped>\n",
       "    .dataframe tbody tr th:only-of-type {\n",
       "        vertical-align: middle;\n",
       "    }\n",
       "\n",
       "    .dataframe tbody tr th {\n",
       "        vertical-align: top;\n",
       "    }\n",
       "\n",
       "    .dataframe thead th {\n",
       "        text-align: right;\n",
       "    }\n",
       "</style>\n",
       "<table border=\"1\" class=\"dataframe\">\n",
       "  <thead>\n",
       "    <tr style=\"text-align: right;\">\n",
       "      <th></th>\n",
       "      <th>Name</th>\n",
       "      <th>ROC-AUC</th>\n",
       "    </tr>\n",
       "  </thead>\n",
       "  <tbody>\n",
       "    <tr>\n",
       "      <th>0</th>\n",
       "      <td>LR</td>\n",
       "      <td>0.863131</td>\n",
       "    </tr>\n",
       "    <tr>\n",
       "      <th>2</th>\n",
       "      <td>XGB</td>\n",
       "      <td>0.850770</td>\n",
       "    </tr>\n",
       "    <tr>\n",
       "      <th>1</th>\n",
       "      <td>RF</td>\n",
       "      <td>0.811694</td>\n",
       "    </tr>\n",
       "  </tbody>\n",
       "</table>\n",
       "</div>"
      ],
      "text/plain": [
       "  Name   ROC-AUC\n",
       "0   LR  0.863131\n",
       "2  XGB  0.850770\n",
       "1   RF  0.811694"
      ]
     },
     "execution_count": 95,
     "metadata": {},
     "output_type": "execute_result"
    },
    {
     "data": {
      "image/png": "[encoded data removed]",
      "text/plain": [
       "<Figure size 600x400 with 1 Axes>"
      ]
     },
     "metadata": {},
     "output_type": "display_data"
    }
   ],
   "source": [
    "X = tfidf_all_words_features # x is the columns, pass into the model\n",
    "y = df2[df2.columns[1:2]] # y is the target variable, sentiment\n",
    "\n",
    "X_train, X_test, y_train, y_test = train_test_split(X, y, test_size=0.3, random_state=42, stratify=y) # Stratify by the y column\n",
    "\n",
    "#plot chart\n",
    "plt.style.use('ggplot')\n",
    "plt.figure(figsize=(6,4))\n",
    "sns.countplot(data=y_train, x='sentiment')\n",
    "\n",
    "names = []\n",
    "scores = []\n",
    "for name,model in models:\n",
    "    print(\"Train the\",name,\"now.\")\n",
    "    model.fit(X_train, y_train.values.ravel())\n",
    "    y_pred = model.predict(X_test)\n",
    "    scores.append(roc_auc_score(y_test, y_pred))\n",
    "    names.append(name)\n",
    "\n",
    "models_comparison = pd.DataFrame({'Name':names, 'ROC-AUC':scores})\n",
    "models_comparison.sort_values(by='ROC-AUC', ascending=False)"
   ]
  },
  {
   "cell_type": "markdown",
   "metadata": {},
   "source": [
    "Compared to using the top 2000 feature set containing all words, the TF-IDF Bag of Words Feature Set performed slightly worse, with the highest accuracy being 86.31% compared to 86.35% previously.\n",
    "\n",
    "This decrease in performance could be due to the fact that TF-IDF assigned more weight to rare words and less weight to commonly occurring words, which could have been crucial in classifying the text's sentiment."
   ]
  },
  {
   "cell_type": "markdown",
   "metadata": {},
   "source": [
    "### Selecting best model\n",
    "\n",
    "Based on the 3 different feature sets and models, the Random Forest with a feature set of Term Frequency of All Words BOW performed the best. It has a classification accuracy of 84.5%. Therefore, I decided to tune this model to achieve better results."
   ]
  },
  {
   "cell_type": "code",
   "execution_count": 97,
   "metadata": {},
   "outputs": [],
   "source": [
    "X = bow_all_word_features\n",
    "\n",
    "X_train, X_test, y_train, y_test = train_test_split(X, y, test_size=0.3, random_state=42, stratify=y)"
   ]
  },
  {
   "cell_type": "code",
   "execution_count": 98,
   "metadata": {},
   "outputs": [],
   "source": [
    "names = []\n",
    "scores = []"
   ]
  },
  {
   "cell_type": "code",
   "execution_count": 99,
   "metadata": {},
   "outputs": [
    {
     "name": "stderr",
     "output_type": "stream",
     "text": [
      "C:\\Users\\fangg\\anaconda3_new\\lib\\site-packages\\sklearn\\linear_model\\_logistic.py:814: ConvergenceWarning: lbfgs failed to converge (status=1):\n",
      "STOP: TOTAL NO. of ITERATIONS REACHED LIMIT.\n",
      "\n",
      "Increase the number of iterations (max_iter) or scale the data as shown in:\n",
      "    https://scikit-learn.org/stable/modules/preprocessing.html\n",
      "Please also refer to the documentation for alternative solver options:\n",
      "    https://scikit-learn.org/stable/modules/linear_model.html#logistic-regression\n",
      "  n_iter_i = _check_optimize_result(\n"
     ]
    },
    {
     "name": "stdout",
     "output_type": "stream",
     "text": [
      "ROC_AUC Score: 0.863556222540544\n"
     ]
    }
   ],
   "source": [
    "classifier = LogisticRegression(random_state=1)\n",
    "classifier.fit(X_train, y_train.values.ravel())\n",
    "\n",
    "names.append(\"Non-tuned (LBFGS solver, C=1) model\")\n",
    "y_pred = classifier.predict(X_test) \n",
    "roc_score = roc_auc_score(y_test, y_pred)\n",
    "scores.append(roc_score)\n",
    "print(\"ROC_AUC Score: \" + str(roc_score))"
   ]
  },
  {
   "cell_type": "markdown",
   "metadata": {},
   "source": [
    "An error message shows that maximum iterations met. I will consider increasing iterations later."
   ]
  },
  {
   "cell_type": "markdown",
   "metadata": {},
   "source": [
    "### Model Tuning\n",
    "\n",
    "I will try tuning the different model's parameter to improve the classification accuracy."
   ]
  },
  {
   "cell_type": "code",
   "execution_count": 100,
   "metadata": {},
   "outputs": [
    {
     "name": "stdout",
     "output_type": "stream",
     "text": [
      "Possible parameters to be tuned for the Logistic Regression Classifier:\n"
     ]
    },
    {
     "data": {
      "text/plain": [
       "dict_keys(['C', 'class_weight', 'dual', 'fit_intercept', 'intercept_scaling', 'l1_ratio', 'max_iter', 'multi_class', 'n_jobs', 'penalty', 'random_state', 'solver', 'tol', 'verbose', 'warm_start'])"
      ]
     },
     "execution_count": 100,
     "metadata": {},
     "output_type": "execute_result"
    }
   ],
   "source": [
    "print(\"Possible parameters to be tuned for the Logistic Regression Classifier:\")\n",
    "LogisticRegression().get_params().keys()"
   ]
  },
  {
   "cell_type": "markdown",
   "metadata": {},
   "source": [
    "Of these parameters, I will only tune the following parameters:\n",
    "    \n",
    "C - C is the inverse of regularization strength. the default C value is 1.0. a smaller value specifies stronger regularization. tuning the regularization strength may increase the generalization performance of unseen data.\n",
    "\n",
    "solver - The default solver is 'lbfgs'. 'saga' is a suitable optimization algorithm for logistic regression models when handling sparse data, large-scale datasets, or when L1 regularization is used. Therefore, I test the 'saga' solver for optimzation problem.\n",
    "\n",
    "max_iter - Increasing the maximum number of iterations in a logistic regression model may improve sentiment classification accuracy as it allows convergence. However, it depends on the other parameters."
   ]
  },
  {
   "cell_type": "code",
   "execution_count": 101,
   "metadata": {},
   "outputs": [
    {
     "name": "stdout",
     "output_type": "stream",
     "text": [
      "ROC_AUC Score: 0.863556222540544\n"
     ]
    }
   ],
   "source": [
    "classifier = LogisticRegression(max_iter=200, random_state=1)\n",
    "classifier.fit(X_train, y_train.values.ravel())\n",
    "\n",
    "names.append(\"Tuned (LBFGS solver, C=1, Max Iter=200) model\")\n",
    "y_pred = classifier.predict(X_test) \n",
    "roc_score = roc_auc_score(y_test, y_pred)\n",
    "scores.append(roc_score)\n",
    "print(\"ROC_AUC Score: \" + str(roc_score))"
   ]
  },
  {
   "cell_type": "markdown",
   "metadata": {},
   "source": [
    "Increasing the max iterations did not change the ROC_AUC score. The lbfgs managed to converge yet the ROC_AUC score continues to be at 0.8635. Therefore, I will continue to use a max_iteration of 100 since there is no change in performance."
   ]
  },
  {
   "cell_type": "code",
   "execution_count": 103,
   "metadata": {
    "scrolled": true
   },
   "outputs": [
    {
     "name": "stderr",
     "output_type": "stream",
     "text": [
      "C:\\Users\\fangg\\anaconda3_new\\lib\\site-packages\\sklearn\\linear_model\\_logistic.py:814: ConvergenceWarning: lbfgs failed to converge (status=1):\n",
      "STOP: TOTAL NO. of ITERATIONS REACHED LIMIT.\n",
      "\n",
      "Increase the number of iterations (max_iter) or scale the data as shown in:\n",
      "    https://scikit-learn.org/stable/modules/preprocessing.html\n",
      "Please also refer to the documentation for alternative solver options:\n",
      "    https://scikit-learn.org/stable/modules/linear_model.html#logistic-regression\n",
      "  n_iter_i = _check_optimize_result(\n"
     ]
    },
    {
     "name": "stdout",
     "output_type": "stream",
     "text": [
      "ROC_AUC Score: 0.8653746338986545\n"
     ]
    }
   ],
   "source": [
    "# Trying a stronger regularization.\n",
    "classifier = LogisticRegression(C=0.5,  random_state=1)\n",
    "classifier.fit(X_train, y_train.values.ravel())\n",
    "\n",
    "names.append(\"Tuned (C=0.5, LBFGS solver) Model\")\n",
    "y_pred = classifier.predict(X_test) \n",
    "roc_score = roc_auc_score(y_test, y_pred)\n",
    "\n",
    "scores.append(roc_score)\n",
    "print(\"ROC_AUC Score: \" + str(roc_score))"
   ]
  },
  {
   "cell_type": "markdown",
   "metadata": {},
   "source": [
    "With a stronger regularization, lower C value, the performance improved to 86.53%. A stronger generalization may have caused the model to be less underfit, being able to capture the true relationship between the variables, thus improving the classification performance."
   ]
  },
  {
   "cell_type": "code",
   "execution_count": 104,
   "metadata": {},
   "outputs": [
    {
     "name": "stderr",
     "output_type": "stream",
     "text": [
      "C:\\Users\\fangg\\anaconda3_new\\lib\\site-packages\\sklearn\\linear_model\\_sag.py:352: ConvergenceWarning: The max_iter was reached which means the coef_ did not converge\n",
      "  warnings.warn(\n"
     ]
    },
    {
     "name": "stdout",
     "output_type": "stream",
     "text": [
      "ROC_AUC Score: 0.8686488428911979\n"
     ]
    }
   ],
   "source": [
    "# Trying a stronger regularization with SAGA solver\n",
    "classifier = LogisticRegression(C=0.5, solver='saga', random_state=1)\n",
    "classifier.fit(X_train, y_train.values.ravel())\n",
    "\n",
    "names.append(\"Tuned (C=0.5, SAGA solver) Model\")\n",
    "y_pred = classifier.predict(X_test) \n",
    "roc_score = roc_auc_score(y_test, y_pred)\n",
    "\n",
    "scores.append(roc_score)\n",
    "print(\"ROC_AUC Score: \" + str(roc_score))"
   ]
  },
  {
   "cell_type": "markdown",
   "metadata": {},
   "source": [
    "When using both SAGA solver and a C value of 0.5, the ROC_AUC performed the best. A C value of 0.5 provides a stronger regularization for the dataset, reducing underfitting. SAGA, an optimzation solver, can handle sparse data better than LBFGS. These two benefits combined produces the best results, an ROC_AUC score of 86.86%."
   ]
  },
  {
   "cell_type": "markdown",
   "metadata": {},
   "source": [
    "# Evaluation - Best Model"
   ]
  },
  {
   "cell_type": "code",
   "execution_count": 105,
   "metadata": {},
   "outputs": [
    {
     "data": {
      "text/html": [
       "<div>\n",
       "<style scoped>\n",
       "    .dataframe tbody tr th:only-of-type {\n",
       "        vertical-align: middle;\n",
       "    }\n",
       "\n",
       "    .dataframe tbody tr th {\n",
       "        vertical-align: top;\n",
       "    }\n",
       "\n",
       "    .dataframe thead th {\n",
       "        text-align: right;\n",
       "    }\n",
       "</style>\n",
       "<table border=\"1\" class=\"dataframe\">\n",
       "  <thead>\n",
       "    <tr style=\"text-align: right;\">\n",
       "      <th></th>\n",
       "      <th>Name</th>\n",
       "      <th>ROC-AUC</th>\n",
       "    </tr>\n",
       "  </thead>\n",
       "  <tbody>\n",
       "    <tr>\n",
       "      <th>3</th>\n",
       "      <td>Tuned (C=0.5, SAGA solver) Model</td>\n",
       "      <td>0.868649</td>\n",
       "    </tr>\n",
       "    <tr>\n",
       "      <th>2</th>\n",
       "      <td>Tuned (C=0.5, LBFGS solver) Model</td>\n",
       "      <td>0.865375</td>\n",
       "    </tr>\n",
       "    <tr>\n",
       "      <th>0</th>\n",
       "      <td>Non-tuned (LBFGS solver, C=1) model</td>\n",
       "      <td>0.863556</td>\n",
       "    </tr>\n",
       "    <tr>\n",
       "      <th>1</th>\n",
       "      <td>Tuned (LBFGS solver, C=1, Max Iter=200) model</td>\n",
       "      <td>0.863556</td>\n",
       "    </tr>\n",
       "  </tbody>\n",
       "</table>\n",
       "</div>"
      ],
      "text/plain": [
       "                                            Name   ROC-AUC\n",
       "3               Tuned (C=0.5, SAGA solver) Model  0.868649\n",
       "2              Tuned (C=0.5, LBFGS solver) Model  0.865375\n",
       "0            Non-tuned (LBFGS solver, C=1) model  0.863556\n",
       "1  Tuned (LBFGS solver, C=1, Max Iter=200) model  0.863556"
      ]
     },
     "execution_count": 105,
     "metadata": {},
     "output_type": "execute_result"
    }
   ],
   "source": [
    "models_comparison = pd.DataFrame({'Name':names, 'ROC-AUC':scores})\n",
    "models_comparison.sort_values(by='ROC-AUC', ascending=False)"
   ]
  },
  {
   "cell_type": "markdown",
   "metadata": {},
   "source": [
    "The best model is the Logistic Regression with a C value of 1 and the SAGA solver. It has an ROC_AUC value of 86.86%."
   ]
  },
  {
   "cell_type": "code",
   "execution_count": 104,
   "metadata": {},
   "outputs": [
    {
     "name": "stderr",
     "output_type": "stream",
     "text": [
      "C:\\Users\\fangg\\anaconda3_new\\lib\\site-packages\\sklearn\\linear_model\\_sag.py:352: ConvergenceWarning: The max_iter was reached which means the coef_ did not converge\n",
      "  warnings.warn(\n"
     ]
    },
    {
     "name": "stdout",
     "output_type": "stream",
     "text": [
      "ROC_AUC Score: 0.8686488428911979\n"
     ]
    }
   ],
   "source": [
    "# Trying a stronger regularization with SAGA solver\n",
    "classifier = LogisticRegression(C=0.5, solver='saga', random_state=1)\n",
    "classifier.fit(X_train, y_train.values.ravel())\n",
    "\n",
    "names.append(\"Tuned (C=0.5, SAGA solver) Model\")\n",
    "y_pred = classifier.predict(X_test) \n",
    "roc_score = roc_auc_score(y_test, y_pred)\n",
    "\n",
    "scores.append(roc_score)\n",
    "print(\"ROC_AUC Score: \" + str(roc_score))"
   ]
  },
  {
   "cell_type": "code",
   "execution_count": 106,
   "metadata": {
    "scrolled": false
   },
   "outputs": [
    {
     "name": "stdout",
     "output_type": "stream",
     "text": [
      "              precision    recall  f1-score   support\n",
      "\n",
      "    positive       0.87      0.82      0.84      1837\n",
      "    negative       0.88      0.92      0.90      2751\n",
      "\n",
      "    accuracy                           0.88      4588\n",
      "   macro avg       0.88      0.87      0.87      4588\n",
      "weighted avg       0.88      0.88      0.88      4588\n",
      "\n",
      "ROC_AUC Score: 0.8686488428911979\n",
      "Accuracy Score: 0.8781604184829991\n"
     ]
    },
    {
     "data": {
      "image/png": "[encoded data removed]",
      "text/plain": [
       "<Figure size 640x480 with 1 Axes>"
      ]
     },
     "metadata": {},
     "output_type": "display_data"
    }
   ],
   "source": [
    "cm = confusion_matrix(y_test, y_pred)\n",
    "\n",
    "names = ['True Negative','False Positive','False Negative','True Positive']\n",
    "counts = [\"{0:0.0f} values\".format(value) for value in cm.flatten()]\n",
    "percentages = [\"{0:.2%}\".format(value) for value in cm.flatten()/np.sum(cm)]\n",
    "labels = [f\"{v1}\\n{v2} ({v3})\" for v1, v2, v3 in zip(names,counts,percentages)]\n",
    "labels = np.asarray(labels).reshape(2,2)\n",
    "ycategories = ['Negative', 'Positive']\n",
    "xcategories = ['Predicted Negative', 'Predicted Positive']\n",
    "off_diag_mask = np.eye(*cm.shape, dtype=bool)\n",
    "\n",
    "fig = plt.figure()\n",
    "con_mat = sns.heatmap(cm, annot=labels, annot_kws={\"size\": 15}, vmin=0, vmax=3000, mask=~off_diag_mask, cmap='Greens', fmt='', cbar=False, yticklabels=ycategories, xticklabels=xcategories)\n",
    "con_mat = sns.heatmap(cm, annot=labels, annot_kws={\"size\": 15}, vmin=0, vmax=3000, mask=off_diag_mask, cmap='Reds', fmt='', cbar=False, yticklabels=ycategories, xticklabels=xcategories)\n",
    "con_mat.set(xlabel=\"Predicted Class\", ylabel=\"Class\", title='Confusion Matrix of Logistic Regression Model')\n",
    "con_mat\n",
    "\n",
    "from sklearn.metrics import classification_report, accuracy_score\n",
    "\n",
    "print(classification_report(y_test, y_pred,target_names=[\"positive\",\"negative\"]))\n",
    "\n",
    "print(\"ROC_AUC Score: \" + str(roc_auc_score(y_test, y_pred)))\n",
    "print(\"Accuracy Score: \" + str(accuracy_score(y_test, y_pred)))"
   ]
  },
  {
   "cell_type": "markdown",
   "metadata": {},
   "source": [
    "The Logistic Regression's classification is good with majority (87.82%) of the the texts being correct classification. Meanwhile, the false positive and negative rate is low at only 12.18%. \n",
    "\n",
    "A value of 0.5 represents a random guess, while a value of 1 represents a perfect model that perfectly separates positive and negative classes. A value of 0 represents a model that performs worse than random guessing. The classification has a high ROC_AUC score of 86.82%, which is roughly 15% away from being a perfect model. "
   ]
  },
  {
   "cell_type": "markdown",
   "metadata": {},
   "source": [
    "### Top words used for classification of a text"
   ]
  },
  {
   "cell_type": "code",
   "execution_count": 107,
   "metadata": {},
   "outputs": [
    {
     "name": "stdout",
     "output_type": "stream",
     "text": [
      "Top 10 keywords that classify a text to the positive sentiment:\n",
      "Variable: awesom     Importance: 1.0802697454\n",
      "Variable: amaz       Importance: 1.075789988\n",
      "Variable: great      Importance: 1.0617349836\n",
      "Variable: love       Importance: 0.9836114689\n",
      "Variable: perfect    Importance: 0.91089565\n",
      "Variable: best       Importance: 0.8339536972\n",
      "Variable: favorit    Importance: 0.8045344339\n",
      "Variable: definit    Importance: 0.7972994575\n",
      "Variable: friendli   Importance: 0.7773609381\n",
      "Variable: fantast    Importance: 0.7574508078\n",
      "Variable: thank      Importance: 0.7552324906\n"
     ]
    }
   ],
   "source": [
    "# Coefficients represent the relationship between the given feature and the target , \n",
    "# assuming that all the other features remain constant (conditional dependence).\n",
    "\n",
    "# Positive coefficient belong to the positive sentiment class.\n",
    "importances = list(classifier.coef_[0])\n",
    "feature_importances = [(feature, round(importance, 10)) for feature, importance in zip(bow_all_word_features.columns, importances)]\n",
    "feature_importances = sorted(feature_importances, key = lambda x: x[1], reverse = True)\n",
    "\n",
    "top_i = 0\n",
    "print(\"Top 10 keywords that classify a text to the positive sentiment:\")\n",
    "for pair in feature_importances:\n",
    "    print('Variable: {:10} Importance: {}'.format(*pair))\n",
    "    if top_i == 10:\n",
    "        break\n",
    "    top_i += 1"
   ]
  },
  {
   "cell_type": "code",
   "execution_count": 108,
   "metadata": {},
   "outputs": [
    {
     "name": "stdout",
     "output_type": "stream",
     "text": [
      "Top 10 keywords that classify a text to the negative sentiment:\n",
      "Variable: disappoint Importance: -1.4782812588\n",
      "Variable: rude       Importance: -1.4772943767\n",
      "Variable: worst      Importance: -1.2953428402\n",
      "Variable: horribl    Importance: -1.2200427237\n",
      "Variable: overpr     Importance: -0.8970383423\n",
      "Variable: poor       Importance: -0.8782863496\n",
      "Variable: terribl    Importance: -0.8577892175\n",
      "Variable: wors       Importance: -0.7272375992\n",
      "Variable: bother     Importance: -0.7145863619\n",
      "Variable: wast       Importance: -0.6989120573\n",
      "Variable: sad        Importance: -0.6958086705\n"
     ]
    }
   ],
   "source": [
    "# Coefficients represent the relationship between the given feature and the target , \n",
    "# assuming that all the other features remain constant (conditional dependence).\n",
    "\n",
    "# Negative coefficient belong to the negative sentiment class.\n",
    "importances = list(classifier.coef_[0])\n",
    "feature_importances = [(feature, round(importance, 10)) for feature, importance in zip(bow_all_word_features.columns, importances)]\n",
    "feature_importances = sorted(feature_importances, key = lambda x: x[1], reverse = True)\n",
    "\n",
    "# for pair in feature_importances:\n",
    "#     print(pair)\n",
    "\n",
    "importances = [(name, value) for (name,value) in feature_importances]\n",
    "importances.sort(key=lambda i:i[1], reverse=False)\n",
    "top_i = 0\n",
    "print(\"Top 10 keywords that classify a text to the negative sentiment:\")\n",
    "for pair in importances:\n",
    "    print('Variable: {:10} Importance: {}'.format(*pair))\n",
    "    if top_i == 10:\n",
    "        break\n",
    "    top_i += 1"
   ]
  },
  {
   "cell_type": "markdown",
   "metadata": {},
   "source": [
    "These are the top 10 features that are mostly used to classify a text to the postivie/negative sentiment. The terms are mostly adverbs/adjectives such as 'awesom' or 'disappoint'. Therefore, adjectives/adverbs are necessary in sentiment analysis.\n",
    "\n",
    "This also shows how well the Logistic Regression classifier learns from the data as all the terms used to classify the positive/negative sentiments in the model are correct terms used to determine the sentiment of a text from a human's perspective."
   ]
  },
  {
   "cell_type": "markdown",
   "metadata": {},
   "source": [
    "## Submission\n",
    "Export your completed work as HTML. Select **File** > **Download as** > **HTML (.html)**."
   ]
  }
 ],
 "metadata": {
  "kernelspec": {
   "display_name": "Python 3 (ipykernel)",
   "language": "python",
   "name": "python3"
  },
  "language_info": {
   "codemirror_mode": {
    "name": "ipython",
    "version": 3
   },
   "file_extension": ".py",
   "mimetype": "text/x-python",
   "name": "python",
   "nbconvert_exporter": "python",
   "pygments_lexer": "ipython3",
   "version": "3.9.13"
  }
 },
 "nbformat": 4,
 "nbformat_minor": 4
}
